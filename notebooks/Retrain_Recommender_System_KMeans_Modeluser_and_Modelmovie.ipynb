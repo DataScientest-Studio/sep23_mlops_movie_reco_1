{
 "cells": [
  {
   "cell_type": "markdown",
   "metadata": {
    "colab_type": "text",
    "id": "view-in-github"
   },
   "source": [
    "<a href=\"https://colab.research.google.com/github/rposhala/Recommender-System-on-MovieLens-dataset/blob/main/Item_based_Collaborative_Recommender_System_using_KNN.ipynb\" target=\"_parent\"><img src=\"https://colab.research.google.com/assets/colab-badge.svg\" alt=\"Open In Colab\"/></a>"
   ]
  },
  {
   "cell_type": "markdown",
   "metadata": {},
   "source": [
    "### KMeans clusteting model to build item-based collaborative Recommender System."
   ]
  },
  {
   "cell_type": "code",
   "execution_count": 4,
   "metadata": {
    "id": "bwSPLalV6Rca"
   },
   "outputs": [],
   "source": [
    "import os\n",
    "import numpy as np\n",
    "import pandas as pd\n",
    "import pickle\n",
    "from sklearn.cluster import KMeans\n",
    "from collections import Counter\n",
    "import matplotlib.pyplot as plt\n",
    "from sklearn.metrics import davies_bouldin_score\n",
    "from sklearn.metrics import calinski_harabasz_score\n",
    "import time\n",
    "start = time.time()"
   ]
  },
  {
   "cell_type": "code",
   "execution_count": 5,
   "metadata": {},
   "outputs": [
    {
     "data": {
      "text/html": [
       "<div>\n",
       "<style scoped>\n",
       "    .dataframe tbody tr th:only-of-type {\n",
       "        vertical-align: middle;\n",
       "    }\n",
       "\n",
       "    .dataframe tbody tr th {\n",
       "        vertical-align: top;\n",
       "    }\n",
       "\n",
       "    .dataframe thead th {\n",
       "        text-align: right;\n",
       "    }\n",
       "</style>\n",
       "<table border=\"1\" class=\"dataframe\">\n",
       "  <thead>\n",
       "    <tr style=\"text-align: right;\">\n",
       "      <th></th>\n",
       "      <th>num_retraining</th>\n",
       "      <th>retraining_time_seconds</th>\n",
       "      <th>num_users</th>\n",
       "      <th>db_score_reco_user_15</th>\n",
       "      <th>db_score_reco_user_25</th>\n",
       "      <th>db_score_reco_user_35</th>\n",
       "      <th>db_score_reco_user_45</th>\n",
       "      <th>db_score_reco_movie_15</th>\n",
       "      <th>db_score_reco_movie_25</th>\n",
       "      <th>db_score_reco_movie_35</th>\n",
       "      <th>db_score_reco_movie_45</th>\n",
       "      <th>ch_score_reco_user_15</th>\n",
       "      <th>ch_score_reco_user_25</th>\n",
       "      <th>ch_score_reco_user_35</th>\n",
       "      <th>ch_score_reco_user_45</th>\n",
       "      <th>ch_score_reco_movie_15</th>\n",
       "      <th>ch_score_reco_movie_25</th>\n",
       "      <th>ch_score_reco_movie_35</th>\n",
       "      <th>ch_score_reco_movie_45</th>\n",
       "    </tr>\n",
       "  </thead>\n",
       "  <tbody>\n",
       "    <tr>\n",
       "      <th>0</th>\n",
       "      <td>5</td>\n",
       "      <td>128</td>\n",
       "      <td>1031</td>\n",
       "      <td>0.49</td>\n",
       "      <td>0.47</td>\n",
       "      <td>0.48</td>\n",
       "      <td>0.49</td>\n",
       "      <td>0.50</td>\n",
       "      <td>0.46</td>\n",
       "      <td>0.47</td>\n",
       "      <td>0.50</td>\n",
       "      <td>4661223.31</td>\n",
       "      <td>8216597.87</td>\n",
       "      <td>11585096.11</td>\n",
       "      <td>14460864.73</td>\n",
       "      <td>2397366.70</td>\n",
       "      <td>4363759.47</td>\n",
       "      <td>6018190.88</td>\n",
       "      <td>7684525.94</td>\n",
       "    </tr>\n",
       "    <tr>\n",
       "      <th>1</th>\n",
       "      <td>4</td>\n",
       "      <td>103</td>\n",
       "      <td>1028</td>\n",
       "      <td>0.48</td>\n",
       "      <td>0.46</td>\n",
       "      <td>0.48</td>\n",
       "      <td>0.47</td>\n",
       "      <td>0.49</td>\n",
       "      <td>0.46</td>\n",
       "      <td>0.48</td>\n",
       "      <td>0.49</td>\n",
       "      <td>4799808.97</td>\n",
       "      <td>8224311.13</td>\n",
       "      <td>11597089.91</td>\n",
       "      <td>14870407.78</td>\n",
       "      <td>2398995.19</td>\n",
       "      <td>4325519.24</td>\n",
       "      <td>5948999.45</td>\n",
       "      <td>7233970.33</td>\n",
       "    </tr>\n",
       "    <tr>\n",
       "      <th>2</th>\n",
       "      <td>3</td>\n",
       "      <td>107</td>\n",
       "      <td>1025</td>\n",
       "      <td>0.48</td>\n",
       "      <td>0.47</td>\n",
       "      <td>0.48</td>\n",
       "      <td>0.49</td>\n",
       "      <td>0.51</td>\n",
       "      <td>0.47</td>\n",
       "      <td>0.48</td>\n",
       "      <td>0.49</td>\n",
       "      <td>4799547.16</td>\n",
       "      <td>8173292.35</td>\n",
       "      <td>11413949.36</td>\n",
       "      <td>14632536.44</td>\n",
       "      <td>2397836.74</td>\n",
       "      <td>4420995.60</td>\n",
       "      <td>5998433.92</td>\n",
       "      <td>7432989.03</td>\n",
       "    </tr>\n",
       "    <tr>\n",
       "      <th>3</th>\n",
       "      <td>2</td>\n",
       "      <td>120</td>\n",
       "      <td>1022</td>\n",
       "      <td>0.48</td>\n",
       "      <td>0.47</td>\n",
       "      <td>0.48</td>\n",
       "      <td>0.49</td>\n",
       "      <td>0.50</td>\n",
       "      <td>0.47</td>\n",
       "      <td>0.49</td>\n",
       "      <td>0.48</td>\n",
       "      <td>4798443.15</td>\n",
       "      <td>7923683.46</td>\n",
       "      <td>11328609.45</td>\n",
       "      <td>15287282.75</td>\n",
       "      <td>2426205.39</td>\n",
       "      <td>4408438.33</td>\n",
       "      <td>6114836.76</td>\n",
       "      <td>7596833.01</td>\n",
       "    </tr>\n",
       "    <tr>\n",
       "      <th>4</th>\n",
       "      <td>1</td>\n",
       "      <td>105</td>\n",
       "      <td>1017</td>\n",
       "      <td>0.48</td>\n",
       "      <td>0.46</td>\n",
       "      <td>0.48</td>\n",
       "      <td>0.48</td>\n",
       "      <td>0.49</td>\n",
       "      <td>0.47</td>\n",
       "      <td>0.48</td>\n",
       "      <td>0.49</td>\n",
       "      <td>4799630.92</td>\n",
       "      <td>8103524.14</td>\n",
       "      <td>11710949.65</td>\n",
       "      <td>14600583.88</td>\n",
       "      <td>2420551.32</td>\n",
       "      <td>4365204.24</td>\n",
       "      <td>5853676.87</td>\n",
       "      <td>7541252.13</td>\n",
       "    </tr>\n",
       "    <tr>\n",
       "      <th>5</th>\n",
       "      <td>0</td>\n",
       "      <td>0</td>\n",
       "      <td>0</td>\n",
       "      <td>0.00</td>\n",
       "      <td>0.00</td>\n",
       "      <td>0.00</td>\n",
       "      <td>0.00</td>\n",
       "      <td>0.00</td>\n",
       "      <td>0.00</td>\n",
       "      <td>0.00</td>\n",
       "      <td>0.00</td>\n",
       "      <td>0.00</td>\n",
       "      <td>0.00</td>\n",
       "      <td>0.00</td>\n",
       "      <td>0.00</td>\n",
       "      <td>0.00</td>\n",
       "      <td>0.00</td>\n",
       "      <td>0.00</td>\n",
       "      <td>0.00</td>\n",
       "    </tr>\n",
       "  </tbody>\n",
       "</table>\n",
       "</div>"
      ],
      "text/plain": [
       "   num_retraining  retraining_time_seconds  num_users  db_score_reco_user_15  \\\n",
       "0               5                      128       1031                   0.49   \n",
       "1               4                      103       1028                   0.48   \n",
       "2               3                      107       1025                   0.48   \n",
       "3               2                      120       1022                   0.48   \n",
       "4               1                      105       1017                   0.48   \n",
       "5               0                        0          0                   0.00   \n",
       "\n",
       "   db_score_reco_user_25  db_score_reco_user_35  db_score_reco_user_45  \\\n",
       "0                   0.47                   0.48                   0.49   \n",
       "1                   0.46                   0.48                   0.47   \n",
       "2                   0.47                   0.48                   0.49   \n",
       "3                   0.47                   0.48                   0.49   \n",
       "4                   0.46                   0.48                   0.48   \n",
       "5                   0.00                   0.00                   0.00   \n",
       "\n",
       "   db_score_reco_movie_15  db_score_reco_movie_25  db_score_reco_movie_35  \\\n",
       "0                    0.50                    0.46                    0.47   \n",
       "1                    0.49                    0.46                    0.48   \n",
       "2                    0.51                    0.47                    0.48   \n",
       "3                    0.50                    0.47                    0.49   \n",
       "4                    0.49                    0.47                    0.48   \n",
       "5                    0.00                    0.00                    0.00   \n",
       "\n",
       "   db_score_reco_movie_45  ch_score_reco_user_15  ch_score_reco_user_25  \\\n",
       "0                    0.50             4661223.31             8216597.87   \n",
       "1                    0.49             4799808.97             8224311.13   \n",
       "2                    0.49             4799547.16             8173292.35   \n",
       "3                    0.48             4798443.15             7923683.46   \n",
       "4                    0.49             4799630.92             8103524.14   \n",
       "5                    0.00                   0.00                   0.00   \n",
       "\n",
       "   ch_score_reco_user_35  ch_score_reco_user_45  ch_score_reco_movie_15  \\\n",
       "0            11585096.11            14460864.73              2397366.70   \n",
       "1            11597089.91            14870407.78              2398995.19   \n",
       "2            11413949.36            14632536.44              2397836.74   \n",
       "3            11328609.45            15287282.75              2426205.39   \n",
       "4            11710949.65            14600583.88              2420551.32   \n",
       "5                   0.00                   0.00                    0.00   \n",
       "\n",
       "   ch_score_reco_movie_25  ch_score_reco_movie_35  ch_score_reco_movie_45  \n",
       "0              4363759.47              6018190.88              7684525.94  \n",
       "1              4325519.24              5948999.45              7233970.33  \n",
       "2              4420995.60              5998433.92              7432989.03  \n",
       "3              4408438.33              6114836.76              7596833.01  \n",
       "4              4365204.24              5853676.87              7541252.13  \n",
       "5                    0.00                    0.00                    0.00  "
      ]
     },
     "execution_count": 5,
     "metadata": {},
     "output_type": "execute_result"
    }
   ],
   "source": [
    "score_param = pd.read_csv(\"../data/movie_reco_scores.csv\", sep = ',')\n",
    "score_param.head(10)"
   ]
  },
  {
   "cell_type": "code",
   "execution_count": 6,
   "metadata": {},
   "outputs": [],
   "source": [
    "df = score_param.drop(5)"
   ]
  },
  {
   "cell_type": "code",
   "execution_count": 53,
   "metadata": {},
   "outputs": [
    {
     "data": {
      "text/plain": [
       "Text(0, 0.5, 'retraining time (seconds)')"
      ]
     },
     "execution_count": 53,
     "metadata": {},
     "output_type": "execute_result"
    },
    {
     "data": {
      "image/png": "[encoded data removed]",
      "text/plain": [
       "<Figure size 800x600 with 4 Axes>"
      ]
     },
     "metadata": {},
     "output_type": "display_data"
    }
   ],
   "source": [
    "figure = plt.figure(figsize=(8, 6), layout='constrained')\n",
    "plt.subplot(3,2,1)\n",
    "# Get current axis\n",
    "ax = plt.gca()\n",
    "figure.suptitle('Evaluation dashboard', fontsize=15)\n",
    " \n",
    "# line plot for math marks\n",
    "df.plot(kind='line',\n",
    "        x='num_retraining',\n",
    "        y='db_score_reco_user_15',\n",
    "        color='green', ax=ax)\n",
    "\n",
    "df.plot(marker = 'o',\n",
    "        x='num_retraining',\n",
    "        y='db_score_reco_user_25', linewidth = 2,\n",
    "        color='red', ax=ax)\n",
    "df.plot(kind='line',\n",
    "        x='num_retraining',\n",
    "        y='db_score_reco_user_35',\n",
    "        color='darkviolet', ax=ax)\n",
    "df.plot(kind='line',\n",
    "        x='num_retraining',\n",
    "        y='db_score_reco_user_45',\n",
    "        color='blue', ax=ax)\n",
    "\n",
    "plt.ylabel(\"Davies-Bouldin score\", fontsize = 10)\n",
    "plt.legend('',frameon=False)\n",
    "\n",
    "plt.subplot(3,2,2)\n",
    "# Get current axis\n",
    "ax = plt.gca()\n",
    " \n",
    "# line plot for math marks\n",
    "df.plot(kind='line',\n",
    "        x='num_retraining',\n",
    "        y='ch_score_reco_user_15',\n",
    "        color='green', ax=ax)\n",
    "\n",
    "df.plot(kind='line',\n",
    "        x='num_retraining',\n",
    "        y='ch_score_reco_user_25',\n",
    "        color='red', ax=ax)\n",
    "df.plot(kind='line',\n",
    "        x='num_retraining',\n",
    "        y='ch_score_reco_user_35',\n",
    "        color='darkviolet', ax=ax)\n",
    "df.plot(kind='line',\n",
    "        x='num_retraining',\n",
    "        y='ch_score_reco_user_45',\n",
    "        color='blue', ax=ax)\n",
    "\n",
    "plt.ylabel(\"Calinski–Harabasz score\", fontsize = 10)\n",
    "plt.legend( ('15 Cluster', '25 Cluster', '35 Cluster', '45 Cluster'))\n",
    "\n",
    "plt.subplot(3,2,3)\n",
    "c=plt.plot(df['num_retraining'], df['num_users'], '-o', linewidth = 2)\n",
    "x=np.arange(1010,1050,8)\n",
    "plt.yticks(x)\n",
    "plt.xlabel(\"Numbers of retraining\", fontsize = 10)\n",
    "plt.ylabel(\"Numbers of Users\", fontsize = 10)\n",
    "\n",
    "plt.subplot(3,2,4)\n",
    "c=plt.plot(df['num_retraining'], df['retraining_time_seconds'], '-o', linewidth = 2)\n",
    "x=np.arange(100,140,8)\n",
    "plt.yticks(x)\n",
    "plt.xlabel(\"Numbers of retraining\", fontsize = 10)\n",
    "plt.ylabel(\"retraining time (seconds)\", fontsize = 10)\n"
   ]
  },
  {
   "cell_type": "code",
   "execution_count": 17,
   "metadata": {},
   "outputs": [],
   "source": [
    "df_score = pd.DataFrame({'num_retraining': 0,'retraining_time_seconds':0,'num_users':0,  'db_score_reco_user_15': 0, 'db_score_reco_user_25': 0, 'db_score_reco_user_35': 0, 'db_score_reco_user_45': 0, 'db_score_reco_movie_15': 0, 'db_score_reco_movie_25': 0, 'db_score_reco_movie_35': 0, 'db_score_reco_movie_45': 0, 'ch_score_reco_user_15': 0, 'ch_score_reco_user_25': 0, 'ch_score_reco_user_35': 0, 'ch_score_reco_user_45': 0, 'ch_score_reco_movie_15': 0, 'ch_score_reco_movie_25': 0, 'ch_score_reco_movie_35': 0, 'ch_score_reco_movie_45': 0,}, index=[0])\n",
    "df_score.to_csv('../data/movie_reco_scores.csv', sep=',', encoding='utf-8', index=False)"
   ]
  },
  {
   "cell_type": "markdown",
   "metadata": {},
   "source": [
    "#### Loading param"
   ]
  },
  {
   "cell_type": "code",
   "execution_count": 13,
   "metadata": {},
   "outputs": [
    {
     "data": {
      "text/html": [
       "<div>\n",
       "<style scoped>\n",
       "    .dataframe tbody tr th:only-of-type {\n",
       "        vertical-align: middle;\n",
       "    }\n",
       "\n",
       "    .dataframe tbody tr th {\n",
       "        vertical-align: top;\n",
       "    }\n",
       "\n",
       "    .dataframe thead th {\n",
       "        text-align: right;\n",
       "    }\n",
       "</style>\n",
       "<table border=\"1\" class=\"dataframe\">\n",
       "  <thead>\n",
       "    <tr style=\"text-align: right;\">\n",
       "      <th></th>\n",
       "      <th>num_retraining</th>\n",
       "      <th>retraining_time_seconds</th>\n",
       "      <th>num_users</th>\n",
       "      <th>db_score_reco_user_15</th>\n",
       "      <th>db_score_reco_user_25</th>\n",
       "      <th>db_score_reco_user_35</th>\n",
       "      <th>db_score_reco_user_45</th>\n",
       "      <th>db_score_reco_movie_15</th>\n",
       "      <th>db_score_reco_movie_25</th>\n",
       "      <th>db_score_reco_movie_35</th>\n",
       "      <th>db_score_reco_movie_45</th>\n",
       "      <th>ch_score_reco_user_15</th>\n",
       "      <th>ch_score_reco_user_25</th>\n",
       "      <th>ch_score_reco_user_35</th>\n",
       "      <th>ch_score_reco_user_45</th>\n",
       "      <th>ch_score_reco_movie_15</th>\n",
       "      <th>ch_score_reco_movie_25</th>\n",
       "      <th>ch_score_reco_movie_35</th>\n",
       "      <th>ch_score_reco_movie_45</th>\n",
       "    </tr>\n",
       "  </thead>\n",
       "  <tbody>\n",
       "    <tr>\n",
       "      <th>0</th>\n",
       "      <td>0</td>\n",
       "      <td>0</td>\n",
       "      <td>0</td>\n",
       "      <td>0</td>\n",
       "      <td>0</td>\n",
       "      <td>0</td>\n",
       "      <td>0</td>\n",
       "      <td>0</td>\n",
       "      <td>0</td>\n",
       "      <td>0</td>\n",
       "      <td>0</td>\n",
       "      <td>0</td>\n",
       "      <td>0</td>\n",
       "      <td>0</td>\n",
       "      <td>0</td>\n",
       "      <td>0</td>\n",
       "      <td>0</td>\n",
       "      <td>0</td>\n",
       "      <td>0</td>\n",
       "    </tr>\n",
       "  </tbody>\n",
       "</table>\n",
       "</div>"
      ],
      "text/plain": [
       "   num_retraining  retraining_time_seconds  num_users  db_score_reco_user_15  \\\n",
       "0               0                        0          0                      0   \n",
       "\n",
       "   db_score_reco_user_25  db_score_reco_user_35  db_score_reco_user_45  \\\n",
       "0                      0                      0                      0   \n",
       "\n",
       "   db_score_reco_movie_15  db_score_reco_movie_25  db_score_reco_movie_35  \\\n",
       "0                       0                       0                       0   \n",
       "\n",
       "   db_score_reco_movie_45  ch_score_reco_user_15  ch_score_reco_user_25  \\\n",
       "0                       0                      0                      0   \n",
       "\n",
       "   ch_score_reco_user_35  ch_score_reco_user_45  ch_score_reco_movie_15  \\\n",
       "0                      0                      0                       0   \n",
       "\n",
       "    ch_score_reco_movie_25  ch_score_reco_movie_35  ch_score_reco_movie_45  \n",
       "0                        0                       0                       0  "
      ]
     },
     "execution_count": 13,
     "metadata": {},
     "output_type": "execute_result"
    }
   ],
   "source": [
    "score_param = pd.read_csv(\"../data/movie_reco_scores.csv\", sep = ',')\n",
    "score_param.head()"
   ]
  },
  {
   "cell_type": "code",
   "execution_count": 15,
   "metadata": {},
   "outputs": [
    {
     "name": "stdout",
     "output_type": "stream",
     "text": [
      "   num_retraining  retraining_time_seconds  num_users  db_score_reco_user_15  \\\n",
      "0               1                        1          1                      1   \n",
      "\n",
      "   db_score_reco_user_25  db_score_reco_user_35  db_score_reco_user_45  \\\n",
      "0                      1                      1                      1   \n",
      "\n",
      "   db_score_reco_movie_15  db_score_reco_movie_25  db_score_reco_movie_35  \\\n",
      "0                       1                       1                       1   \n",
      "\n",
      "   db_score_reco_movie_45  ch_score_reco_user_15  ch_score_reco_user_25  \\\n",
      "0                       1                      1                      1   \n",
      "\n",
      "   ch_score_reco_user_35  ch_score_reco_user_45  ch_score_reco_movie_15  \\\n",
      "0                      1                      1                       1   \n",
      "\n",
      "   ch_score_reco_movie_25  ch_score_reco_movie_35  ch_score_reco_movie_45  \n",
      "0                       1                       1                       1  \n"
     ]
    }
   ],
   "source": [
    "new_score = pd.DataFrame({'num_retraining': 1, 'retraining_time_seconds': 1, 'num_users':1,  'db_score_reco_user_15': 1, 'db_score_reco_user_25': 1, 'db_score_reco_user_35': 1, 'db_score_reco_user_45': 1, 'db_score_reco_movie_15': 1, 'db_score_reco_movie_25': 1, 'db_score_reco_movie_35': 1, 'db_score_reco_movie_45': 1, 'ch_score_reco_user_15': 1, 'ch_score_reco_user_25': 1, 'ch_score_reco_user_35': 1, 'ch_score_reco_user_45': 1, 'ch_score_reco_movie_15': 1, 'ch_score_reco_movie_25': 1, 'ch_score_reco_movie_35': 1, 'ch_score_reco_movie_45': 1}, index=[0])\n",
    "print(new_score.head())\n",
    "\n"
   ]
  },
  {
   "cell_type": "code",
   "execution_count": null,
   "metadata": {},
   "outputs": [],
   "source": [
    "score_param = pd.concat([new_score,score_param.loc[:]])\n",
    "\n",
    "score_param.to_csv('../data/movie_reco_scores.csv', sep=',', encoding='utf-8', index=False)"
   ]
  },
  {
   "cell_type": "code",
   "execution_count": 14,
   "metadata": {},
   "outputs": [
    {
     "data": {
      "text/html": [
       "<div>\n",
       "<style scoped>\n",
       "    .dataframe tbody tr th:only-of-type {\n",
       "        vertical-align: middle;\n",
       "    }\n",
       "\n",
       "    .dataframe tbody tr th {\n",
       "        vertical-align: top;\n",
       "    }\n",
       "\n",
       "    .dataframe thead th {\n",
       "        text-align: right;\n",
       "    }\n",
       "</style>\n",
       "<table border=\"1\" class=\"dataframe\">\n",
       "  <thead>\n",
       "    <tr style=\"text-align: right;\">\n",
       "      <th></th>\n",
       "      <th>num_retraining</th>\n",
       "      <th>retraining_time_seconds</th>\n",
       "      <th>num_users</th>\n",
       "      <th>db_score_reco_user_15</th>\n",
       "      <th>db_score_reco_user_25</th>\n",
       "      <th>db_score_reco_user_35</th>\n",
       "      <th>db_score_reco_user_45</th>\n",
       "      <th>db_score_reco_movie_15</th>\n",
       "      <th>db_score_reco_movie_25</th>\n",
       "      <th>db_score_reco_movie_35</th>\n",
       "      <th>db_score_reco_movie_45</th>\n",
       "      <th>ch_score_reco_user_15</th>\n",
       "      <th>ch_score_reco_user_25</th>\n",
       "      <th>ch_score_reco_user_35</th>\n",
       "      <th>ch_score_reco_user_45</th>\n",
       "      <th>ch_score_reco_movie_15</th>\n",
       "      <th>ch_score_reco_movie_25</th>\n",
       "      <th>ch_score_reco_movie_35</th>\n",
       "      <th>ch_score_reco_movie_45</th>\n",
       "    </tr>\n",
       "  </thead>\n",
       "  <tbody>\n",
       "    <tr>\n",
       "      <th>0</th>\n",
       "      <td>0</td>\n",
       "      <td>0</td>\n",
       "      <td>0</td>\n",
       "      <td>0</td>\n",
       "      <td>0</td>\n",
       "      <td>0</td>\n",
       "      <td>0</td>\n",
       "      <td>0</td>\n",
       "      <td>0</td>\n",
       "      <td>0</td>\n",
       "      <td>0</td>\n",
       "      <td>0</td>\n",
       "      <td>0</td>\n",
       "      <td>0</td>\n",
       "      <td>0</td>\n",
       "      <td>0</td>\n",
       "      <td>0</td>\n",
       "      <td>0</td>\n",
       "      <td>0</td>\n",
       "    </tr>\n",
       "  </tbody>\n",
       "</table>\n",
       "</div>"
      ],
      "text/plain": [
       "   num_retraining  retraining_time_seconds  num_users  db_score_reco_user_15  \\\n",
       "0               0                        0          0                      0   \n",
       "\n",
       "   db_score_reco_user_25  db_score_reco_user_35  db_score_reco_user_45  \\\n",
       "0                      0                      0                      0   \n",
       "\n",
       "   db_score_reco_movie_15  db_score_reco_movie_25  db_score_reco_movie_35  \\\n",
       "0                       0                       0                       0   \n",
       "\n",
       "   db_score_reco_movie_45  ch_score_reco_user_15  ch_score_reco_user_25  \\\n",
       "0                       0                      0                      0   \n",
       "\n",
       "   ch_score_reco_user_35  ch_score_reco_user_45  ch_score_reco_movie_15  \\\n",
       "0                      0                      0                       0   \n",
       "\n",
       "    ch_score_reco_movie_25  ch_score_reco_movie_35  ch_score_reco_movie_45  \n",
       "0                        0                       0                       0  "
      ]
     },
     "execution_count": 14,
     "metadata": {},
     "output_type": "execute_result"
    }
   ],
   "source": [
    "score_param.loc[:]"
   ]
  },
  {
   "cell_type": "code",
   "execution_count": 7,
   "metadata": {},
   "outputs": [
    {
     "data": {
      "text/html": [
       "<div>\n",
       "<style scoped>\n",
       "    .dataframe tbody tr th:only-of-type {\n",
       "        vertical-align: middle;\n",
       "    }\n",
       "\n",
       "    .dataframe tbody tr th {\n",
       "        vertical-align: top;\n",
       "    }\n",
       "\n",
       "    .dataframe thead th {\n",
       "        text-align: right;\n",
       "    }\n",
       "</style>\n",
       "<table border=\"1\" class=\"dataframe\">\n",
       "  <thead>\n",
       "    <tr style=\"text-align: right;\">\n",
       "      <th></th>\n",
       "      <th>num_retraining</th>\n",
       "      <th>retraining_time_seconds</th>\n",
       "      <th>num_users</th>\n",
       "      <th>db_score_reco_user_15</th>\n",
       "      <th>db_score_reco_user_25</th>\n",
       "      <th>db_score_reco_user_35</th>\n",
       "      <th>db_score_reco_user_45</th>\n",
       "      <th>db_score_reco_movie_15</th>\n",
       "      <th>db_score_reco_movie_25</th>\n",
       "      <th>db_score_reco_movie_35</th>\n",
       "      <th>db_score_reco_movie_45</th>\n",
       "      <th>ch_score_reco_user_15</th>\n",
       "      <th>ch_score_reco_user_25</th>\n",
       "      <th>ch_score_reco_user_35</th>\n",
       "      <th>ch_score_reco_user_45</th>\n",
       "      <th>ch_score_reco_movie_15</th>\n",
       "      <th>ch_score_reco_movie_25</th>\n",
       "      <th>ch_score_reco_movie_35</th>\n",
       "      <th>ch_score_reco_movie_45</th>\n",
       "      <th>ch_score_reco_movie_25</th>\n",
       "    </tr>\n",
       "  </thead>\n",
       "  <tbody>\n",
       "    <tr>\n",
       "      <th>0</th>\n",
       "      <td>1</td>\n",
       "      <td>1</td>\n",
       "      <td>1</td>\n",
       "      <td>1</td>\n",
       "      <td>1</td>\n",
       "      <td>1</td>\n",
       "      <td>1</td>\n",
       "      <td>1</td>\n",
       "      <td>1</td>\n",
       "      <td>1</td>\n",
       "      <td>1</td>\n",
       "      <td>1</td>\n",
       "      <td>1</td>\n",
       "      <td>1</td>\n",
       "      <td>1</td>\n",
       "      <td>1</td>\n",
       "      <td>1.0</td>\n",
       "      <td>1</td>\n",
       "      <td>1</td>\n",
       "      <td>NaN</td>\n",
       "    </tr>\n",
       "    <tr>\n",
       "      <th>0</th>\n",
       "      <td>1</td>\n",
       "      <td>1</td>\n",
       "      <td>1</td>\n",
       "      <td>1</td>\n",
       "      <td>1</td>\n",
       "      <td>1</td>\n",
       "      <td>1</td>\n",
       "      <td>1</td>\n",
       "      <td>1</td>\n",
       "      <td>1</td>\n",
       "      <td>1</td>\n",
       "      <td>1</td>\n",
       "      <td>1</td>\n",
       "      <td>1</td>\n",
       "      <td>1</td>\n",
       "      <td>1</td>\n",
       "      <td>1.0</td>\n",
       "      <td>1</td>\n",
       "      <td>1</td>\n",
       "      <td>NaN</td>\n",
       "    </tr>\n",
       "    <tr>\n",
       "      <th>0</th>\n",
       "      <td>1</td>\n",
       "      <td>1</td>\n",
       "      <td>1</td>\n",
       "      <td>1</td>\n",
       "      <td>1</td>\n",
       "      <td>1</td>\n",
       "      <td>1</td>\n",
       "      <td>1</td>\n",
       "      <td>1</td>\n",
       "      <td>1</td>\n",
       "      <td>1</td>\n",
       "      <td>1</td>\n",
       "      <td>1</td>\n",
       "      <td>1</td>\n",
       "      <td>1</td>\n",
       "      <td>1</td>\n",
       "      <td>1.0</td>\n",
       "      <td>1</td>\n",
       "      <td>1</td>\n",
       "      <td>NaN</td>\n",
       "    </tr>\n",
       "    <tr>\n",
       "      <th>0</th>\n",
       "      <td>0</td>\n",
       "      <td>0</td>\n",
       "      <td>0</td>\n",
       "      <td>0</td>\n",
       "      <td>0</td>\n",
       "      <td>0</td>\n",
       "      <td>0</td>\n",
       "      <td>0</td>\n",
       "      <td>0</td>\n",
       "      <td>0</td>\n",
       "      <td>0</td>\n",
       "      <td>0</td>\n",
       "      <td>0</td>\n",
       "      <td>0</td>\n",
       "      <td>0</td>\n",
       "      <td>0</td>\n",
       "      <td>NaN</td>\n",
       "      <td>0</td>\n",
       "      <td>0</td>\n",
       "      <td>0.0</td>\n",
       "    </tr>\n",
       "  </tbody>\n",
       "</table>\n",
       "</div>"
      ],
      "text/plain": [
       "   num_retraining  retraining_time_seconds  num_users  db_score_reco_user_15  \\\n",
       "0               1                        1          1                      1   \n",
       "0               1                        1          1                      1   \n",
       "0               1                        1          1                      1   \n",
       "0               0                        0          0                      0   \n",
       "\n",
       "   db_score_reco_user_25  db_score_reco_user_35  db_score_reco_user_45  \\\n",
       "0                      1                      1                      1   \n",
       "0                      1                      1                      1   \n",
       "0                      1                      1                      1   \n",
       "0                      0                      0                      0   \n",
       "\n",
       "   db_score_reco_movie_15  db_score_reco_movie_25  db_score_reco_movie_35  \\\n",
       "0                       1                       1                       1   \n",
       "0                       1                       1                       1   \n",
       "0                       1                       1                       1   \n",
       "0                       0                       0                       0   \n",
       "\n",
       "   db_score_reco_movie_45  ch_score_reco_user_15  ch_score_reco_user_25  \\\n",
       "0                       1                      1                      1   \n",
       "0                       1                      1                      1   \n",
       "0                       1                      1                      1   \n",
       "0                       0                      0                      0   \n",
       "\n",
       "   ch_score_reco_user_35  ch_score_reco_user_45  ch_score_reco_movie_15  \\\n",
       "0                      1                      1                       1   \n",
       "0                      1                      1                       1   \n",
       "0                      1                      1                       1   \n",
       "0                      0                      0                       0   \n",
       "\n",
       "   ch_score_reco_movie_25  ch_score_reco_movie_35  ch_score_reco_movie_45  \\\n",
       "0                     1.0                       1                       1   \n",
       "0                     1.0                       1                       1   \n",
       "0                     1.0                       1                       1   \n",
       "0                     NaN                       0                       0   \n",
       "\n",
       "    ch_score_reco_movie_25  \n",
       "0                      NaN  \n",
       "0                      NaN  \n",
       "0                      NaN  \n",
       "0                      0.0  "
      ]
     },
     "execution_count": 7,
     "metadata": {},
     "output_type": "execute_result"
    }
   ],
   "source": [
    "score_param.head()"
   ]
  },
  {
   "cell_type": "markdown",
   "metadata": {},
   "source": [
    "## Loading refined_dataset"
   ]
  },
  {
   "cell_type": "code",
   "execution_count": 2,
   "metadata": {
    "id": "HKw5H628aSY9"
   },
   "outputs": [],
   "source": [
    "refined_dataset = pd.read_csv(\"../data/refined_dataset.csv\")"
   ]
  },
  {
   "cell_type": "markdown",
   "metadata": {},
   "source": [
    "#### Working test a small dataset"
   ]
  },
  {
   "cell_type": "code",
   "execution_count": 3,
   "metadata": {},
   "outputs": [],
   "source": [
    "refined_dataset = refined_dataset.loc[0:1000000,:]"
   ]
  },
  {
   "cell_type": "code",
   "execution_count": 4,
   "metadata": {},
   "outputs": [],
   "source": [
    "refined_dataset = refined_dataset.drop('Unnamed: 0', axis='columns')"
   ]
  },
  {
   "cell_type": "markdown",
   "metadata": {},
   "source": [
    "### Recommender System by User\n",
    "#### Inputs = userId\n",
    "#### output = 5 movies"
   ]
  },
  {
   "cell_type": "code",
   "execution_count": 5,
   "metadata": {},
   "outputs": [],
   "source": [
    "dataset_user = refined_dataset.loc[:, ['movieId', 'rating']] "
   ]
  },
  {
   "cell_type": "code",
   "execution_count": 6,
   "metadata": {},
   "outputs": [
    {
     "name": "stderr",
     "output_type": "stream",
     "text": [
      "C:\\Users\\rafae\\Desktop\\MLOps\\PF\\venv\\lib\\site-packages\\sklearn\\cluster\\_kmeans.py:1416: FutureWarning: The default value of `n_init` will change from 10 to 'auto' in 1.4. Set the value of `n_init` explicitly to suppress the warning\n",
      "  super()._check_params_vs_input(X, default_n_init=10)\n"
     ]
    },
    {
     "name": "stdout",
     "output_type": "stream",
     "text": [
      "Davies-Bouldin score: 0.4551964714730443\n",
      "Calinski Harabasz score: 8366490.908058339\n"
     ]
    }
   ],
   "source": [
    "kmeans_user = KMeans(25)\n",
    "kmeans_user.fit(dataset_user)\n",
    "\n",
    "# Get the cluster labels\n",
    "labels = kmeans_user.labels_\n",
    "\n",
    "# Calculate Davies-Bouldin Index\n",
    "db_score_reco_user = davies_bouldin_score(dataset_user, labels)\n",
    "\n",
    "# Calculate silhouette score\n",
    "#si_score = silhouette_score(dataset_user, labels)\n",
    "#print(\"Silhouette score:\", si_score)\n",
    "\n",
    "ch_score_reco_user = calinski_harabasz_score(dataset_user, labels)\n"
   ]
  },
  {
   "cell_type": "code",
   "execution_count": 7,
   "metadata": {},
   "outputs": [
    {
     "name": "stderr",
     "output_type": "stream",
     "text": [
      "C:\\Users\\rafae\\Desktop\\MLOps\\PF\\venv\\lib\\site-packages\\sklearn\\cluster\\_kmeans.py:1416: FutureWarning: The default value of `n_init` will change from 10 to 'auto' in 1.4. Set the value of `n_init` explicitly to suppress the warning\n",
      "  super()._check_params_vs_input(X, default_n_init=10)\n"
     ]
    }
   ],
   "source": [
    "identified_users= kmeans_user.fit_predict(dataset_user)\n",
    "identified_users = list(identified_users)"
   ]
  },
  {
   "cell_type": "code",
   "execution_count": 8,
   "metadata": {},
   "outputs": [],
   "source": [
    "refined_dataset['loc_clusters_users'] = identified_users"
   ]
  },
  {
   "cell_type": "markdown",
   "metadata": {},
   "source": [
    "### Recommender System by Movie\n",
    "#### Inputs = movieId\n",
    "#### Output = 5 movies"
   ]
  },
  {
   "cell_type": "code",
   "execution_count": 9,
   "metadata": {},
   "outputs": [],
   "source": [
    "dataset_movie = refined_dataset.loc[:, ['userId', 'rating']] "
   ]
  },
  {
   "cell_type": "code",
   "execution_count": 10,
   "metadata": {},
   "outputs": [
    {
     "name": "stderr",
     "output_type": "stream",
     "text": [
      "C:\\Users\\rafae\\Desktop\\MLOps\\PF\\venv\\lib\\site-packages\\sklearn\\cluster\\_kmeans.py:1416: FutureWarning: The default value of `n_init` will change from 10 to 'auto' in 1.4. Set the value of `n_init` explicitly to suppress the warning\n",
      "  super()._check_params_vs_input(X, default_n_init=10)\n"
     ]
    },
    {
     "name": "stdout",
     "output_type": "stream",
     "text": [
      "Davies-Bouldin score: 1482.8706089044347\n",
      "Calinski Harabasz score: 18.631486458567313\n"
     ]
    }
   ],
   "source": [
    "kmeans_movie = KMeans(25)\n",
    "kmeans_movie.fit(dataset_user)\n",
    "\n",
    "# Get the cluster labels\n",
    "labels = kmeans_movie.labels_\n",
    "\n",
    "# Calculate Davies-Bouldin Index\n",
    "db_score_reco_movie = davies_bouldin_score(dataset_movie, labels)\n",
    "\n",
    "# Calculate silhouette score\n",
    "#si_score = silhouette_score(dataset_movie, labels)\n",
    "#print(\"Silhouette score:\", si_score)\n",
    "\n",
    "ch_score_reco_movie = calinski_harabasz_score(dataset_movie, labels)"
   ]
  },
  {
   "cell_type": "code",
   "execution_count": 11,
   "metadata": {},
   "outputs": [
    {
     "name": "stderr",
     "output_type": "stream",
     "text": [
      "C:\\Users\\rafae\\Desktop\\MLOps\\PF\\venv\\lib\\site-packages\\sklearn\\cluster\\_kmeans.py:1416: FutureWarning: The default value of `n_init` will change from 10 to 'auto' in 1.4. Set the value of `n_init` explicitly to suppress the warning\n",
      "  super()._check_params_vs_input(X, default_n_init=10)\n"
     ]
    }
   ],
   "source": [
    "identified_movies = kmeans_movie.fit_predict(dataset_movie)\n",
    "identified_movies = list(identified_movies)"
   ]
  },
  {
   "cell_type": "code",
   "execution_count": 12,
   "metadata": {},
   "outputs": [],
   "source": [
    "refined_dataset['loc_clusters_movies'] = identified_movies"
   ]
  },
  {
   "cell_type": "markdown",
   "metadata": {},
   "source": [
    "### Export the model "
   ]
  },
  {
   "cell_type": "code",
   "execution_count": 13,
   "metadata": {},
   "outputs": [],
   "source": [
    "with open(\"../models/kmeans_movie.pkl\", \"wb\") as f:\n",
    "    pickle.dump(kmeans_movie, f)"
   ]
  },
  {
   "cell_type": "code",
   "execution_count": 14,
   "metadata": {},
   "outputs": [],
   "source": [
    "with open(\"../models/kmeans_user.pkl\", \"wb\") as f:\n",
    "    pickle.dump(kmeans_user, f)"
   ]
  },
  {
   "cell_type": "markdown",
   "metadata": {},
   "source": [
    "### Export the final_db ti csv and pickle"
   ]
  },
  {
   "cell_type": "code",
   "execution_count": 15,
   "metadata": {},
   "outputs": [],
   "source": [
    "final_db = refined_dataset"
   ]
  },
  {
   "cell_type": "code",
   "execution_count": 16,
   "metadata": {},
   "outputs": [],
   "source": [
    "final_db.to_pickle(\"../data/final_db.pkl\")"
   ]
  },
  {
   "cell_type": "code",
   "execution_count": 17,
   "metadata": {},
   "outputs": [],
   "source": [
    "final_db.to_csv('../data/final_db.csv', sep=',', encoding='utf-8', index=False)"
   ]
  },
  {
   "cell_type": "markdown",
   "metadata": {},
   "source": [
    "### Adding param to score csv"
   ]
  },
  {
   "cell_type": "code",
   "execution_count": 37,
   "metadata": {},
   "outputs": [
    {
     "name": "stderr",
     "output_type": "stream",
     "text": [
      "C:\\Users\\rafae\\AppData\\Local\\Temp\\ipykernel_7020\\3250484708.py:4: FutureWarning: The frame.append method is deprecated and will be removed from pandas in a future version. Use pandas.concat instead.\n",
      "  score_param = score_param.append(new_row, ignore_index=True)\n"
     ]
    }
   ],
   "source": [
    "retrain = score_param['retrain'].max() + 1\n",
    "new_row = {'retrain': retrain, 'db_score_reco_user': db_score_reco_user, 'ch_score_reco_user': ch_score_reco_user, 'db_score_reco_movie': db_score_reco_movie, 'ch_score_reco_movie': ch_score_reco_movie}\n",
    "#print(new_row)\n",
    "score_param = score_param.append(new_row, ignore_index=True)\n",
    "score_param.to_csv('../data/movie_reco_scores.csv', sep=',', encoding='utf-8', index=False)"
   ]
  },
  {
   "cell_type": "code",
   "execution_count": 38,
   "metadata": {},
   "outputs": [
    {
     "name": "stdout",
     "output_type": "stream",
     "text": [
      "Retrain done in : 167.28042316436768 seconds\n"
     ]
    }
   ],
   "source": [
    "end = time.time()\n",
    "\n",
    "print('Retrain done in :',end - start, 'seconds')"
   ]
  }
 ],
 "metadata": {
  "colab": {
   "authorship_tag": "ABX9TyM1K937XEBtUiFWogHB4DtZ",
   "collapsed_sections": [
    "jVJu1rsTx0F3"
   ],
   "include_colab_link": true,
   "name": "Item-based-Collaborative-Recommender-System-using-KNN.ipynb",
   "provenance": []
  },
  "kernelspec": {
   "display_name": "Python 3 (ipykernel)",
   "language": "python",
   "name": "python3"
  },
  "language_info": {
   "codemirror_mode": {
    "name": "ipython",
    "version": 3
   },
   "file_extension": ".py",
   "mimetype": "text/x-python",
   "name": "python",
   "nbconvert_exporter": "python",
   "pygments_lexer": "ipython3",
   "version": "3.8.18"
  }
 },
 "nbformat": 4,
 "nbformat_minor": 1
}
