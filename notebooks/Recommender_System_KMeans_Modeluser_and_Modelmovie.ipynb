{
 "cells": [
  {
   "cell_type": "markdown",
   "metadata": {
    "colab_type": "text",
    "id": "view-in-github"
   },
   "source": [
    "<a href=\"https://colab.research.google.com/github/rposhala/Recommender-System-on-MovieLens-dataset/blob/main/Item_based_Collaborative_Recommender_System_using_KNN.ipynb\" target=\"_parent\"><img src=\"https://colab.research.google.com/assets/colab-badge.svg\" alt=\"Open In Colab\"/></a>"
   ]
  },
  {
   "cell_type": "markdown",
   "metadata": {},
   "source": [
    "### KMeans clusteting model to build item-based collaborative Recommender System."
   ]
  },
  {
   "cell_type": "code",
   "execution_count": 1,
   "metadata": {
    "id": "bwSPLalV6Rca"
   },
   "outputs": [],
   "source": [
    "import os\n",
    "import numpy as np\n",
    "import pandas as pd\n",
    "import pickle\n",
    "from scipy.sparse import csr_matrix\n",
    "from sklearn.cluster import KMeans\n",
    "from collections import Counter"
   ]
  },
  {
   "cell_type": "markdown",
   "metadata": {},
   "source": [
    "## Loading refined_dataset"
   ]
  },
  {
   "cell_type": "code",
   "execution_count": 2,
   "metadata": {
    "id": "HKw5H628aSY9"
   },
   "outputs": [],
   "source": [
    "refined_dataset = pd.read_csv(\"../ml-20m/refined_dataset.csv\")"
   ]
  },
  {
   "cell_type": "markdown",
   "metadata": {},
   "source": [
    "#### Working test a small dataset"
   ]
  },
  {
   "cell_type": "code",
   "execution_count": 3,
   "metadata": {},
   "outputs": [
    {
     "name": "stdout",
     "output_type": "stream",
     "text": [
      "<class 'pandas.core.frame.DataFrame'>\n",
      "RangeIndex: 150001 entries, 0 to 150000\n",
      "Data columns (total 5 columns):\n",
      " #   Column      Non-Null Count   Dtype  \n",
      "---  ------      --------------   -----  \n",
      " 0   Unnamed: 0  150001 non-null  int64  \n",
      " 1   userId      150001 non-null  int64  \n",
      " 2   title       150001 non-null  object \n",
      " 3   movieId     150001 non-null  int64  \n",
      " 4   rating      150001 non-null  float64\n",
      "dtypes: float64(1), int64(3), object(1)\n",
      "memory usage: 5.7+ MB\n"
     ]
    }
   ],
   "source": [
    "refined_dataset = refined_dataset.loc[0:150000,:]\n",
    "refined_dataset.info()"
   ]
  },
  {
   "cell_type": "code",
   "execution_count": 4,
   "metadata": {},
   "outputs": [
    {
     "data": {
      "text/html": [
       "<div>\n",
       "<style scoped>\n",
       "    .dataframe tbody tr th:only-of-type {\n",
       "        vertical-align: middle;\n",
       "    }\n",
       "\n",
       "    .dataframe tbody tr th {\n",
       "        vertical-align: top;\n",
       "    }\n",
       "\n",
       "    .dataframe thead th {\n",
       "        text-align: right;\n",
       "    }\n",
       "</style>\n",
       "<table border=\"1\" class=\"dataframe\">\n",
       "  <thead>\n",
       "    <tr style=\"text-align: right;\">\n",
       "      <th></th>\n",
       "      <th>userId</th>\n",
       "      <th>title</th>\n",
       "      <th>movieId</th>\n",
       "      <th>rating</th>\n",
       "    </tr>\n",
       "  </thead>\n",
       "  <tbody>\n",
       "    <tr>\n",
       "      <th>0</th>\n",
       "      <td>1</td>\n",
       "      <td>2001: A Space Odyssey (1968)</td>\n",
       "      <td>924</td>\n",
       "      <td>3.5</td>\n",
       "    </tr>\n",
       "    <tr>\n",
       "      <th>1</th>\n",
       "      <td>1</td>\n",
       "      <td>28 Days Later (2002)</td>\n",
       "      <td>6502</td>\n",
       "      <td>3.5</td>\n",
       "    </tr>\n",
       "    <tr>\n",
       "      <th>2</th>\n",
       "      <td>1</td>\n",
       "      <td>7th Voyage of Sinbad, The (1958)</td>\n",
       "      <td>3153</td>\n",
       "      <td>4.0</td>\n",
       "    </tr>\n",
       "    <tr>\n",
       "      <th>3</th>\n",
       "      <td>1</td>\n",
       "      <td>Adventures of Baron Munchausen, The (1988)</td>\n",
       "      <td>4467</td>\n",
       "      <td>4.0</td>\n",
       "    </tr>\n",
       "    <tr>\n",
       "      <th>4</th>\n",
       "      <td>1</td>\n",
       "      <td>Alien (1979)</td>\n",
       "      <td>1214</td>\n",
       "      <td>4.0</td>\n",
       "    </tr>\n",
       "  </tbody>\n",
       "</table>\n",
       "</div>"
      ],
      "text/plain": [
       "   userId                                       title  movieId  rating\n",
       "0       1                2001: A Space Odyssey (1968)      924     3.5\n",
       "1       1                        28 Days Later (2002)     6502     3.5\n",
       "2       1            7th Voyage of Sinbad, The (1958)     3153     4.0\n",
       "3       1  Adventures of Baron Munchausen, The (1988)     4467     4.0\n",
       "4       1                                Alien (1979)     1214     4.0"
      ]
     },
     "execution_count": 4,
     "metadata": {},
     "output_type": "execute_result"
    }
   ],
   "source": [
    "refined_dataset = refined_dataset.drop('Unnamed: 0', axis='columns')\n",
    "refined_dataset.head()"
   ]
  },
  {
   "cell_type": "markdown",
   "metadata": {},
   "source": [
    "### Recommender System by User\n",
    "#### Inputs = userId\n",
    "#### output = 5 movies"
   ]
  },
  {
   "cell_type": "code",
   "execution_count": 5,
   "metadata": {},
   "outputs": [
    {
     "data": {
      "text/html": [
       "<div>\n",
       "<style scoped>\n",
       "    .dataframe tbody tr th:only-of-type {\n",
       "        vertical-align: middle;\n",
       "    }\n",
       "\n",
       "    .dataframe tbody tr th {\n",
       "        vertical-align: top;\n",
       "    }\n",
       "\n",
       "    .dataframe thead th {\n",
       "        text-align: right;\n",
       "    }\n",
       "</style>\n",
       "<table border=\"1\" class=\"dataframe\">\n",
       "  <thead>\n",
       "    <tr style=\"text-align: right;\">\n",
       "      <th></th>\n",
       "      <th>movieId</th>\n",
       "      <th>rating</th>\n",
       "    </tr>\n",
       "  </thead>\n",
       "  <tbody>\n",
       "    <tr>\n",
       "      <th>0</th>\n",
       "      <td>924</td>\n",
       "      <td>3.5</td>\n",
       "    </tr>\n",
       "    <tr>\n",
       "      <th>1</th>\n",
       "      <td>6502</td>\n",
       "      <td>3.5</td>\n",
       "    </tr>\n",
       "    <tr>\n",
       "      <th>2</th>\n",
       "      <td>3153</td>\n",
       "      <td>4.0</td>\n",
       "    </tr>\n",
       "    <tr>\n",
       "      <th>3</th>\n",
       "      <td>4467</td>\n",
       "      <td>4.0</td>\n",
       "    </tr>\n",
       "    <tr>\n",
       "      <th>4</th>\n",
       "      <td>1214</td>\n",
       "      <td>4.0</td>\n",
       "    </tr>\n",
       "    <tr>\n",
       "      <th>...</th>\n",
       "      <td>...</td>\n",
       "      <td>...</td>\n",
       "    </tr>\n",
       "    <tr>\n",
       "      <th>149996</th>\n",
       "      <td>3809</td>\n",
       "      <td>5.0</td>\n",
       "    </tr>\n",
       "    <tr>\n",
       "      <th>149997</th>\n",
       "      <td>4018</td>\n",
       "      <td>4.0</td>\n",
       "    </tr>\n",
       "    <tr>\n",
       "      <th>149998</th>\n",
       "      <td>3263</td>\n",
       "      <td>4.0</td>\n",
       "    </tr>\n",
       "    <tr>\n",
       "      <th>149999</th>\n",
       "      <td>5668</td>\n",
       "      <td>4.0</td>\n",
       "    </tr>\n",
       "    <tr>\n",
       "      <th>150000</th>\n",
       "      <td>1073</td>\n",
       "      <td>4.0</td>\n",
       "    </tr>\n",
       "  </tbody>\n",
       "</table>\n",
       "<p>150001 rows × 2 columns</p>\n",
       "</div>"
      ],
      "text/plain": [
       "        movieId  rating\n",
       "0           924     3.5\n",
       "1          6502     3.5\n",
       "2          3153     4.0\n",
       "3          4467     4.0\n",
       "4          1214     4.0\n",
       "...         ...     ...\n",
       "149996     3809     5.0\n",
       "149997     4018     4.0\n",
       "149998     3263     4.0\n",
       "149999     5668     4.0\n",
       "150000     1073     4.0\n",
       "\n",
       "[150001 rows x 2 columns]"
      ]
     },
     "execution_count": 5,
     "metadata": {},
     "output_type": "execute_result"
    }
   ],
   "source": [
    "dataset_user = refined_dataset.loc[:, ['movieId', 'rating']] \n",
    "dataset_user"
   ]
  },
  {
   "cell_type": "code",
   "execution_count": 6,
   "metadata": {},
   "outputs": [
    {
     "name": "stderr",
     "output_type": "stream",
     "text": [
      "C:\\Users\\rafae\\Desktop\\MLOps\\PF\\venv\\lib\\site-packages\\sklearn\\cluster\\_kmeans.py:1416: FutureWarning: The default value of `n_init` will change from 10 to 'auto' in 1.4. Set the value of `n_init` explicitly to suppress the warning\n",
      "  super()._check_params_vs_input(X, default_n_init=10)\n",
      "C:\\Users\\rafae\\Desktop\\MLOps\\PF\\venv\\lib\\site-packages\\sklearn\\cluster\\_kmeans.py:1416: FutureWarning: The default value of `n_init` will change from 10 to 'auto' in 1.4. Set the value of `n_init` explicitly to suppress the warning\n",
      "  super()._check_params_vs_input(X, default_n_init=10)\n"
     ]
    }
   ],
   "source": [
    "kmeans_user = KMeans(10)\n",
    "kmeans_user.fit(dataset_user)\n",
    "identified_users= kmeans_user.fit_predict(dataset_user)"
   ]
  },
  {
   "cell_type": "code",
   "execution_count": 7,
   "metadata": {},
   "outputs": [],
   "source": [
    "identified_users = list(identified_users)"
   ]
  },
  {
   "cell_type": "code",
   "execution_count": 8,
   "metadata": {},
   "outputs": [
    {
     "data": {
      "text/html": [
       "<div>\n",
       "<style scoped>\n",
       "    .dataframe tbody tr th:only-of-type {\n",
       "        vertical-align: middle;\n",
       "    }\n",
       "\n",
       "    .dataframe tbody tr th {\n",
       "        vertical-align: top;\n",
       "    }\n",
       "\n",
       "    .dataframe thead th {\n",
       "        text-align: right;\n",
       "    }\n",
       "</style>\n",
       "<table border=\"1\" class=\"dataframe\">\n",
       "  <thead>\n",
       "    <tr style=\"text-align: right;\">\n",
       "      <th></th>\n",
       "      <th>userId</th>\n",
       "      <th>title</th>\n",
       "      <th>movieId</th>\n",
       "      <th>rating</th>\n",
       "      <th>loc_clusters_users</th>\n",
       "    </tr>\n",
       "  </thead>\n",
       "  <tbody>\n",
       "    <tr>\n",
       "      <th>0</th>\n",
       "      <td>1</td>\n",
       "      <td>2001: A Space Odyssey (1968)</td>\n",
       "      <td>924</td>\n",
       "      <td>3.5</td>\n",
       "      <td>0</td>\n",
       "    </tr>\n",
       "    <tr>\n",
       "      <th>1</th>\n",
       "      <td>1</td>\n",
       "      <td>28 Days Later (2002)</td>\n",
       "      <td>6502</td>\n",
       "      <td>3.5</td>\n",
       "      <td>7</td>\n",
       "    </tr>\n",
       "    <tr>\n",
       "      <th>2</th>\n",
       "      <td>1</td>\n",
       "      <td>7th Voyage of Sinbad, The (1958)</td>\n",
       "      <td>3153</td>\n",
       "      <td>4.0</td>\n",
       "      <td>4</td>\n",
       "    </tr>\n",
       "    <tr>\n",
       "      <th>3</th>\n",
       "      <td>1</td>\n",
       "      <td>Adventures of Baron Munchausen, The (1988)</td>\n",
       "      <td>4467</td>\n",
       "      <td>4.0</td>\n",
       "      <td>4</td>\n",
       "    </tr>\n",
       "    <tr>\n",
       "      <th>4</th>\n",
       "      <td>1</td>\n",
       "      <td>Alien (1979)</td>\n",
       "      <td>1214</td>\n",
       "      <td>4.0</td>\n",
       "      <td>0</td>\n",
       "    </tr>\n",
       "    <tr>\n",
       "      <th>...</th>\n",
       "      <td>...</td>\n",
       "      <td>...</td>\n",
       "      <td>...</td>\n",
       "      <td>...</td>\n",
       "      <td>...</td>\n",
       "    </tr>\n",
       "    <tr>\n",
       "      <th>149996</th>\n",
       "      <td>994</td>\n",
       "      <td>What About Bob? (1991)</td>\n",
       "      <td>3809</td>\n",
       "      <td>5.0</td>\n",
       "      <td>4</td>\n",
       "    </tr>\n",
       "    <tr>\n",
       "      <th>149997</th>\n",
       "      <td>994</td>\n",
       "      <td>What Women Want (2000)</td>\n",
       "      <td>4018</td>\n",
       "      <td>4.0</td>\n",
       "      <td>4</td>\n",
       "    </tr>\n",
       "    <tr>\n",
       "      <th>149998</th>\n",
       "      <td>994</td>\n",
       "      <td>White Men Can't Jump (1992)</td>\n",
       "      <td>3263</td>\n",
       "      <td>4.0</td>\n",
       "      <td>4</td>\n",
       "    </tr>\n",
       "    <tr>\n",
       "      <th>149999</th>\n",
       "      <td>994</td>\n",
       "      <td>White Oleander (2002)</td>\n",
       "      <td>5668</td>\n",
       "      <td>4.0</td>\n",
       "      <td>7</td>\n",
       "    </tr>\n",
       "    <tr>\n",
       "      <th>150000</th>\n",
       "      <td>994</td>\n",
       "      <td>Willy Wonka &amp; the Chocolate Factory (1971)</td>\n",
       "      <td>1073</td>\n",
       "      <td>4.0</td>\n",
       "      <td>0</td>\n",
       "    </tr>\n",
       "  </tbody>\n",
       "</table>\n",
       "<p>150001 rows × 5 columns</p>\n",
       "</div>"
      ],
      "text/plain": [
       "        userId                                       title  movieId  rating  \\\n",
       "0            1                2001: A Space Odyssey (1968)      924     3.5   \n",
       "1            1                        28 Days Later (2002)     6502     3.5   \n",
       "2            1            7th Voyage of Sinbad, The (1958)     3153     4.0   \n",
       "3            1  Adventures of Baron Munchausen, The (1988)     4467     4.0   \n",
       "4            1                                Alien (1979)     1214     4.0   \n",
       "...        ...                                         ...      ...     ...   \n",
       "149996     994                      What About Bob? (1991)     3809     5.0   \n",
       "149997     994                      What Women Want (2000)     4018     4.0   \n",
       "149998     994                 White Men Can't Jump (1992)     3263     4.0   \n",
       "149999     994                       White Oleander (2002)     5668     4.0   \n",
       "150000     994  Willy Wonka & the Chocolate Factory (1971)     1073     4.0   \n",
       "\n",
       "        loc_clusters_users  \n",
       "0                        0  \n",
       "1                        7  \n",
       "2                        4  \n",
       "3                        4  \n",
       "4                        0  \n",
       "...                    ...  \n",
       "149996                   4  \n",
       "149997                   4  \n",
       "149998                   4  \n",
       "149999                   7  \n",
       "150000                   0  \n",
       "\n",
       "[150001 rows x 5 columns]"
      ]
     },
     "execution_count": 8,
     "metadata": {},
     "output_type": "execute_result"
    }
   ],
   "source": [
    "refined_dataset['loc_clusters_users'] = identified_users\n",
    "refined_dataset"
   ]
  },
  {
   "cell_type": "code",
   "execution_count": 9,
   "metadata": {},
   "outputs": [
    {
     "name": "stdout",
     "output_type": "stream",
     "text": [
      "0    67443\n",
      "4    45481\n",
      "7    19884\n",
      "9     3714\n",
      "2     3534\n",
      "5     3399\n",
      "1     2439\n",
      "3     1600\n",
      "6     1511\n",
      "8      996\n",
      "Name: loc_clusters_users, dtype: int64\n"
     ]
    }
   ],
   "source": [
    "print(refined_dataset['loc_clusters_users'].value_counts())"
   ]
  },
  {
   "cell_type": "code",
   "execution_count": 18,
   "metadata": {},
   "outputs": [
    {
     "name": "stdout",
     "output_type": "stream",
     "text": [
      "Enter a userid: 994\n",
      "4    106\n",
      "7    100\n",
      "0     91\n",
      "5     23\n",
      "9     18\n",
      "2     11\n",
      "1      7\n",
      "6      1\n",
      "3      1\n",
      "Name: loc_clusters_users, dtype: int64\n",
      "(4, 106)\n"
     ]
    },
    {
     "data": {
      "text/plain": [
       "4"
      ]
     },
     "execution_count": 18,
     "metadata": {},
     "output_type": "execute_result"
    }
   ],
   "source": [
    "input_user = input(\"Enter a userid: \")\n",
    "input_user = int(input_user)\n",
    "cluster_users = refined_dataset.loc[refined_dataset['userId'] == input_user, 'loc_clusters_users']\n",
    "print(cluster_users.value_counts())\n",
    "cluster_users = Counter(cluster_users).most_common(1)[0] # 4, 6 times\n",
    "print(cluster_users)\n",
    "cluster_users[0]"
   ]
  },
  {
   "cell_type": "code",
   "execution_count": 19,
   "metadata": {},
   "outputs": [
    {
     "name": "stdout",
     "output_type": "stream",
     "text": [
      "['Four Rooms (1995)', 'American President, The (1995)', 'Casino (1995)', 'GoldenEye (1995)', 'Jumanji (1995)']\n"
     ]
    }
   ],
   "source": [
    "users = refined_dataset.loc[refined_dataset['loc_clusters_users'] == cluster_users[0], 'userId']\n",
    "users\n",
    "list_movies = []\n",
    "for c in range(1000):\n",
    "    if users.iloc[c] == input_user:\n",
    "        continue\n",
    "    else:\n",
    "       movie1 = refined_dataset.loc[refined_dataset['movieId'] == users.iloc[c]]\n",
    "       movie1 = movie1['title']\n",
    "       movie1 = movie1.iloc[1]\n",
    "       list_movies.append(movie1)\n",
    "uniqueElements = list(set(list_movies))\n",
    "print(uniqueElements[0:5])"
   ]
  },
  {
   "cell_type": "markdown",
   "metadata": {},
   "source": [
    "### Recommender System by Movie\n",
    "#### Inputs = movieId\n",
    "#### Output = 5 movies"
   ]
  },
  {
   "cell_type": "code",
   "execution_count": 20,
   "metadata": {},
   "outputs": [
    {
     "data": {
      "text/html": [
       "<div>\n",
       "<style scoped>\n",
       "    .dataframe tbody tr th:only-of-type {\n",
       "        vertical-align: middle;\n",
       "    }\n",
       "\n",
       "    .dataframe tbody tr th {\n",
       "        vertical-align: top;\n",
       "    }\n",
       "\n",
       "    .dataframe thead th {\n",
       "        text-align: right;\n",
       "    }\n",
       "</style>\n",
       "<table border=\"1\" class=\"dataframe\">\n",
       "  <thead>\n",
       "    <tr style=\"text-align: right;\">\n",
       "      <th></th>\n",
       "      <th>userId</th>\n",
       "      <th>title</th>\n",
       "      <th>movieId</th>\n",
       "      <th>rating</th>\n",
       "      <th>loc_clusters_users</th>\n",
       "      <th>loc_clusters_movies</th>\n",
       "    </tr>\n",
       "  </thead>\n",
       "  <tbody>\n",
       "    <tr>\n",
       "      <th>0</th>\n",
       "      <td>1</td>\n",
       "      <td>2001: A Space Odyssey (1968)</td>\n",
       "      <td>924</td>\n",
       "      <td>3.5</td>\n",
       "      <td>0</td>\n",
       "      <td>7</td>\n",
       "    </tr>\n",
       "    <tr>\n",
       "      <th>1</th>\n",
       "      <td>1</td>\n",
       "      <td>28 Days Later (2002)</td>\n",
       "      <td>6502</td>\n",
       "      <td>3.5</td>\n",
       "      <td>7</td>\n",
       "      <td>7</td>\n",
       "    </tr>\n",
       "    <tr>\n",
       "      <th>2</th>\n",
       "      <td>1</td>\n",
       "      <td>7th Voyage of Sinbad, The (1958)</td>\n",
       "      <td>3153</td>\n",
       "      <td>4.0</td>\n",
       "      <td>4</td>\n",
       "      <td>7</td>\n",
       "    </tr>\n",
       "    <tr>\n",
       "      <th>3</th>\n",
       "      <td>1</td>\n",
       "      <td>Adventures of Baron Munchausen, The (1988)</td>\n",
       "      <td>4467</td>\n",
       "      <td>4.0</td>\n",
       "      <td>4</td>\n",
       "      <td>7</td>\n",
       "    </tr>\n",
       "    <tr>\n",
       "      <th>4</th>\n",
       "      <td>1</td>\n",
       "      <td>Alien (1979)</td>\n",
       "      <td>1214</td>\n",
       "      <td>4.0</td>\n",
       "      <td>0</td>\n",
       "      <td>7</td>\n",
       "    </tr>\n",
       "    <tr>\n",
       "      <th>...</th>\n",
       "      <td>...</td>\n",
       "      <td>...</td>\n",
       "      <td>...</td>\n",
       "      <td>...</td>\n",
       "      <td>...</td>\n",
       "      <td>...</td>\n",
       "    </tr>\n",
       "    <tr>\n",
       "      <th>149996</th>\n",
       "      <td>994</td>\n",
       "      <td>What About Bob? (1991)</td>\n",
       "      <td>3809</td>\n",
       "      <td>5.0</td>\n",
       "      <td>4</td>\n",
       "      <td>4</td>\n",
       "    </tr>\n",
       "    <tr>\n",
       "      <th>149997</th>\n",
       "      <td>994</td>\n",
       "      <td>What Women Want (2000)</td>\n",
       "      <td>4018</td>\n",
       "      <td>4.0</td>\n",
       "      <td>4</td>\n",
       "      <td>4</td>\n",
       "    </tr>\n",
       "    <tr>\n",
       "      <th>149998</th>\n",
       "      <td>994</td>\n",
       "      <td>White Men Can't Jump (1992)</td>\n",
       "      <td>3263</td>\n",
       "      <td>4.0</td>\n",
       "      <td>4</td>\n",
       "      <td>4</td>\n",
       "    </tr>\n",
       "    <tr>\n",
       "      <th>149999</th>\n",
       "      <td>994</td>\n",
       "      <td>White Oleander (2002)</td>\n",
       "      <td>5668</td>\n",
       "      <td>4.0</td>\n",
       "      <td>7</td>\n",
       "      <td>4</td>\n",
       "    </tr>\n",
       "    <tr>\n",
       "      <th>150000</th>\n",
       "      <td>994</td>\n",
       "      <td>Willy Wonka &amp; the Chocolate Factory (1971)</td>\n",
       "      <td>1073</td>\n",
       "      <td>4.0</td>\n",
       "      <td>0</td>\n",
       "      <td>4</td>\n",
       "    </tr>\n",
       "  </tbody>\n",
       "</table>\n",
       "<p>150001 rows × 6 columns</p>\n",
       "</div>"
      ],
      "text/plain": [
       "        userId                                       title  movieId  rating  \\\n",
       "0            1                2001: A Space Odyssey (1968)      924     3.5   \n",
       "1            1                        28 Days Later (2002)     6502     3.5   \n",
       "2            1            7th Voyage of Sinbad, The (1958)     3153     4.0   \n",
       "3            1  Adventures of Baron Munchausen, The (1988)     4467     4.0   \n",
       "4            1                                Alien (1979)     1214     4.0   \n",
       "...        ...                                         ...      ...     ...   \n",
       "149996     994                      What About Bob? (1991)     3809     5.0   \n",
       "149997     994                      What Women Want (2000)     4018     4.0   \n",
       "149998     994                 White Men Can't Jump (1992)     3263     4.0   \n",
       "149999     994                       White Oleander (2002)     5668     4.0   \n",
       "150000     994  Willy Wonka & the Chocolate Factory (1971)     1073     4.0   \n",
       "\n",
       "        loc_clusters_users  loc_clusters_movies  \n",
       "0                        0                    7  \n",
       "1                        7                    7  \n",
       "2                        4                    7  \n",
       "3                        4                    7  \n",
       "4                        0                    7  \n",
       "...                    ...                  ...  \n",
       "149996                   4                    4  \n",
       "149997                   4                    4  \n",
       "149998                   4                    4  \n",
       "149999                   7                    4  \n",
       "150000                   0                    4  \n",
       "\n",
       "[150001 rows x 6 columns]"
      ]
     },
     "execution_count": 20,
     "metadata": {},
     "output_type": "execute_result"
    }
   ],
   "source": [
    "refined_dataset"
   ]
  },
  {
   "cell_type": "code",
   "execution_count": 21,
   "metadata": {},
   "outputs": [],
   "source": [
    "dataset_movie = refined_dataset.loc[:, ['userId', 'rating']] "
   ]
  },
  {
   "cell_type": "code",
   "execution_count": 22,
   "metadata": {},
   "outputs": [
    {
     "name": "stderr",
     "output_type": "stream",
     "text": [
      "C:\\Users\\rafae\\Desktop\\MLOps\\PF\\venv\\lib\\site-packages\\sklearn\\cluster\\_kmeans.py:1416: FutureWarning: The default value of `n_init` will change from 10 to 'auto' in 1.4. Set the value of `n_init` explicitly to suppress the warning\n",
      "  super()._check_params_vs_input(X, default_n_init=10)\n",
      "C:\\Users\\rafae\\Desktop\\MLOps\\PF\\venv\\lib\\site-packages\\sklearn\\cluster\\_kmeans.py:1416: FutureWarning: The default value of `n_init` will change from 10 to 'auto' in 1.4. Set the value of `n_init` explicitly to suppress the warning\n",
      "  super()._check_params_vs_input(X, default_n_init=10)\n"
     ]
    }
   ],
   "source": [
    "kmeans_movie = KMeans(10)\n",
    "kmeans_movie.fit(dataset_movie)\n",
    "identified_movies = kmeans_movie.fit_predict(dataset_movie)\n",
    "identified_movies = list(identified_movies)"
   ]
  },
  {
   "cell_type": "code",
   "execution_count": 23,
   "metadata": {},
   "outputs": [
    {
     "data": {
      "text/html": [
       "<div>\n",
       "<style scoped>\n",
       "    .dataframe tbody tr th:only-of-type {\n",
       "        vertical-align: middle;\n",
       "    }\n",
       "\n",
       "    .dataframe tbody tr th {\n",
       "        vertical-align: top;\n",
       "    }\n",
       "\n",
       "    .dataframe thead th {\n",
       "        text-align: right;\n",
       "    }\n",
       "</style>\n",
       "<table border=\"1\" class=\"dataframe\">\n",
       "  <thead>\n",
       "    <tr style=\"text-align: right;\">\n",
       "      <th></th>\n",
       "      <th>userId</th>\n",
       "      <th>title</th>\n",
       "      <th>movieId</th>\n",
       "      <th>rating</th>\n",
       "      <th>loc_clusters_users</th>\n",
       "      <th>loc_clusters_movies</th>\n",
       "    </tr>\n",
       "  </thead>\n",
       "  <tbody>\n",
       "    <tr>\n",
       "      <th>0</th>\n",
       "      <td>1</td>\n",
       "      <td>2001: A Space Odyssey (1968)</td>\n",
       "      <td>924</td>\n",
       "      <td>3.5</td>\n",
       "      <td>0</td>\n",
       "      <td>8</td>\n",
       "    </tr>\n",
       "    <tr>\n",
       "      <th>1</th>\n",
       "      <td>1</td>\n",
       "      <td>28 Days Later (2002)</td>\n",
       "      <td>6502</td>\n",
       "      <td>3.5</td>\n",
       "      <td>7</td>\n",
       "      <td>8</td>\n",
       "    </tr>\n",
       "    <tr>\n",
       "      <th>2</th>\n",
       "      <td>1</td>\n",
       "      <td>7th Voyage of Sinbad, The (1958)</td>\n",
       "      <td>3153</td>\n",
       "      <td>4.0</td>\n",
       "      <td>4</td>\n",
       "      <td>8</td>\n",
       "    </tr>\n",
       "    <tr>\n",
       "      <th>3</th>\n",
       "      <td>1</td>\n",
       "      <td>Adventures of Baron Munchausen, The (1988)</td>\n",
       "      <td>4467</td>\n",
       "      <td>4.0</td>\n",
       "      <td>4</td>\n",
       "      <td>8</td>\n",
       "    </tr>\n",
       "    <tr>\n",
       "      <th>4</th>\n",
       "      <td>1</td>\n",
       "      <td>Alien (1979)</td>\n",
       "      <td>1214</td>\n",
       "      <td>4.0</td>\n",
       "      <td>0</td>\n",
       "      <td>8</td>\n",
       "    </tr>\n",
       "    <tr>\n",
       "      <th>...</th>\n",
       "      <td>...</td>\n",
       "      <td>...</td>\n",
       "      <td>...</td>\n",
       "      <td>...</td>\n",
       "      <td>...</td>\n",
       "      <td>...</td>\n",
       "    </tr>\n",
       "    <tr>\n",
       "      <th>149996</th>\n",
       "      <td>994</td>\n",
       "      <td>What About Bob? (1991)</td>\n",
       "      <td>3809</td>\n",
       "      <td>5.0</td>\n",
       "      <td>4</td>\n",
       "      <td>9</td>\n",
       "    </tr>\n",
       "    <tr>\n",
       "      <th>149997</th>\n",
       "      <td>994</td>\n",
       "      <td>What Women Want (2000)</td>\n",
       "      <td>4018</td>\n",
       "      <td>4.0</td>\n",
       "      <td>4</td>\n",
       "      <td>9</td>\n",
       "    </tr>\n",
       "    <tr>\n",
       "      <th>149998</th>\n",
       "      <td>994</td>\n",
       "      <td>White Men Can't Jump (1992)</td>\n",
       "      <td>3263</td>\n",
       "      <td>4.0</td>\n",
       "      <td>4</td>\n",
       "      <td>9</td>\n",
       "    </tr>\n",
       "    <tr>\n",
       "      <th>149999</th>\n",
       "      <td>994</td>\n",
       "      <td>White Oleander (2002)</td>\n",
       "      <td>5668</td>\n",
       "      <td>4.0</td>\n",
       "      <td>7</td>\n",
       "      <td>9</td>\n",
       "    </tr>\n",
       "    <tr>\n",
       "      <th>150000</th>\n",
       "      <td>994</td>\n",
       "      <td>Willy Wonka &amp; the Chocolate Factory (1971)</td>\n",
       "      <td>1073</td>\n",
       "      <td>4.0</td>\n",
       "      <td>0</td>\n",
       "      <td>9</td>\n",
       "    </tr>\n",
       "  </tbody>\n",
       "</table>\n",
       "<p>150001 rows × 6 columns</p>\n",
       "</div>"
      ],
      "text/plain": [
       "        userId                                       title  movieId  rating  \\\n",
       "0            1                2001: A Space Odyssey (1968)      924     3.5   \n",
       "1            1                        28 Days Later (2002)     6502     3.5   \n",
       "2            1            7th Voyage of Sinbad, The (1958)     3153     4.0   \n",
       "3            1  Adventures of Baron Munchausen, The (1988)     4467     4.0   \n",
       "4            1                                Alien (1979)     1214     4.0   \n",
       "...        ...                                         ...      ...     ...   \n",
       "149996     994                      What About Bob? (1991)     3809     5.0   \n",
       "149997     994                      What Women Want (2000)     4018     4.0   \n",
       "149998     994                 White Men Can't Jump (1992)     3263     4.0   \n",
       "149999     994                       White Oleander (2002)     5668     4.0   \n",
       "150000     994  Willy Wonka & the Chocolate Factory (1971)     1073     4.0   \n",
       "\n",
       "        loc_clusters_users  loc_clusters_movies  \n",
       "0                        0                    8  \n",
       "1                        7                    8  \n",
       "2                        4                    8  \n",
       "3                        4                    8  \n",
       "4                        0                    8  \n",
       "...                    ...                  ...  \n",
       "149996                   4                    9  \n",
       "149997                   4                    9  \n",
       "149998                   4                    9  \n",
       "149999                   7                    9  \n",
       "150000                   0                    9  \n",
       "\n",
       "[150001 rows x 6 columns]"
      ]
     },
     "execution_count": 23,
     "metadata": {},
     "output_type": "execute_result"
    }
   ],
   "source": [
    "refined_dataset['loc_clusters_movies'] = identified_movies\n",
    "refined_dataset"
   ]
  },
  {
   "cell_type": "code",
   "execution_count": 24,
   "metadata": {},
   "outputs": [
    {
     "name": "stdout",
     "output_type": "stream",
     "text": [
      "0    19043\n",
      "5    17122\n",
      "1    15893\n",
      "3    15543\n",
      "2    15530\n",
      "6    15171\n",
      "4    14970\n",
      "7    14732\n",
      "9    12787\n",
      "8     9210\n",
      "Name: loc_clusters_movies, dtype: int64\n"
     ]
    }
   ],
   "source": [
    "print(refined_dataset['loc_clusters_movies'].value_counts())"
   ]
  },
  {
   "cell_type": "code",
   "execution_count": 25,
   "metadata": {},
   "outputs": [
    {
     "name": "stdout",
     "output_type": "stream",
     "text": [
      "Enter a movieID: 1214\n",
      "5    31\n",
      "0    29\n",
      "1    24\n",
      "6    22\n",
      "3    21\n",
      "7    20\n",
      "2    18\n",
      "4    15\n",
      "9    15\n",
      "8    14\n",
      "Name: loc_clusters_movies, dtype: int64\n",
      "(5, 31)\n"
     ]
    },
    {
     "data": {
      "text/plain": [
       "5"
      ]
     },
     "execution_count": 25,
     "metadata": {},
     "output_type": "execute_result"
    }
   ],
   "source": [
    "input_movie = input(\"Enter a movieID: \")\n",
    "input_movie = int(input_movie)\n",
    "cluster_movies = refined_dataset.loc[refined_dataset['movieId'] == input_movie, 'loc_clusters_movies']\n",
    "print(cluster_movies.value_counts())\n",
    "cluster_movies = Counter(cluster_movies).most_common(1)[0] # 4, 6 times\n",
    "print(cluster_movies)\n",
    "cluster_movies[0]"
   ]
  },
  {
   "cell_type": "code",
   "execution_count": 26,
   "metadata": {},
   "outputs": [
    {
     "name": "stdout",
     "output_type": "stream",
     "text": [
      "Addams Family Values (1993)\n",
      "Adventures of Priscilla, Queen of the Desert, The (1994)\n",
      "Aladdin (1992)\n",
      "Apollo 13 (1995)\n",
      "Blade Runner (1982)\n"
     ]
    }
   ],
   "source": [
    "movies = refined_dataset.loc[refined_dataset['loc_clusters_movies'] == cluster_movies[0], 'movieId']\n",
    "movies\n",
    "for c in range(5):\n",
    "    if movies.iloc[c] == int(input_movie):\n",
    "        continue\n",
    "    else:\n",
    "       movie1 = refined_dataset.loc[refined_dataset['movieId'] == movies.iloc[c]]\n",
    "       movie1 = movie1['title']\n",
    "       print(movie1.iloc[1])"
   ]
  },
  {
   "cell_type": "markdown",
   "metadata": {},
   "source": [
    "### Export the model "
   ]
  },
  {
   "cell_type": "code",
   "execution_count": 30,
   "metadata": {},
   "outputs": [],
   "source": [
    "with open(\"../models/kmeans_movie.pkl\", \"wb\") as f:\n",
    "    pickle.dump(kmeans_movie, f)"
   ]
  },
  {
   "cell_type": "code",
   "execution_count": 31,
   "metadata": {},
   "outputs": [],
   "source": [
    "with open(\"../models/kmeans_user.pkl\", \"wb\") as f:\n",
    "    pickle.dump(kmeans_user, f)"
   ]
  }
 ],
 "metadata": {
  "colab": {
   "authorship_tag": "ABX9TyM1K937XEBtUiFWogHB4DtZ",
   "collapsed_sections": [
    "jVJu1rsTx0F3"
   ],
   "include_colab_link": true,
   "name": "Item-based-Collaborative-Recommender-System-using-KNN.ipynb",
   "provenance": []
  },
  "kernelspec": {
   "display_name": "Python 3 (ipykernel)",
   "language": "python",
   "name": "python3"
  },
  "language_info": {
   "codemirror_mode": {
    "name": "ipython",
    "version": 3
   },
   "file_extension": ".py",
   "mimetype": "text/x-python",
   "name": "python",
   "nbconvert_exporter": "python",
   "pygments_lexer": "ipython3",
   "version": "3.8.18"
  }
 },
 "nbformat": 4,
 "nbformat_minor": 1
}
