{
 "cells": [
  {
   "cell_type": "markdown",
   "metadata": {
    "colab_type": "text",
    "id": "view-in-github"
   },
   "source": [
    "<a href=\"https://colab.research.google.com/github/rposhala/Recommender-System-on-MovieLens-dataset/blob/main/Item_based_Collaborative_Recommender_System_using_KNN.ipynb\" target=\"_parent\"><img src=\"https://colab.research.google.com/assets/colab-badge.svg\" alt=\"Open In Colab\"/></a>"
   ]
  },
  {
   "cell_type": "markdown",
   "metadata": {},
   "source": [
    "### KMeans clusteting model to build item-based collaborative Recommender System."
   ]
  },
  {
   "cell_type": "code",
   "execution_count": 1,
   "metadata": {
    "id": "bwSPLalV6Rca"
   },
   "outputs": [],
   "source": [
    "import os\n",
    "import numpy as np\n",
    "import pandas as pd\n",
    "import pickle\n",
    "from sklearn.cluster import KMeans\n",
    "from collections import Counter\n",
    "import matplotlib.pyplot as plt\n",
    "from sklearn.metrics import davies_bouldin_score\n",
    "from sklearn.metrics import silhouette_score\n",
    "from sklearn.metrics import calinski_harabasz_score\n",
    "from sklearn import datasets, cluster\n",
    "from sklearn.cluster import AgglomerativeClustering"
   ]
  },
  {
   "cell_type": "markdown",
   "metadata": {},
   "source": [
    "## Loading refined_dataset"
   ]
  },
  {
   "cell_type": "code",
   "execution_count": 2,
   "metadata": {
    "id": "HKw5H628aSY9"
   },
   "outputs": [],
   "source": [
    "refined_dataset = pd.read_csv(\"../data/refined_dataset.csv\")"
   ]
  },
  {
   "cell_type": "markdown",
   "metadata": {},
   "source": [
    "#### Working test a small dataset"
   ]
  },
  {
   "cell_type": "code",
   "execution_count": 3,
   "metadata": {},
   "outputs": [
    {
     "name": "stdout",
     "output_type": "stream",
     "text": [
      "<class 'pandas.core.frame.DataFrame'>\n",
      "RangeIndex: 144999 entries, 0 to 144998\n",
      "Data columns (total 5 columns):\n",
      " #   Column      Non-Null Count   Dtype  \n",
      "---  ------      --------------   -----  \n",
      " 0   Unnamed: 0  144999 non-null  int64  \n",
      " 1   userId      144999 non-null  int64  \n",
      " 2   title       144999 non-null  object \n",
      " 3   movieId     144999 non-null  int64  \n",
      " 4   rating      144999 non-null  float64\n",
      "dtypes: float64(1), int64(3), object(1)\n",
      "memory usage: 5.5+ MB\n"
     ]
    }
   ],
   "source": [
    "refined_dataset.info()"
   ]
  },
  {
   "cell_type": "code",
   "execution_count": 4,
   "metadata": {},
   "outputs": [
    {
     "name": "stdout",
     "output_type": "stream",
     "text": [
      "<class 'pandas.core.frame.DataFrame'>\n",
      "RangeIndex: 144999 entries, 0 to 144998\n",
      "Data columns (total 5 columns):\n",
      " #   Column      Non-Null Count   Dtype  \n",
      "---  ------      --------------   -----  \n",
      " 0   Unnamed: 0  144999 non-null  int64  \n",
      " 1   userId      144999 non-null  int64  \n",
      " 2   title       144999 non-null  object \n",
      " 3   movieId     144999 non-null  int64  \n",
      " 4   rating      144999 non-null  float64\n",
      "dtypes: float64(1), int64(3), object(1)\n",
      "memory usage: 5.5+ MB\n"
     ]
    }
   ],
   "source": [
    "refined_dataset = refined_dataset.loc[0:1000000,:]\n",
    "refined_dataset.info()"
   ]
  },
  {
   "cell_type": "code",
   "execution_count": 5,
   "metadata": {},
   "outputs": [
    {
     "data": {
      "text/html": [
       "<div>\n",
       "<style scoped>\n",
       "    .dataframe tbody tr th:only-of-type {\n",
       "        vertical-align: middle;\n",
       "    }\n",
       "\n",
       "    .dataframe tbody tr th {\n",
       "        vertical-align: top;\n",
       "    }\n",
       "\n",
       "    .dataframe thead th {\n",
       "        text-align: right;\n",
       "    }\n",
       "</style>\n",
       "<table border=\"1\" class=\"dataframe\">\n",
       "  <thead>\n",
       "    <tr style=\"text-align: right;\">\n",
       "      <th></th>\n",
       "      <th>userId</th>\n",
       "      <th>title</th>\n",
       "      <th>movieId</th>\n",
       "      <th>rating</th>\n",
       "    </tr>\n",
       "  </thead>\n",
       "  <tbody>\n",
       "    <tr>\n",
       "      <th>0</th>\n",
       "      <td>1</td>\n",
       "      <td>2001: A Space Odyssey (1968)</td>\n",
       "      <td>924</td>\n",
       "      <td>3.5</td>\n",
       "    </tr>\n",
       "    <tr>\n",
       "      <th>1</th>\n",
       "      <td>1</td>\n",
       "      <td>28 Days Later (2002)</td>\n",
       "      <td>6502</td>\n",
       "      <td>3.5</td>\n",
       "    </tr>\n",
       "    <tr>\n",
       "      <th>2</th>\n",
       "      <td>1</td>\n",
       "      <td>7th Voyage of Sinbad, The (1958)</td>\n",
       "      <td>3153</td>\n",
       "      <td>4.0</td>\n",
       "    </tr>\n",
       "    <tr>\n",
       "      <th>3</th>\n",
       "      <td>1</td>\n",
       "      <td>Adventures of Baron Munchausen, The (1988)</td>\n",
       "      <td>4467</td>\n",
       "      <td>4.0</td>\n",
       "    </tr>\n",
       "    <tr>\n",
       "      <th>4</th>\n",
       "      <td>1</td>\n",
       "      <td>Alien (1979)</td>\n",
       "      <td>1214</td>\n",
       "      <td>4.0</td>\n",
       "    </tr>\n",
       "  </tbody>\n",
       "</table>\n",
       "</div>"
      ],
      "text/plain": [
       "   userId                                       title  movieId  rating\n",
       "0       1                2001: A Space Odyssey (1968)      924     3.5\n",
       "1       1                        28 Days Later (2002)     6502     3.5\n",
       "2       1            7th Voyage of Sinbad, The (1958)     3153     4.0\n",
       "3       1  Adventures of Baron Munchausen, The (1988)     4467     4.0\n",
       "4       1                                Alien (1979)     1214     4.0"
      ]
     },
     "execution_count": 5,
     "metadata": {},
     "output_type": "execute_result"
    }
   ],
   "source": [
    "refined_dataset = refined_dataset.drop('Unnamed: 0', axis='columns')\n",
    "refined_dataset.head()"
   ]
  },
  {
   "cell_type": "markdown",
   "metadata": {},
   "source": [
    "### Recommender System by User\n",
    "#### Inputs = userId\n",
    "#### output = 5 movies"
   ]
  },
  {
   "cell_type": "code",
   "execution_count": 6,
   "metadata": {},
   "outputs": [
    {
     "data": {
      "text/html": [
       "<div>\n",
       "<style scoped>\n",
       "    .dataframe tbody tr th:only-of-type {\n",
       "        vertical-align: middle;\n",
       "    }\n",
       "\n",
       "    .dataframe tbody tr th {\n",
       "        vertical-align: top;\n",
       "    }\n",
       "\n",
       "    .dataframe thead th {\n",
       "        text-align: right;\n",
       "    }\n",
       "</style>\n",
       "<table border=\"1\" class=\"dataframe\">\n",
       "  <thead>\n",
       "    <tr style=\"text-align: right;\">\n",
       "      <th></th>\n",
       "      <th>movieId</th>\n",
       "      <th>rating</th>\n",
       "    </tr>\n",
       "  </thead>\n",
       "  <tbody>\n",
       "    <tr>\n",
       "      <th>0</th>\n",
       "      <td>924</td>\n",
       "      <td>3.5</td>\n",
       "    </tr>\n",
       "    <tr>\n",
       "      <th>1</th>\n",
       "      <td>6502</td>\n",
       "      <td>3.5</td>\n",
       "    </tr>\n",
       "    <tr>\n",
       "      <th>2</th>\n",
       "      <td>3153</td>\n",
       "      <td>4.0</td>\n",
       "    </tr>\n",
       "    <tr>\n",
       "      <th>3</th>\n",
       "      <td>4467</td>\n",
       "      <td>4.0</td>\n",
       "    </tr>\n",
       "    <tr>\n",
       "      <th>4</th>\n",
       "      <td>1214</td>\n",
       "      <td>4.0</td>\n",
       "    </tr>\n",
       "    <tr>\n",
       "      <th>...</th>\n",
       "      <td>...</td>\n",
       "      <td>...</td>\n",
       "    </tr>\n",
       "    <tr>\n",
       "      <th>144994</th>\n",
       "      <td>1934</td>\n",
       "      <td>3.5</td>\n",
       "    </tr>\n",
       "    <tr>\n",
       "      <th>144995</th>\n",
       "      <td>4563</td>\n",
       "      <td>3.0</td>\n",
       "    </tr>\n",
       "    <tr>\n",
       "      <th>144996</th>\n",
       "      <td>1378</td>\n",
       "      <td>3.0</td>\n",
       "    </tr>\n",
       "    <tr>\n",
       "      <th>144997</th>\n",
       "      <td>4816</td>\n",
       "      <td>3.5</td>\n",
       "    </tr>\n",
       "    <tr>\n",
       "      <th>144998</th>\n",
       "      <td>2478</td>\n",
       "      <td>3.5</td>\n",
       "    </tr>\n",
       "  </tbody>\n",
       "</table>\n",
       "<p>144999 rows × 2 columns</p>\n",
       "</div>"
      ],
      "text/plain": [
       "        movieId  rating\n",
       "0           924     3.5\n",
       "1          6502     3.5\n",
       "2          3153     4.0\n",
       "3          4467     4.0\n",
       "4          1214     4.0\n",
       "...         ...     ...\n",
       "144994     1934     3.5\n",
       "144995     4563     3.0\n",
       "144996     1378     3.0\n",
       "144997     4816     3.5\n",
       "144998     2478     3.5\n",
       "\n",
       "[144999 rows x 2 columns]"
      ]
     },
     "execution_count": 6,
     "metadata": {},
     "output_type": "execute_result"
    }
   ],
   "source": [
    "dataset_user = refined_dataset.loc[:, ['movieId', 'rating']] \n",
    "dataset_user"
   ]
  },
  {
   "cell_type": "markdown",
   "metadata": {},
   "source": [
    "### Kmeans 15"
   ]
  },
  {
   "cell_type": "code",
   "execution_count": 7,
   "metadata": {},
   "outputs": [
    {
     "name": "stderr",
     "output_type": "stream",
     "text": [
      "C:\\Users\\rafae\\Desktop\\MLOps\\PF\\venv\\lib\\site-packages\\sklearn\\cluster\\_kmeans.py:1416: FutureWarning: The default value of `n_init` will change from 10 to 'auto' in 1.4. Set the value of `n_init` explicitly to suppress the warning\n",
      "  super()._check_params_vs_input(X, default_n_init=10)\n"
     ]
    },
    {
     "name": "stdout",
     "output_type": "stream",
     "text": [
      "Davies-Bouldin score: 0.49344049470372586\n",
      "Calinski Harabasz score: 4683158.228648474\n"
     ]
    }
   ],
   "source": [
    "kmeans_user_15 = KMeans(15)\n",
    "kmeans_user_15.fit(dataset_user)\n",
    "\n",
    "# Get the cluster labels\n",
    "labels_15 = kmeans_user_15.labels_\n",
    "\n",
    "# Calculate Davies-Bouldin Index\n",
    "db_score_user_15 = davies_bouldin_score(dataset_user, labels_15)\n",
    "print(\"Davies-Bouldin score:\", db_score_user_15)\n",
    "\n",
    "\n",
    "ch_score_user_15 = calinski_harabasz_score(dataset_user, labels_15)\n",
    "print(\"Calinski Harabasz score:\", ch_score_user_15)\n"
   ]
  },
  {
   "cell_type": "markdown",
   "metadata": {},
   "source": [
    "### Kmeans 25"
   ]
  },
  {
   "cell_type": "code",
   "execution_count": 8,
   "metadata": {},
   "outputs": [
    {
     "name": "stderr",
     "output_type": "stream",
     "text": [
      "C:\\Users\\rafae\\Desktop\\MLOps\\PF\\venv\\lib\\site-packages\\sklearn\\cluster\\_kmeans.py:1416: FutureWarning: The default value of `n_init` will change from 10 to 'auto' in 1.4. Set the value of `n_init` explicitly to suppress the warning\n",
      "  super()._check_params_vs_input(X, default_n_init=10)\n"
     ]
    },
    {
     "name": "stdout",
     "output_type": "stream",
     "text": [
      "Davies-Bouldin score: 0.4620841911804072\n",
      "Calinski Harabasz score: 8115978.014425691\n"
     ]
    }
   ],
   "source": [
    "kmeans_user_25 = KMeans(25)\n",
    "kmeans_user_25.fit(dataset_user)\n",
    "\n",
    "# Get the cluster labels\n",
    "labels_25 = kmeans_user_25.labels_\n",
    "\n",
    "# Calculate Davies-Bouldin Index\n",
    "db_score_user_25 = davies_bouldin_score(dataset_user, labels_25)\n",
    "print(\"Davies-Bouldin score:\", db_score_user_25)\n",
    "\n",
    "\n",
    "ch_score_user_25 = calinski_harabasz_score(dataset_user, labels_25)\n",
    "print(\"Calinski Harabasz score:\", ch_score_user_25)\n"
   ]
  },
  {
   "cell_type": "markdown",
   "metadata": {},
   "source": [
    "### Kmeans 35"
   ]
  },
  {
   "cell_type": "code",
   "execution_count": 9,
   "metadata": {},
   "outputs": [
    {
     "name": "stderr",
     "output_type": "stream",
     "text": [
      "C:\\Users\\rafae\\Desktop\\MLOps\\PF\\venv\\lib\\site-packages\\sklearn\\cluster\\_kmeans.py:1416: FutureWarning: The default value of `n_init` will change from 10 to 'auto' in 1.4. Set the value of `n_init` explicitly to suppress the warning\n",
      "  super()._check_params_vs_input(X, default_n_init=10)\n"
     ]
    },
    {
     "name": "stdout",
     "output_type": "stream",
     "text": [
      "Davies-Bouldin score: 0.4739652898653966\n",
      "Calinski Harabasz score: 11674312.353188436\n"
     ]
    }
   ],
   "source": [
    "kmeans_user_35 = KMeans(35)\n",
    "kmeans_user_35.fit(dataset_user)\n",
    "\n",
    "# Get the cluster labels\n",
    "labels_35 = kmeans_user_35.labels_\n",
    "\n",
    "# Calculate Davies-Bouldin Index\n",
    "db_score_user_35 = davies_bouldin_score(dataset_user, labels_35)\n",
    "print(\"Davies-Bouldin score:\", db_score_user_35)\n",
    "\n",
    "\n",
    "ch_score_user_35 = calinski_harabasz_score(dataset_user, labels_35)\n",
    "print(\"Calinski Harabasz score:\", ch_score_user_35)"
   ]
  },
  {
   "cell_type": "markdown",
   "metadata": {},
   "source": [
    "### Kmeans 45"
   ]
  },
  {
   "cell_type": "code",
   "execution_count": 10,
   "metadata": {},
   "outputs": [
    {
     "name": "stderr",
     "output_type": "stream",
     "text": [
      "C:\\Users\\rafae\\Desktop\\MLOps\\PF\\venv\\lib\\site-packages\\sklearn\\cluster\\_kmeans.py:1416: FutureWarning: The default value of `n_init` will change from 10 to 'auto' in 1.4. Set the value of `n_init` explicitly to suppress the warning\n",
      "  super()._check_params_vs_input(X, default_n_init=10)\n"
     ]
    },
    {
     "name": "stdout",
     "output_type": "stream",
     "text": [
      "Davies-Bouldin score: 0.4752483436826433\n",
      "Calinski Harabasz score: 14895074.798272185\n"
     ]
    }
   ],
   "source": [
    "kmeans_user_45 = KMeans(45)\n",
    "kmeans_user_45.fit(dataset_user)\n",
    "\n",
    "# Get the cluster labels\n",
    "labels_45 = kmeans_user_45.labels_\n",
    "\n",
    "# Calculate Davies-Bouldin Index\n",
    "db_score_user_45 = davies_bouldin_score(dataset_user, labels_45)\n",
    "print(\"Davies-Bouldin score:\", db_score_user_45)\n",
    "\n",
    "\n",
    "ch_score_user_45 = calinski_harabasz_score(dataset_user, labels_45)\n",
    "print(\"Calinski Harabasz score:\", ch_score_user_45)"
   ]
  },
  {
   "cell_type": "markdown",
   "metadata": {},
   "source": [
    "### Comparing Davies-Bouldin"
   ]
  },
  {
   "cell_type": "code",
   "execution_count": 11,
   "metadata": {},
   "outputs": [
    {
     "data": {
      "text/html": [
       "<div>\n",
       "<style scoped>\n",
       "    .dataframe tbody tr th:only-of-type {\n",
       "        vertical-align: middle;\n",
       "    }\n",
       "\n",
       "    .dataframe tbody tr th {\n",
       "        vertical-align: top;\n",
       "    }\n",
       "\n",
       "    .dataframe thead th {\n",
       "        text-align: right;\n",
       "    }\n",
       "</style>\n",
       "<table border=\"1\" class=\"dataframe\">\n",
       "  <thead>\n",
       "    <tr style=\"text-align: right;\">\n",
       "      <th></th>\n",
       "      <th>num_cluster_user</th>\n",
       "      <th>Davies-Bouldin_score</th>\n",
       "    </tr>\n",
       "  </thead>\n",
       "  <tbody>\n",
       "    <tr>\n",
       "      <th>0</th>\n",
       "      <td>db_score_user_15</td>\n",
       "      <td>0.493440</td>\n",
       "    </tr>\n",
       "    <tr>\n",
       "      <th>1</th>\n",
       "      <td>db_score_user_25</td>\n",
       "      <td>0.462084</td>\n",
       "    </tr>\n",
       "    <tr>\n",
       "      <th>2</th>\n",
       "      <td>db_score_user_35</td>\n",
       "      <td>0.473965</td>\n",
       "    </tr>\n",
       "    <tr>\n",
       "      <th>3</th>\n",
       "      <td>db_score_user_45</td>\n",
       "      <td>0.475248</td>\n",
       "    </tr>\n",
       "  </tbody>\n",
       "</table>\n",
       "</div>"
      ],
      "text/plain": [
       "   num_cluster_user  Davies-Bouldin_score\n",
       "0  db_score_user_15              0.493440\n",
       "1  db_score_user_25              0.462084\n",
       "2  db_score_user_35              0.473965\n",
       "3  db_score_user_45              0.475248"
      ]
     },
     "execution_count": 11,
     "metadata": {},
     "output_type": "execute_result"
    }
   ],
   "source": [
    "db_score_user = [['db_score_user_15', db_score_user_15], ['db_score_user_25', db_score_user_25], ['db_score_user_35' , db_score_user_35], ['db_score_user_45', db_score_user_45]]\n",
    " \n",
    "# Create the pandas DataFrame\n",
    "DB_score_user = pd.DataFrame(db_score_user, columns=['num_cluster_user', 'Davies-Bouldin_score'])\n",
    "DB_score_user.head()"
   ]
  },
  {
   "cell_type": "code",
   "execution_count": 13,
   "metadata": {},
   "outputs": [
    {
     "data": {
      "text/plain": [
       "25"
      ]
     },
     "execution_count": 13,
     "metadata": {},
     "output_type": "execute_result"
    }
   ],
   "source": [
    "best_DB_score_user = DB_score_user.loc[DB_score_user['Davies-Bouldin_score'].idxmin()]\n",
    "num_clus_user = int(best_DB_score_user.num_cluster_user[14:16])\n",
    "num_clus_user\n"
   ]
  },
  {
   "cell_type": "code",
   "execution_count": 15,
   "metadata": {},
   "outputs": [],
   "source": [
    "kmeans_user = KMeans(num_clus_user)"
   ]
  },
  {
   "cell_type": "code",
   "execution_count": 16,
   "metadata": {},
   "outputs": [
    {
     "name": "stderr",
     "output_type": "stream",
     "text": [
      "C:\\Users\\rafae\\Desktop\\MLOps\\PF\\venv\\lib\\site-packages\\sklearn\\cluster\\_kmeans.py:1416: FutureWarning: The default value of `n_init` will change from 10 to 'auto' in 1.4. Set the value of `n_init` explicitly to suppress the warning\n",
      "  super()._check_params_vs_input(X, default_n_init=10)\n"
     ]
    }
   ],
   "source": [
    "identified_users= kmeans_user.fit_predict(dataset_user)\n",
    "identified_users = list(identified_users)"
   ]
  },
  {
   "cell_type": "code",
   "execution_count": 17,
   "metadata": {},
   "outputs": [
    {
     "data": {
      "text/html": [
       "<div>\n",
       "<style scoped>\n",
       "    .dataframe tbody tr th:only-of-type {\n",
       "        vertical-align: middle;\n",
       "    }\n",
       "\n",
       "    .dataframe tbody tr th {\n",
       "        vertical-align: top;\n",
       "    }\n",
       "\n",
       "    .dataframe thead th {\n",
       "        text-align: right;\n",
       "    }\n",
       "</style>\n",
       "<table border=\"1\" class=\"dataframe\">\n",
       "  <thead>\n",
       "    <tr style=\"text-align: right;\">\n",
       "      <th></th>\n",
       "      <th>userId</th>\n",
       "      <th>title</th>\n",
       "      <th>movieId</th>\n",
       "      <th>rating</th>\n",
       "      <th>loc_clusters_users</th>\n",
       "    </tr>\n",
       "  </thead>\n",
       "  <tbody>\n",
       "    <tr>\n",
       "      <th>0</th>\n",
       "      <td>1</td>\n",
       "      <td>2001: A Space Odyssey (1968)</td>\n",
       "      <td>924</td>\n",
       "      <td>3.5</td>\n",
       "      <td>8</td>\n",
       "    </tr>\n",
       "    <tr>\n",
       "      <th>1</th>\n",
       "      <td>1</td>\n",
       "      <td>28 Days Later (2002)</td>\n",
       "      <td>6502</td>\n",
       "      <td>3.5</td>\n",
       "      <td>4</td>\n",
       "    </tr>\n",
       "    <tr>\n",
       "      <th>2</th>\n",
       "      <td>1</td>\n",
       "      <td>7th Voyage of Sinbad, The (1958)</td>\n",
       "      <td>3153</td>\n",
       "      <td>4.0</td>\n",
       "      <td>23</td>\n",
       "    </tr>\n",
       "    <tr>\n",
       "      <th>3</th>\n",
       "      <td>1</td>\n",
       "      <td>Adventures of Baron Munchausen, The (1988)</td>\n",
       "      <td>4467</td>\n",
       "      <td>4.0</td>\n",
       "      <td>18</td>\n",
       "    </tr>\n",
       "    <tr>\n",
       "      <th>4</th>\n",
       "      <td>1</td>\n",
       "      <td>Alien (1979)</td>\n",
       "      <td>1214</td>\n",
       "      <td>4.0</td>\n",
       "      <td>8</td>\n",
       "    </tr>\n",
       "    <tr>\n",
       "      <th>...</th>\n",
       "      <td>...</td>\n",
       "      <td>...</td>\n",
       "      <td>...</td>\n",
       "      <td>...</td>\n",
       "      <td>...</td>\n",
       "    </tr>\n",
       "    <tr>\n",
       "      <th>144994</th>\n",
       "      <td>971</td>\n",
       "      <td>You Can't Take It with You (1938)</td>\n",
       "      <td>1934</td>\n",
       "      <td>3.5</td>\n",
       "      <td>1</td>\n",
       "    </tr>\n",
       "    <tr>\n",
       "      <th>144995</th>\n",
       "      <td>971</td>\n",
       "      <td>Young Einstein (1988)</td>\n",
       "      <td>4563</td>\n",
       "      <td>3.0</td>\n",
       "      <td>12</td>\n",
       "    </tr>\n",
       "    <tr>\n",
       "      <th>144996</th>\n",
       "      <td>971</td>\n",
       "      <td>Young Guns (1988)</td>\n",
       "      <td>1378</td>\n",
       "      <td>3.0</td>\n",
       "      <td>8</td>\n",
       "    </tr>\n",
       "    <tr>\n",
       "      <th>144997</th>\n",
       "      <td>971</td>\n",
       "      <td>Zoolander (2001)</td>\n",
       "      <td>4816</td>\n",
       "      <td>3.5</td>\n",
       "      <td>12</td>\n",
       "    </tr>\n",
       "    <tr>\n",
       "      <th>144998</th>\n",
       "      <td>971</td>\n",
       "      <td>¡Three Amigos! (1986)</td>\n",
       "      <td>2478</td>\n",
       "      <td>3.5</td>\n",
       "      <td>23</td>\n",
       "    </tr>\n",
       "  </tbody>\n",
       "</table>\n",
       "<p>144999 rows × 5 columns</p>\n",
       "</div>"
      ],
      "text/plain": [
       "        userId                                       title  movieId  rating  \\\n",
       "0            1                2001: A Space Odyssey (1968)      924     3.5   \n",
       "1            1                        28 Days Later (2002)     6502     3.5   \n",
       "2            1            7th Voyage of Sinbad, The (1958)     3153     4.0   \n",
       "3            1  Adventures of Baron Munchausen, The (1988)     4467     4.0   \n",
       "4            1                                Alien (1979)     1214     4.0   \n",
       "...        ...                                         ...      ...     ...   \n",
       "144994     971           You Can't Take It with You (1938)     1934     3.5   \n",
       "144995     971                       Young Einstein (1988)     4563     3.0   \n",
       "144996     971                           Young Guns (1988)     1378     3.0   \n",
       "144997     971                            Zoolander (2001)     4816     3.5   \n",
       "144998     971                       ¡Three Amigos! (1986)     2478     3.5   \n",
       "\n",
       "        loc_clusters_users  \n",
       "0                        8  \n",
       "1                        4  \n",
       "2                       23  \n",
       "3                       18  \n",
       "4                        8  \n",
       "...                    ...  \n",
       "144994                   1  \n",
       "144995                  12  \n",
       "144996                   8  \n",
       "144997                  12  \n",
       "144998                  23  \n",
       "\n",
       "[144999 rows x 5 columns]"
      ]
     },
     "execution_count": 17,
     "metadata": {},
     "output_type": "execute_result"
    }
   ],
   "source": [
    "refined_dataset['loc_clusters_users'] = identified_users\n",
    "refined_dataset"
   ]
  },
  {
   "cell_type": "code",
   "execution_count": 18,
   "metadata": {},
   "outputs": [
    {
     "name": "stdout",
     "output_type": "stream",
     "text": [
      "14    33159\n",
      "8     25670\n",
      "1     18478\n",
      "23    17230\n",
      "18    13655\n",
      "12     8866\n",
      "4      8171\n",
      "17     3184\n",
      "11     1926\n",
      "6      1420\n",
      "9      1321\n",
      "19     1298\n",
      "21     1179\n",
      "2      1053\n",
      "22     1039\n",
      "15     1013\n",
      "7       970\n",
      "20      943\n",
      "10      891\n",
      "0       814\n",
      "5       754\n",
      "24      593\n",
      "16      570\n",
      "3       500\n",
      "13      302\n",
      "Name: loc_clusters_users, dtype: int64\n"
     ]
    }
   ],
   "source": [
    "print(refined_dataset['loc_clusters_users'].value_counts())"
   ]
  },
  {
   "cell_type": "code",
   "execution_count": 19,
   "metadata": {},
   "outputs": [
    {
     "name": "stdout",
     "output_type": "stream",
     "text": [
      "14    46\n",
      "8      6\n",
      "Name: loc_clusters_users, dtype: int64\n",
      "(14, 46)\n"
     ]
    },
    {
     "data": {
      "text/plain": [
       "14"
      ]
     },
     "execution_count": 19,
     "metadata": {},
     "output_type": "execute_result"
    }
   ],
   "source": [
    "input_user = 100\n",
    "input_user = int(input_user)\n",
    "cluster_users = refined_dataset.loc[refined_dataset['userId'] == input_user, 'loc_clusters_users']\n",
    "print(cluster_users.value_counts())\n",
    "cluster_users = Counter(cluster_users).most_common(1)[0] # 4, 6 times\n",
    "print(cluster_users)\n",
    "cluster_users[0]"
   ]
  },
  {
   "cell_type": "markdown",
   "metadata": {},
   "source": [
    "#### Check the name of the movie from its ID"
   ]
  },
  {
   "cell_type": "code",
   "execution_count": 20,
   "metadata": {},
   "outputs": [
    {
     "data": {
      "text/html": [
       "<div>\n",
       "<style scoped>\n",
       "    .dataframe tbody tr th:only-of-type {\n",
       "        vertical-align: middle;\n",
       "    }\n",
       "\n",
       "    .dataframe tbody tr th {\n",
       "        vertical-align: top;\n",
       "    }\n",
       "\n",
       "    .dataframe thead th {\n",
       "        text-align: right;\n",
       "    }\n",
       "</style>\n",
       "<table border=\"1\" class=\"dataframe\">\n",
       "  <thead>\n",
       "    <tr style=\"text-align: right;\">\n",
       "      <th></th>\n",
       "      <th>list_movies_title</th>\n",
       "      <th>list_movie_id</th>\n",
       "    </tr>\n",
       "  </thead>\n",
       "  <tbody>\n",
       "    <tr>\n",
       "      <th>4401</th>\n",
       "      <td>Heat (1995)</td>\n",
       "      <td>6</td>\n",
       "    </tr>\n",
       "    <tr>\n",
       "      <th>19063</th>\n",
       "      <td>Money Train (1995)</td>\n",
       "      <td>20</td>\n",
       "    </tr>\n",
       "    <tr>\n",
       "      <th>17925</th>\n",
       "      <td>Ace Ventura: When Nature Calls (1995)</td>\n",
       "      <td>19</td>\n",
       "    </tr>\n",
       "    <tr>\n",
       "      <th>17190</th>\n",
       "      <td>Casino (1995)</td>\n",
       "      <td>16</td>\n",
       "    </tr>\n",
       "    <tr>\n",
       "      <th>6726</th>\n",
       "      <td>Tom and Huck (1995)</td>\n",
       "      <td>8</td>\n",
       "    </tr>\n",
       "  </tbody>\n",
       "</table>\n",
       "</div>"
      ],
      "text/plain": [
       "                           list_movies_title  list_movie_id\n",
       "4401                             Heat (1995)              6\n",
       "19063                     Money Train (1995)             20\n",
       "17925  Ace Ventura: When Nature Calls (1995)             19\n",
       "17190                          Casino (1995)             16\n",
       "6726                     Tom and Huck (1995)              8"
      ]
     },
     "execution_count": 20,
     "metadata": {},
     "output_type": "execute_result"
    }
   ],
   "source": [
    "users = refined_dataset.loc[refined_dataset['loc_clusters_users'] == cluster_users[0], 'userId']\n",
    "users_list = users.tolist()\n",
    "list_movie_id = []\n",
    "list_movies_title = []\n",
    "\n",
    "for c in users_list:\n",
    "        movie = refined_dataset.loc[refined_dataset['movieId'] == users.iloc[c]]\n",
    "        if len(movie) != 0:\n",
    "            movie_data = movie.iloc[0]\n",
    "            movie_title = movie_data.title\n",
    "            movie_id = movie_data.movieId\n",
    "            list_movie_id.append(movie_id)\n",
    "            list_movies_title.append(movie_title)\n",
    "        #print('Recommended movie title:', movie_reco.iloc[0])\n",
    "        #print('Recommended movie id:', movie_id.iloc[0])\n",
    "\n",
    "\n",
    "movie_reco_df = pd.DataFrame(list(zip(list_movies_title, list_movie_id)), columns=['list_movies_title', 'list_movie_id'])\n",
    "movie_reco_df = movie_reco_df.drop_duplicates()\n",
    "movie_reco_df.sample(n=5) "
   ]
  },
  {
   "cell_type": "code",
   "execution_count": 21,
   "metadata": {},
   "outputs": [
    {
     "data": {
      "text/html": [
       "<div>\n",
       "<style scoped>\n",
       "    .dataframe tbody tr th:only-of-type {\n",
       "        vertical-align: middle;\n",
       "    }\n",
       "\n",
       "    .dataframe tbody tr th {\n",
       "        vertical-align: top;\n",
       "    }\n",
       "\n",
       "    .dataframe thead th {\n",
       "        text-align: right;\n",
       "    }\n",
       "</style>\n",
       "<table border=\"1\" class=\"dataframe\">\n",
       "  <thead>\n",
       "    <tr style=\"text-align: right;\">\n",
       "      <th></th>\n",
       "      <th>list_movies_title</th>\n",
       "      <th>list_movie_id</th>\n",
       "    </tr>\n",
       "  </thead>\n",
       "  <tbody>\n",
       "    <tr>\n",
       "      <th>0</th>\n",
       "      <td>Toy Story (1995)</td>\n",
       "      <td>1</td>\n",
       "    </tr>\n",
       "    <tr>\n",
       "      <th>537</th>\n",
       "      <td>Jumanji (1995)</td>\n",
       "      <td>2</td>\n",
       "    </tr>\n",
       "    <tr>\n",
       "      <th>1089</th>\n",
       "      <td>Grumpier Old Men (1995)</td>\n",
       "      <td>3</td>\n",
       "    </tr>\n",
       "    <tr>\n",
       "      <th>1870</th>\n",
       "      <td>Waiting to Exhale (1995)</td>\n",
       "      <td>4</td>\n",
       "    </tr>\n",
       "    <tr>\n",
       "      <th>2581</th>\n",
       "      <td>Father of the Bride Part II (1995)</td>\n",
       "      <td>5</td>\n",
       "    </tr>\n",
       "    <tr>\n",
       "      <th>4401</th>\n",
       "      <td>Heat (1995)</td>\n",
       "      <td>6</td>\n",
       "    </tr>\n",
       "    <tr>\n",
       "      <th>5084</th>\n",
       "      <td>Sabrina (1995)</td>\n",
       "      <td>7</td>\n",
       "    </tr>\n",
       "    <tr>\n",
       "      <th>6726</th>\n",
       "      <td>Tom and Huck (1995)</td>\n",
       "      <td>8</td>\n",
       "    </tr>\n",
       "    <tr>\n",
       "      <th>8738</th>\n",
       "      <td>Sudden Death (1995)</td>\n",
       "      <td>9</td>\n",
       "    </tr>\n",
       "    <tr>\n",
       "      <th>8788</th>\n",
       "      <td>GoldenEye (1995)</td>\n",
       "      <td>10</td>\n",
       "    </tr>\n",
       "    <tr>\n",
       "      <th>8934</th>\n",
       "      <td>American President, The (1995)</td>\n",
       "      <td>11</td>\n",
       "    </tr>\n",
       "    <tr>\n",
       "      <th>10842</th>\n",
       "      <td>Dracula: Dead and Loving It (1995)</td>\n",
       "      <td>12</td>\n",
       "    </tr>\n",
       "    <tr>\n",
       "      <th>12078</th>\n",
       "      <td>Balto (1995)</td>\n",
       "      <td>13</td>\n",
       "    </tr>\n",
       "    <tr>\n",
       "      <th>14362</th>\n",
       "      <td>Nixon (1995)</td>\n",
       "      <td>14</td>\n",
       "    </tr>\n",
       "    <tr>\n",
       "      <th>15650</th>\n",
       "      <td>Cutthroat Island (1995)</td>\n",
       "      <td>15</td>\n",
       "    </tr>\n",
       "    <tr>\n",
       "      <th>17190</th>\n",
       "      <td>Casino (1995)</td>\n",
       "      <td>16</td>\n",
       "    </tr>\n",
       "    <tr>\n",
       "      <th>17602</th>\n",
       "      <td>Sense and Sensibility (1995)</td>\n",
       "      <td>17</td>\n",
       "    </tr>\n",
       "    <tr>\n",
       "      <th>17742</th>\n",
       "      <td>Four Rooms (1995)</td>\n",
       "      <td>18</td>\n",
       "    </tr>\n",
       "    <tr>\n",
       "      <th>17925</th>\n",
       "      <td>Ace Ventura: When Nature Calls (1995)</td>\n",
       "      <td>19</td>\n",
       "    </tr>\n",
       "    <tr>\n",
       "      <th>19063</th>\n",
       "      <td>Money Train (1995)</td>\n",
       "      <td>20</td>\n",
       "    </tr>\n",
       "    <tr>\n",
       "      <th>19392</th>\n",
       "      <td>Get Shorty (1995)</td>\n",
       "      <td>21</td>\n",
       "    </tr>\n",
       "    <tr>\n",
       "      <th>20506</th>\n",
       "      <td>Copycat (1995)</td>\n",
       "      <td>22</td>\n",
       "    </tr>\n",
       "    <tr>\n",
       "      <th>21541</th>\n",
       "      <td>Assassins (1995)</td>\n",
       "      <td>23</td>\n",
       "    </tr>\n",
       "    <tr>\n",
       "      <th>22381</th>\n",
       "      <td>Powder (1995)</td>\n",
       "      <td>24</td>\n",
       "    </tr>\n",
       "    <tr>\n",
       "      <th>26096</th>\n",
       "      <td>Leaving Las Vegas (1995)</td>\n",
       "      <td>25</td>\n",
       "    </tr>\n",
       "    <tr>\n",
       "      <th>27714</th>\n",
       "      <td>Othello (1995)</td>\n",
       "      <td>26</td>\n",
       "    </tr>\n",
       "    <tr>\n",
       "      <th>29410</th>\n",
       "      <td>Now and Then (1995)</td>\n",
       "      <td>27</td>\n",
       "    </tr>\n",
       "    <tr>\n",
       "      <th>29794</th>\n",
       "      <td>Persuasion (1995)</td>\n",
       "      <td>28</td>\n",
       "    </tr>\n",
       "    <tr>\n",
       "      <th>31104</th>\n",
       "      <td>City of Lost Children, The (Cité des enfants p...</td>\n",
       "      <td>29</td>\n",
       "    </tr>\n",
       "  </tbody>\n",
       "</table>\n",
       "</div>"
      ],
      "text/plain": [
       "                                       list_movies_title  list_movie_id\n",
       "0                                       Toy Story (1995)              1\n",
       "537                                       Jumanji (1995)              2\n",
       "1089                             Grumpier Old Men (1995)              3\n",
       "1870                            Waiting to Exhale (1995)              4\n",
       "2581                  Father of the Bride Part II (1995)              5\n",
       "4401                                         Heat (1995)              6\n",
       "5084                                      Sabrina (1995)              7\n",
       "6726                                 Tom and Huck (1995)              8\n",
       "8738                                 Sudden Death (1995)              9\n",
       "8788                                    GoldenEye (1995)             10\n",
       "8934                      American President, The (1995)             11\n",
       "10842                 Dracula: Dead and Loving It (1995)             12\n",
       "12078                                       Balto (1995)             13\n",
       "14362                                       Nixon (1995)             14\n",
       "15650                            Cutthroat Island (1995)             15\n",
       "17190                                      Casino (1995)             16\n",
       "17602                       Sense and Sensibility (1995)             17\n",
       "17742                                  Four Rooms (1995)             18\n",
       "17925              Ace Ventura: When Nature Calls (1995)             19\n",
       "19063                                 Money Train (1995)             20\n",
       "19392                                  Get Shorty (1995)             21\n",
       "20506                                     Copycat (1995)             22\n",
       "21541                                   Assassins (1995)             23\n",
       "22381                                      Powder (1995)             24\n",
       "26096                           Leaving Las Vegas (1995)             25\n",
       "27714                                     Othello (1995)             26\n",
       "29410                                Now and Then (1995)             27\n",
       "29794                                  Persuasion (1995)             28\n",
       "31104  City of Lost Children, The (Cité des enfants p...             29"
      ]
     },
     "execution_count": 21,
     "metadata": {},
     "output_type": "execute_result"
    }
   ],
   "source": [
    "movie_reco_df"
   ]
  },
  {
   "cell_type": "code",
   "execution_count": 22,
   "metadata": {},
   "outputs": [
    {
     "name": "stdout",
     "output_type": "stream",
     "text": [
      "<class 'pandas.core.frame.DataFrame'>\n",
      "Int64Index: 29 entries, 0 to 31104\n",
      "Data columns (total 2 columns):\n",
      " #   Column             Non-Null Count  Dtype \n",
      "---  ------             --------------  ----- \n",
      " 0   list_movies_title  29 non-null     object\n",
      " 1   list_movie_id      29 non-null     int64 \n",
      "dtypes: int64(1), object(1)\n",
      "memory usage: 696.0+ bytes\n"
     ]
    }
   ],
   "source": [
    "movie_reco_df.info()"
   ]
  },
  {
   "cell_type": "markdown",
   "metadata": {},
   "source": [
    "### Recommender System by Movie\n",
    "#### Inputs = movieId\n",
    "#### Output = 5 movies"
   ]
  },
  {
   "cell_type": "code",
   "execution_count": 23,
   "metadata": {},
   "outputs": [
    {
     "data": {
      "text/html": [
       "<div>\n",
       "<style scoped>\n",
       "    .dataframe tbody tr th:only-of-type {\n",
       "        vertical-align: middle;\n",
       "    }\n",
       "\n",
       "    .dataframe tbody tr th {\n",
       "        vertical-align: top;\n",
       "    }\n",
       "\n",
       "    .dataframe thead th {\n",
       "        text-align: right;\n",
       "    }\n",
       "</style>\n",
       "<table border=\"1\" class=\"dataframe\">\n",
       "  <thead>\n",
       "    <tr style=\"text-align: right;\">\n",
       "      <th></th>\n",
       "      <th>userId</th>\n",
       "      <th>title</th>\n",
       "      <th>movieId</th>\n",
       "      <th>rating</th>\n",
       "      <th>loc_clusters_users</th>\n",
       "    </tr>\n",
       "  </thead>\n",
       "  <tbody>\n",
       "    <tr>\n",
       "      <th>0</th>\n",
       "      <td>1</td>\n",
       "      <td>2001: A Space Odyssey (1968)</td>\n",
       "      <td>924</td>\n",
       "      <td>3.5</td>\n",
       "      <td>8</td>\n",
       "    </tr>\n",
       "    <tr>\n",
       "      <th>1</th>\n",
       "      <td>1</td>\n",
       "      <td>28 Days Later (2002)</td>\n",
       "      <td>6502</td>\n",
       "      <td>3.5</td>\n",
       "      <td>4</td>\n",
       "    </tr>\n",
       "    <tr>\n",
       "      <th>2</th>\n",
       "      <td>1</td>\n",
       "      <td>7th Voyage of Sinbad, The (1958)</td>\n",
       "      <td>3153</td>\n",
       "      <td>4.0</td>\n",
       "      <td>23</td>\n",
       "    </tr>\n",
       "    <tr>\n",
       "      <th>3</th>\n",
       "      <td>1</td>\n",
       "      <td>Adventures of Baron Munchausen, The (1988)</td>\n",
       "      <td>4467</td>\n",
       "      <td>4.0</td>\n",
       "      <td>18</td>\n",
       "    </tr>\n",
       "    <tr>\n",
       "      <th>4</th>\n",
       "      <td>1</td>\n",
       "      <td>Alien (1979)</td>\n",
       "      <td>1214</td>\n",
       "      <td>4.0</td>\n",
       "      <td>8</td>\n",
       "    </tr>\n",
       "    <tr>\n",
       "      <th>...</th>\n",
       "      <td>...</td>\n",
       "      <td>...</td>\n",
       "      <td>...</td>\n",
       "      <td>...</td>\n",
       "      <td>...</td>\n",
       "    </tr>\n",
       "    <tr>\n",
       "      <th>144994</th>\n",
       "      <td>971</td>\n",
       "      <td>You Can't Take It with You (1938)</td>\n",
       "      <td>1934</td>\n",
       "      <td>3.5</td>\n",
       "      <td>1</td>\n",
       "    </tr>\n",
       "    <tr>\n",
       "      <th>144995</th>\n",
       "      <td>971</td>\n",
       "      <td>Young Einstein (1988)</td>\n",
       "      <td>4563</td>\n",
       "      <td>3.0</td>\n",
       "      <td>12</td>\n",
       "    </tr>\n",
       "    <tr>\n",
       "      <th>144996</th>\n",
       "      <td>971</td>\n",
       "      <td>Young Guns (1988)</td>\n",
       "      <td>1378</td>\n",
       "      <td>3.0</td>\n",
       "      <td>8</td>\n",
       "    </tr>\n",
       "    <tr>\n",
       "      <th>144997</th>\n",
       "      <td>971</td>\n",
       "      <td>Zoolander (2001)</td>\n",
       "      <td>4816</td>\n",
       "      <td>3.5</td>\n",
       "      <td>12</td>\n",
       "    </tr>\n",
       "    <tr>\n",
       "      <th>144998</th>\n",
       "      <td>971</td>\n",
       "      <td>¡Three Amigos! (1986)</td>\n",
       "      <td>2478</td>\n",
       "      <td>3.5</td>\n",
       "      <td>23</td>\n",
       "    </tr>\n",
       "  </tbody>\n",
       "</table>\n",
       "<p>144999 rows × 5 columns</p>\n",
       "</div>"
      ],
      "text/plain": [
       "        userId                                       title  movieId  rating  \\\n",
       "0            1                2001: A Space Odyssey (1968)      924     3.5   \n",
       "1            1                        28 Days Later (2002)     6502     3.5   \n",
       "2            1            7th Voyage of Sinbad, The (1958)     3153     4.0   \n",
       "3            1  Adventures of Baron Munchausen, The (1988)     4467     4.0   \n",
       "4            1                                Alien (1979)     1214     4.0   \n",
       "...        ...                                         ...      ...     ...   \n",
       "144994     971           You Can't Take It with You (1938)     1934     3.5   \n",
       "144995     971                       Young Einstein (1988)     4563     3.0   \n",
       "144996     971                           Young Guns (1988)     1378     3.0   \n",
       "144997     971                            Zoolander (2001)     4816     3.5   \n",
       "144998     971                       ¡Three Amigos! (1986)     2478     3.5   \n",
       "\n",
       "        loc_clusters_users  \n",
       "0                        8  \n",
       "1                        4  \n",
       "2                       23  \n",
       "3                       18  \n",
       "4                        8  \n",
       "...                    ...  \n",
       "144994                   1  \n",
       "144995                  12  \n",
       "144996                   8  \n",
       "144997                  12  \n",
       "144998                  23  \n",
       "\n",
       "[144999 rows x 5 columns]"
      ]
     },
     "execution_count": 23,
     "metadata": {},
     "output_type": "execute_result"
    }
   ],
   "source": [
    "refined_dataset"
   ]
  },
  {
   "cell_type": "code",
   "execution_count": 24,
   "metadata": {},
   "outputs": [],
   "source": [
    "dataset_movie = refined_dataset.loc[:, ['userId', 'rating']] "
   ]
  },
  {
   "cell_type": "markdown",
   "metadata": {},
   "source": [
    "### Kmeans 15"
   ]
  },
  {
   "cell_type": "code",
   "execution_count": 25,
   "metadata": {},
   "outputs": [
    {
     "name": "stderr",
     "output_type": "stream",
     "text": [
      "C:\\Users\\rafae\\Desktop\\MLOps\\PF\\venv\\lib\\site-packages\\sklearn\\cluster\\_kmeans.py:1416: FutureWarning: The default value of `n_init` will change from 10 to 'auto' in 1.4. Set the value of `n_init` explicitly to suppress the warning\n",
      "  super()._check_params_vs_input(X, default_n_init=10)\n"
     ]
    },
    {
     "name": "stdout",
     "output_type": "stream",
     "text": [
      "Davies-Bouldin score: 0.49038151276109093\n",
      "Calinski Harabasz score: 2430950.6569256373\n"
     ]
    }
   ],
   "source": [
    "kmeans_movie_15 = KMeans(15)\n",
    "kmeans_movie_15.fit(dataset_movie)\n",
    "\n",
    "# Get the cluster labels\n",
    "labels_15 = kmeans_movie_15.labels_\n",
    "\n",
    "# Calculate Davies-Bouldin Index\n",
    "db_score_movie_15 = davies_bouldin_score(dataset_movie, labels_15)\n",
    "print(\"Davies-Bouldin score:\", db_score_movie_15)\n",
    "\n",
    "ch_score_movie_15 = calinski_harabasz_score(dataset_movie, labels_15)\n",
    "print(\"Calinski Harabasz score:\", ch_score_movie_15)"
   ]
  },
  {
   "cell_type": "markdown",
   "metadata": {},
   "source": [
    "### Kmeans 25"
   ]
  },
  {
   "cell_type": "code",
   "execution_count": 26,
   "metadata": {},
   "outputs": [
    {
     "name": "stderr",
     "output_type": "stream",
     "text": [
      "C:\\Users\\rafae\\Desktop\\MLOps\\PF\\venv\\lib\\site-packages\\sklearn\\cluster\\_kmeans.py:1416: FutureWarning: The default value of `n_init` will change from 10 to 'auto' in 1.4. Set the value of `n_init` explicitly to suppress the warning\n",
      "  super()._check_params_vs_input(X, default_n_init=10)\n"
     ]
    },
    {
     "name": "stdout",
     "output_type": "stream",
     "text": [
      "Davies-Bouldin score: 0.4515360341522074\n",
      "Calinski Harabasz score: 4416161.444776686\n"
     ]
    }
   ],
   "source": [
    "kmeans_movie_25 = KMeans(25)\n",
    "kmeans_movie_25.fit(dataset_movie)\n",
    "\n",
    "# Get the cluster labels\n",
    "labels_25 = kmeans_movie_25.labels_\n",
    "\n",
    "# Calculate Davies-Bouldin Index\n",
    "db_score_movie_25 = davies_bouldin_score(dataset_movie, labels_25)\n",
    "print(\"Davies-Bouldin score:\", db_score_movie_25)\n",
    "\n",
    "ch_score_movie_25 = calinski_harabasz_score(dataset_movie, labels_25)\n",
    "print(\"Calinski Harabasz score:\", ch_score_movie_25)"
   ]
  },
  {
   "cell_type": "markdown",
   "metadata": {},
   "source": [
    "### Kmeans 35"
   ]
  },
  {
   "cell_type": "code",
   "execution_count": 27,
   "metadata": {},
   "outputs": [
    {
     "name": "stderr",
     "output_type": "stream",
     "text": [
      "C:\\Users\\rafae\\Desktop\\MLOps\\PF\\venv\\lib\\site-packages\\sklearn\\cluster\\_kmeans.py:1416: FutureWarning: The default value of `n_init` will change from 10 to 'auto' in 1.4. Set the value of `n_init` explicitly to suppress the warning\n",
      "  super()._check_params_vs_input(X, default_n_init=10)\n"
     ]
    },
    {
     "name": "stdout",
     "output_type": "stream",
     "text": [
      "Davies-Bouldin score: 0.4812208442552928\n",
      "Calinski Harabasz score: 6064560.954918882\n"
     ]
    }
   ],
   "source": [
    "kmeans_movie_35 = KMeans(35)\n",
    "kmeans_movie_35.fit(dataset_movie)\n",
    "\n",
    "# Get the cluster labels\n",
    "labels_35 = kmeans_movie_35.labels_\n",
    "\n",
    "# Calculate Davies-Bouldin Index\n",
    "db_score_movie_35 = davies_bouldin_score(dataset_movie, labels_35)\n",
    "print(\"Davies-Bouldin score:\", db_score_movie_35)\n",
    "\n",
    "ch_score_movie_35 = calinski_harabasz_score(dataset_movie, labels_35)\n",
    "print(\"Calinski Harabasz score:\", ch_score_movie_35)"
   ]
  },
  {
   "cell_type": "markdown",
   "metadata": {},
   "source": [
    "### Kmeans 45"
   ]
  },
  {
   "cell_type": "code",
   "execution_count": 28,
   "metadata": {},
   "outputs": [
    {
     "name": "stderr",
     "output_type": "stream",
     "text": [
      "C:\\Users\\rafae\\Desktop\\MLOps\\PF\\venv\\lib\\site-packages\\sklearn\\cluster\\_kmeans.py:1416: FutureWarning: The default value of `n_init` will change from 10 to 'auto' in 1.4. Set the value of `n_init` explicitly to suppress the warning\n",
      "  super()._check_params_vs_input(X, default_n_init=10)\n"
     ]
    },
    {
     "name": "stdout",
     "output_type": "stream",
     "text": [
      "Davies-Bouldin score: 0.48911157211429823\n",
      "Calinski Harabasz score: 7760412.83325567\n"
     ]
    }
   ],
   "source": [
    "kmeans_movie_45 = KMeans(45)\n",
    "kmeans_movie_45.fit(dataset_movie)\n",
    "\n",
    "# Get the cluster labels\n",
    "labels_45 = kmeans_movie_45.labels_\n",
    "\n",
    "# Calculate Davies-Bouldin Index\n",
    "db_score_movie_45 = davies_bouldin_score(dataset_movie, labels_45)\n",
    "print(\"Davies-Bouldin score:\", db_score_movie_45)\n",
    "\n",
    "ch_score_movie_45 = calinski_harabasz_score(dataset_movie, labels_45)\n",
    "print(\"Calinski Harabasz score:\", ch_score_movie_45)"
   ]
  },
  {
   "cell_type": "code",
   "execution_count": 29,
   "metadata": {},
   "outputs": [
    {
     "data": {
      "text/html": [
       "<div>\n",
       "<style scoped>\n",
       "    .dataframe tbody tr th:only-of-type {\n",
       "        vertical-align: middle;\n",
       "    }\n",
       "\n",
       "    .dataframe tbody tr th {\n",
       "        vertical-align: top;\n",
       "    }\n",
       "\n",
       "    .dataframe thead th {\n",
       "        text-align: right;\n",
       "    }\n",
       "</style>\n",
       "<table border=\"1\" class=\"dataframe\">\n",
       "  <thead>\n",
       "    <tr style=\"text-align: right;\">\n",
       "      <th></th>\n",
       "      <th>num_cluster_movie</th>\n",
       "      <th>Davies-Bouldin_score</th>\n",
       "    </tr>\n",
       "  </thead>\n",
       "  <tbody>\n",
       "    <tr>\n",
       "      <th>0</th>\n",
       "      <td>db_score_movie_15</td>\n",
       "      <td>0.490382</td>\n",
       "    </tr>\n",
       "    <tr>\n",
       "      <th>1</th>\n",
       "      <td>db_score_movie_25</td>\n",
       "      <td>0.451536</td>\n",
       "    </tr>\n",
       "    <tr>\n",
       "      <th>2</th>\n",
       "      <td>db_score_movie_35</td>\n",
       "      <td>0.481221</td>\n",
       "    </tr>\n",
       "    <tr>\n",
       "      <th>3</th>\n",
       "      <td>db_score_movie_45</td>\n",
       "      <td>0.489112</td>\n",
       "    </tr>\n",
       "  </tbody>\n",
       "</table>\n",
       "</div>"
      ],
      "text/plain": [
       "   num_cluster_movie  Davies-Bouldin_score\n",
       "0  db_score_movie_15              0.490382\n",
       "1  db_score_movie_25              0.451536\n",
       "2  db_score_movie_35              0.481221\n",
       "3  db_score_movie_45              0.489112"
      ]
     },
     "execution_count": 29,
     "metadata": {},
     "output_type": "execute_result"
    }
   ],
   "source": [
    "db_score_movie = [['db_score_movie_15', db_score_movie_15], ['db_score_movie_25', db_score_movie_25], ['db_score_movie_35' , db_score_movie_35], ['db_score_movie_45', db_score_movie_45]]\n",
    " \n",
    "# Create the pandas DataFrame\n",
    "DB_score_movie = pd.DataFrame(db_score_movie, columns=['num_cluster_movie', 'Davies-Bouldin_score'])\n",
    "DB_score_movie.head()"
   ]
  },
  {
   "cell_type": "code",
   "execution_count": 30,
   "metadata": {},
   "outputs": [
    {
     "data": {
      "text/plain": [
       "25"
      ]
     },
     "execution_count": 30,
     "metadata": {},
     "output_type": "execute_result"
    }
   ],
   "source": [
    "best_DB_score_movie = DB_score_movie.loc[DB_score_movie['Davies-Bouldin_score'].idxmin()]\n",
    "num_clus_movie = int(best_DB_score_movie.num_cluster_movie[15:17])\n",
    "num_clus_movie"
   ]
  },
  {
   "cell_type": "code",
   "execution_count": 31,
   "metadata": {},
   "outputs": [],
   "source": [
    "kmeans_movie = KMeans(num_clus_movie)"
   ]
  },
  {
   "cell_type": "code",
   "execution_count": 32,
   "metadata": {},
   "outputs": [
    {
     "name": "stderr",
     "output_type": "stream",
     "text": [
      "C:\\Users\\rafae\\Desktop\\MLOps\\PF\\venv\\lib\\site-packages\\sklearn\\cluster\\_kmeans.py:1416: FutureWarning: The default value of `n_init` will change from 10 to 'auto' in 1.4. Set the value of `n_init` explicitly to suppress the warning\n",
      "  super()._check_params_vs_input(X, default_n_init=10)\n"
     ]
    }
   ],
   "source": [
    "identified_movies = kmeans_movie.fit_predict(dataset_movie)\n",
    "identified_movies = list(identified_movies)"
   ]
  },
  {
   "cell_type": "code",
   "execution_count": 33,
   "metadata": {},
   "outputs": [
    {
     "data": {
      "text/html": [
       "<div>\n",
       "<style scoped>\n",
       "    .dataframe tbody tr th:only-of-type {\n",
       "        vertical-align: middle;\n",
       "    }\n",
       "\n",
       "    .dataframe tbody tr th {\n",
       "        vertical-align: top;\n",
       "    }\n",
       "\n",
       "    .dataframe thead th {\n",
       "        text-align: right;\n",
       "    }\n",
       "</style>\n",
       "<table border=\"1\" class=\"dataframe\">\n",
       "  <thead>\n",
       "    <tr style=\"text-align: right;\">\n",
       "      <th></th>\n",
       "      <th>userId</th>\n",
       "      <th>title</th>\n",
       "      <th>movieId</th>\n",
       "      <th>rating</th>\n",
       "      <th>loc_clusters_users</th>\n",
       "      <th>loc_clusters_movies</th>\n",
       "    </tr>\n",
       "  </thead>\n",
       "  <tbody>\n",
       "    <tr>\n",
       "      <th>0</th>\n",
       "      <td>1</td>\n",
       "      <td>2001: A Space Odyssey (1968)</td>\n",
       "      <td>924</td>\n",
       "      <td>3.5</td>\n",
       "      <td>8</td>\n",
       "      <td>23</td>\n",
       "    </tr>\n",
       "    <tr>\n",
       "      <th>1</th>\n",
       "      <td>1</td>\n",
       "      <td>28 Days Later (2002)</td>\n",
       "      <td>6502</td>\n",
       "      <td>3.5</td>\n",
       "      <td>4</td>\n",
       "      <td>23</td>\n",
       "    </tr>\n",
       "    <tr>\n",
       "      <th>2</th>\n",
       "      <td>1</td>\n",
       "      <td>7th Voyage of Sinbad, The (1958)</td>\n",
       "      <td>3153</td>\n",
       "      <td>4.0</td>\n",
       "      <td>23</td>\n",
       "      <td>23</td>\n",
       "    </tr>\n",
       "    <tr>\n",
       "      <th>3</th>\n",
       "      <td>1</td>\n",
       "      <td>Adventures of Baron Munchausen, The (1988)</td>\n",
       "      <td>4467</td>\n",
       "      <td>4.0</td>\n",
       "      <td>18</td>\n",
       "      <td>23</td>\n",
       "    </tr>\n",
       "    <tr>\n",
       "      <th>4</th>\n",
       "      <td>1</td>\n",
       "      <td>Alien (1979)</td>\n",
       "      <td>1214</td>\n",
       "      <td>4.0</td>\n",
       "      <td>8</td>\n",
       "      <td>23</td>\n",
       "    </tr>\n",
       "    <tr>\n",
       "      <th>...</th>\n",
       "      <td>...</td>\n",
       "      <td>...</td>\n",
       "      <td>...</td>\n",
       "      <td>...</td>\n",
       "      <td>...</td>\n",
       "      <td>...</td>\n",
       "    </tr>\n",
       "    <tr>\n",
       "      <th>144994</th>\n",
       "      <td>971</td>\n",
       "      <td>You Can't Take It with You (1938)</td>\n",
       "      <td>1934</td>\n",
       "      <td>3.5</td>\n",
       "      <td>1</td>\n",
       "      <td>22</td>\n",
       "    </tr>\n",
       "    <tr>\n",
       "      <th>144995</th>\n",
       "      <td>971</td>\n",
       "      <td>Young Einstein (1988)</td>\n",
       "      <td>4563</td>\n",
       "      <td>3.0</td>\n",
       "      <td>12</td>\n",
       "      <td>22</td>\n",
       "    </tr>\n",
       "    <tr>\n",
       "      <th>144996</th>\n",
       "      <td>971</td>\n",
       "      <td>Young Guns (1988)</td>\n",
       "      <td>1378</td>\n",
       "      <td>3.0</td>\n",
       "      <td>8</td>\n",
       "      <td>22</td>\n",
       "    </tr>\n",
       "    <tr>\n",
       "      <th>144997</th>\n",
       "      <td>971</td>\n",
       "      <td>Zoolander (2001)</td>\n",
       "      <td>4816</td>\n",
       "      <td>3.5</td>\n",
       "      <td>12</td>\n",
       "      <td>22</td>\n",
       "    </tr>\n",
       "    <tr>\n",
       "      <th>144998</th>\n",
       "      <td>971</td>\n",
       "      <td>¡Three Amigos! (1986)</td>\n",
       "      <td>2478</td>\n",
       "      <td>3.5</td>\n",
       "      <td>23</td>\n",
       "      <td>22</td>\n",
       "    </tr>\n",
       "  </tbody>\n",
       "</table>\n",
       "<p>144999 rows × 6 columns</p>\n",
       "</div>"
      ],
      "text/plain": [
       "        userId                                       title  movieId  rating  \\\n",
       "0            1                2001: A Space Odyssey (1968)      924     3.5   \n",
       "1            1                        28 Days Later (2002)     6502     3.5   \n",
       "2            1            7th Voyage of Sinbad, The (1958)     3153     4.0   \n",
       "3            1  Adventures of Baron Munchausen, The (1988)     4467     4.0   \n",
       "4            1                                Alien (1979)     1214     4.0   \n",
       "...        ...                                         ...      ...     ...   \n",
       "144994     971           You Can't Take It with You (1938)     1934     3.5   \n",
       "144995     971                       Young Einstein (1988)     4563     3.0   \n",
       "144996     971                           Young Guns (1988)     1378     3.0   \n",
       "144997     971                            Zoolander (2001)     4816     3.5   \n",
       "144998     971                       ¡Three Amigos! (1986)     2478     3.5   \n",
       "\n",
       "        loc_clusters_users  loc_clusters_movies  \n",
       "0                        8                   23  \n",
       "1                        4                   23  \n",
       "2                       23                   23  \n",
       "3                       18                   23  \n",
       "4                        8                   23  \n",
       "...                    ...                  ...  \n",
       "144994                   1                   22  \n",
       "144995                  12                   22  \n",
       "144996                   8                   22  \n",
       "144997                  12                   22  \n",
       "144998                  23                   22  \n",
       "\n",
       "[144999 rows x 6 columns]"
      ]
     },
     "execution_count": 33,
     "metadata": {},
     "output_type": "execute_result"
    }
   ],
   "source": [
    "refined_dataset['loc_clusters_movies'] = identified_movies\n",
    "refined_dataset"
   ]
  },
  {
   "cell_type": "code",
   "execution_count": 34,
   "metadata": {},
   "outputs": [
    {
     "name": "stdout",
     "output_type": "stream",
     "text": [
      "8     8719\n",
      "18    8295\n",
      "13    7507\n",
      "11    7200\n",
      "10    7185\n",
      "20    7048\n",
      "0     6980\n",
      "14    6602\n",
      "24    6367\n",
      "16    6272\n",
      "2     6169\n",
      "6     6117\n",
      "15    6006\n",
      "5     5648\n",
      "12    5513\n",
      "1     5057\n",
      "19    4934\n",
      "7     4608\n",
      "22    4513\n",
      "4     4419\n",
      "23    4305\n",
      "17    4291\n",
      "9     3819\n",
      "21    3778\n",
      "3     3647\n",
      "Name: loc_clusters_movies, dtype: int64\n"
     ]
    }
   ],
   "source": [
    "print(refined_dataset['loc_clusters_movies'].value_counts())"
   ]
  },
  {
   "cell_type": "code",
   "execution_count": 35,
   "metadata": {},
   "outputs": [
    {
     "name": "stdout",
     "output_type": "stream",
     "text": [
      "13    2\n",
      "23    1\n",
      "16    1\n",
      "8     1\n",
      "20    1\n",
      "9     1\n",
      "5     1\n",
      "21    1\n",
      "0     1\n",
      "7     1\n",
      "22    1\n",
      "Name: loc_clusters_movies, dtype: int64\n",
      "(13, 2)\n"
     ]
    },
    {
     "data": {
      "text/plain": [
       "13"
      ]
     },
     "execution_count": 35,
     "metadata": {},
     "output_type": "execute_result"
    }
   ],
   "source": [
    "input_movie = 467\n",
    "input_movie = int(input_movie)\n",
    "cluster_movies = refined_dataset.loc[refined_dataset['movieId'] == input_movie, 'loc_clusters_movies']\n",
    "print(cluster_movies.value_counts())\n",
    "cluster_movies = Counter(cluster_movies).most_common(1)[0] # 4, 6 times\n",
    "print(cluster_movies)\n",
    "cluster_movies[0]"
   ]
  },
  {
   "cell_type": "code",
   "execution_count": 36,
   "metadata": {},
   "outputs": [
    {
     "data": {
      "text/html": [
       "<div>\n",
       "<style scoped>\n",
       "    .dataframe tbody tr th:only-of-type {\n",
       "        vertical-align: middle;\n",
       "    }\n",
       "\n",
       "    .dataframe tbody tr th {\n",
       "        vertical-align: top;\n",
       "    }\n",
       "\n",
       "    .dataframe thead th {\n",
       "        text-align: right;\n",
       "    }\n",
       "</style>\n",
       "<table border=\"1\" class=\"dataframe\">\n",
       "  <thead>\n",
       "    <tr style=\"text-align: right;\">\n",
       "      <th></th>\n",
       "      <th>list_movies_title</th>\n",
       "      <th>list_movie_id</th>\n",
       "    </tr>\n",
       "  </thead>\n",
       "  <tbody>\n",
       "    <tr>\n",
       "      <th>4926</th>\n",
       "      <td>Stepford Wives, The (1975)</td>\n",
       "      <td>2346</td>\n",
       "    </tr>\n",
       "    <tr>\n",
       "      <th>3134</th>\n",
       "      <td>Celluloid Closet, The (1995)</td>\n",
       "      <td>581</td>\n",
       "    </tr>\n",
       "    <tr>\n",
       "      <th>6185</th>\n",
       "      <td>Fly Away Home (1996)</td>\n",
       "      <td>986</td>\n",
       "    </tr>\n",
       "    <tr>\n",
       "      <th>2815</th>\n",
       "      <td>Angel Heart (1987)</td>\n",
       "      <td>3706</td>\n",
       "    </tr>\n",
       "    <tr>\n",
       "      <th>7351</th>\n",
       "      <td>Gladiator (1992)</td>\n",
       "      <td>8132</td>\n",
       "    </tr>\n",
       "  </tbody>\n",
       "</table>\n",
       "</div>"
      ],
      "text/plain": [
       "                 list_movies_title  list_movie_id\n",
       "4926    Stepford Wives, The (1975)           2346\n",
       "3134  Celluloid Closet, The (1995)            581\n",
       "6185          Fly Away Home (1996)            986\n",
       "2815            Angel Heart (1987)           3706\n",
       "7351              Gladiator (1992)           8132"
      ]
     },
     "execution_count": 36,
     "metadata": {},
     "output_type": "execute_result"
    }
   ],
   "source": [
    "movie_reco_df = []\n",
    "movies = refined_dataset.loc[refined_dataset['loc_clusters_movies'] == cluster_movies[0], 'movieId']\n",
    "movies\n",
    "list_movies_title = []\n",
    "list_movie_id = []\n",
    "for c in range(len(movies)):\n",
    "    if movies.iloc[c] == int(input_movie):\n",
    "        continue\n",
    "    else:\n",
    "        movie = refined_dataset.loc[refined_dataset['movieId'] == movies.iloc[c]]\n",
    "        movie_data = movie.iloc[0]\n",
    "        movie_title = movie_data.title\n",
    "        movie_id = movie_data.movieId\n",
    "        list_movie_id.append(movie_id)\n",
    "        list_movies_title.append(movie_title)\n",
    "        #print('Recommended movie title:', movie_reco.iloc[0])\n",
    "        #print('Recommended movie id:', movie_id.iloc[0])\n",
    "\n",
    "\n",
    "movie_reco_df = pd.DataFrame(list(zip(list_movies_title, list_movie_id)), columns=['list_movies_title', 'list_movie_id'])\n",
    "movie_reco_df.sample(n=5)    \n",
    "        "
   ]
  },
  {
   "cell_type": "code",
   "execution_count": 37,
   "metadata": {},
   "outputs": [
    {
     "data": {
      "text/html": [
       "<div>\n",
       "<style scoped>\n",
       "    .dataframe tbody tr th:only-of-type {\n",
       "        vertical-align: middle;\n",
       "    }\n",
       "\n",
       "    .dataframe tbody tr th {\n",
       "        vertical-align: top;\n",
       "    }\n",
       "\n",
       "    .dataframe thead th {\n",
       "        text-align: right;\n",
       "    }\n",
       "</style>\n",
       "<table border=\"1\" class=\"dataframe\">\n",
       "  <thead>\n",
       "    <tr style=\"text-align: right;\">\n",
       "      <th></th>\n",
       "      <th>list_movies_title</th>\n",
       "      <th>list_movie_id</th>\n",
       "    </tr>\n",
       "  </thead>\n",
       "  <tbody>\n",
       "    <tr>\n",
       "      <th>0</th>\n",
       "      <td>Amadeus (1984)</td>\n",
       "      <td>1225</td>\n",
       "    </tr>\n",
       "    <tr>\n",
       "      <th>1</th>\n",
       "      <td>Apocalypse Now (1979)</td>\n",
       "      <td>1208</td>\n",
       "    </tr>\n",
       "    <tr>\n",
       "      <th>2</th>\n",
       "      <td>Blues Brothers, The (1980)</td>\n",
       "      <td>1220</td>\n",
       "    </tr>\n",
       "    <tr>\n",
       "      <th>3</th>\n",
       "      <td>Client, The (1994)</td>\n",
       "      <td>350</td>\n",
       "    </tr>\n",
       "    <tr>\n",
       "      <th>4</th>\n",
       "      <td>Crouching Tiger, Hidden Dragon (Wo hu cang lon...</td>\n",
       "      <td>3996</td>\n",
       "    </tr>\n",
       "    <tr>\n",
       "      <th>...</th>\n",
       "      <td>...</td>\n",
       "      <td>...</td>\n",
       "    </tr>\n",
       "    <tr>\n",
       "      <th>7500</th>\n",
       "      <td>Wizard of Oz, The (1939)</td>\n",
       "      <td>919</td>\n",
       "    </tr>\n",
       "    <tr>\n",
       "      <th>7501</th>\n",
       "      <td>Wrestler, The (2008)</td>\n",
       "      <td>64839</td>\n",
       "    </tr>\n",
       "    <tr>\n",
       "      <th>7502</th>\n",
       "      <td>X-Men (2000)</td>\n",
       "      <td>3793</td>\n",
       "    </tr>\n",
       "    <tr>\n",
       "      <th>7503</th>\n",
       "      <td>X-Men: First Class (2011)</td>\n",
       "      <td>87232</td>\n",
       "    </tr>\n",
       "    <tr>\n",
       "      <th>7504</th>\n",
       "      <td>Young Frankenstein (1974)</td>\n",
       "      <td>1278</td>\n",
       "    </tr>\n",
       "  </tbody>\n",
       "</table>\n",
       "<p>7505 rows × 2 columns</p>\n",
       "</div>"
      ],
      "text/plain": [
       "                                      list_movies_title  list_movie_id\n",
       "0                                        Amadeus (1984)           1225\n",
       "1                                 Apocalypse Now (1979)           1208\n",
       "2                            Blues Brothers, The (1980)           1220\n",
       "3                                    Client, The (1994)            350\n",
       "4     Crouching Tiger, Hidden Dragon (Wo hu cang lon...           3996\n",
       "...                                                 ...            ...\n",
       "7500                           Wizard of Oz, The (1939)            919\n",
       "7501                               Wrestler, The (2008)          64839\n",
       "7502                                       X-Men (2000)           3793\n",
       "7503                          X-Men: First Class (2011)          87232\n",
       "7504                          Young Frankenstein (1974)           1278\n",
       "\n",
       "[7505 rows x 2 columns]"
      ]
     },
     "execution_count": 37,
     "metadata": {},
     "output_type": "execute_result"
    }
   ],
   "source": [
    "movie_reco_df"
   ]
  },
  {
   "cell_type": "code",
   "execution_count": 38,
   "metadata": {},
   "outputs": [
    {
     "name": "stdout",
     "output_type": "stream",
     "text": [
      "<class 'pandas.core.frame.DataFrame'>\n",
      "RangeIndex: 7505 entries, 0 to 7504\n",
      "Data columns (total 2 columns):\n",
      " #   Column             Non-Null Count  Dtype \n",
      "---  ------             --------------  ----- \n",
      " 0   list_movies_title  7505 non-null   object\n",
      " 1   list_movie_id      7505 non-null   int64 \n",
      "dtypes: int64(1), object(1)\n",
      "memory usage: 117.4+ KB\n"
     ]
    }
   ],
   "source": [
    "movie_reco_df.info()"
   ]
  },
  {
   "cell_type": "markdown",
   "metadata": {},
   "source": [
    "### Export the model "
   ]
  },
  {
   "cell_type": "code",
   "execution_count": 40,
   "metadata": {},
   "outputs": [],
   "source": [
    "with open(\"../models/kmeans_movie.pkl\", \"wb\") as f:\n",
    "    pickle.dump(kmeans_movie, f)"
   ]
  },
  {
   "cell_type": "code",
   "execution_count": 41,
   "metadata": {},
   "outputs": [],
   "source": [
    "with open(\"../models/kmeans_user.pkl\", \"wb\") as f:\n",
    "    pickle.dump(kmeans_user, f)"
   ]
  },
  {
   "cell_type": "markdown",
   "metadata": {},
   "source": [
    "### Export the final_db ti csv and pickle"
   ]
  },
  {
   "cell_type": "code",
   "execution_count": 42,
   "metadata": {},
   "outputs": [
    {
     "data": {
      "text/html": [
       "<div>\n",
       "<style scoped>\n",
       "    .dataframe tbody tr th:only-of-type {\n",
       "        vertical-align: middle;\n",
       "    }\n",
       "\n",
       "    .dataframe tbody tr th {\n",
       "        vertical-align: top;\n",
       "    }\n",
       "\n",
       "    .dataframe thead th {\n",
       "        text-align: right;\n",
       "    }\n",
       "</style>\n",
       "<table border=\"1\" class=\"dataframe\">\n",
       "  <thead>\n",
       "    <tr style=\"text-align: right;\">\n",
       "      <th></th>\n",
       "      <th>userId</th>\n",
       "      <th>title</th>\n",
       "      <th>movieId</th>\n",
       "      <th>rating</th>\n",
       "      <th>loc_clusters_users</th>\n",
       "      <th>loc_clusters_movies</th>\n",
       "    </tr>\n",
       "  </thead>\n",
       "  <tbody>\n",
       "    <tr>\n",
       "      <th>0</th>\n",
       "      <td>1</td>\n",
       "      <td>2001: A Space Odyssey (1968)</td>\n",
       "      <td>924</td>\n",
       "      <td>3.5</td>\n",
       "      <td>8</td>\n",
       "      <td>23</td>\n",
       "    </tr>\n",
       "    <tr>\n",
       "      <th>1</th>\n",
       "      <td>1</td>\n",
       "      <td>28 Days Later (2002)</td>\n",
       "      <td>6502</td>\n",
       "      <td>3.5</td>\n",
       "      <td>4</td>\n",
       "      <td>23</td>\n",
       "    </tr>\n",
       "    <tr>\n",
       "      <th>2</th>\n",
       "      <td>1</td>\n",
       "      <td>7th Voyage of Sinbad, The (1958)</td>\n",
       "      <td>3153</td>\n",
       "      <td>4.0</td>\n",
       "      <td>23</td>\n",
       "      <td>23</td>\n",
       "    </tr>\n",
       "    <tr>\n",
       "      <th>3</th>\n",
       "      <td>1</td>\n",
       "      <td>Adventures of Baron Munchausen, The (1988)</td>\n",
       "      <td>4467</td>\n",
       "      <td>4.0</td>\n",
       "      <td>18</td>\n",
       "      <td>23</td>\n",
       "    </tr>\n",
       "    <tr>\n",
       "      <th>4</th>\n",
       "      <td>1</td>\n",
       "      <td>Alien (1979)</td>\n",
       "      <td>1214</td>\n",
       "      <td>4.0</td>\n",
       "      <td>8</td>\n",
       "      <td>23</td>\n",
       "    </tr>\n",
       "  </tbody>\n",
       "</table>\n",
       "</div>"
      ],
      "text/plain": [
       "   userId                                       title  movieId  rating  \\\n",
       "0       1                2001: A Space Odyssey (1968)      924     3.5   \n",
       "1       1                        28 Days Later (2002)     6502     3.5   \n",
       "2       1            7th Voyage of Sinbad, The (1958)     3153     4.0   \n",
       "3       1  Adventures of Baron Munchausen, The (1988)     4467     4.0   \n",
       "4       1                                Alien (1979)     1214     4.0   \n",
       "\n",
       "   loc_clusters_users  loc_clusters_movies  \n",
       "0                   8                   23  \n",
       "1                   4                   23  \n",
       "2                  23                   23  \n",
       "3                  18                   23  \n",
       "4                   8                   23  "
      ]
     },
     "execution_count": 42,
     "metadata": {},
     "output_type": "execute_result"
    }
   ],
   "source": [
    "final_db = refined_dataset\n",
    "final_db.head()"
   ]
  },
  {
   "cell_type": "code",
   "execution_count": 43,
   "metadata": {},
   "outputs": [],
   "source": [
    "final_db.to_pickle(\"../data/final_db.pkl\")"
   ]
  },
  {
   "cell_type": "code",
   "execution_count": 44,
   "metadata": {},
   "outputs": [],
   "source": [
    "final_db.to_csv('../data/final_db.csv', sep=',', encoding='utf-8', index=False)"
   ]
  }
 ],
 "metadata": {
  "colab": {
   "authorship_tag": "ABX9TyM1K937XEBtUiFWogHB4DtZ",
   "collapsed_sections": [
    "jVJu1rsTx0F3"
   ],
   "include_colab_link": true,
   "name": "Item-based-Collaborative-Recommender-System-using-KNN.ipynb",
   "provenance": []
  },
  "kernelspec": {
   "display_name": "Python 3 (ipykernel)",
   "language": "python",
   "name": "python3"
  },
  "language_info": {
   "codemirror_mode": {
    "name": "ipython",
    "version": 3
   },
   "file_extension": ".py",
   "mimetype": "text/x-python",
   "name": "python",
   "nbconvert_exporter": "python",
   "pygments_lexer": "ipython3",
   "version": "3.8.18"
  }
 },
 "nbformat": 4,
 "nbformat_minor": 1
}
