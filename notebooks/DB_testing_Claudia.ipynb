{
 "cells": [
  {
   "cell_type": "code",
   "execution_count": 126,
   "id": "aa21591a-01b8-4bea-9dd3-c87a7f99252d",
   "metadata": {},
   "outputs": [],
   "source": [
    "import pandas as pd\n",
    "# load the data\n",
    "from sqlalchemy import create_engine\n",
    "user = 'root'\n",
    "password = 'password'\n",
    "host = 'localhost'\n",
    "database = 'movie'\n",
    "engine = create_engine(f'mysql://{user}:{password}@{host}/{database}')\n",
    "\n",
    "# read data from DB\n",
    "ratings_data = pd.read_sql_query(\"SELECT * FROM ratings\", engine)\n",
    "movies_data = pd.read_sql_query(\"SELECT * FROM movies\", engine)\n",
    "predictions = pd.read_sql_query(\"SELECT * FROM predictions\", engine)\n",
    "new_ratings = pd.read_sql_query(\"SELECT * FROM new_user_rating\", engine)\n",
    "user = pd.read_sql_query(\"SELECT * FROM users_db\", engine)"
   ]
  },
  {
   "cell_type": "code",
   "execution_count": 129,
   "id": "7d4fe96f-7229-4b5f-874e-60b7727ded57",
   "metadata": {},
   "outputs": [
    {
     "data": {
      "text/html": [
       "<div>\n",
       "<style scoped>\n",
       "    .dataframe tbody tr th:only-of-type {\n",
       "        vertical-align: middle;\n",
       "    }\n",
       "\n",
       "    .dataframe tbody tr th {\n",
       "        vertical-align: top;\n",
       "    }\n",
       "\n",
       "    .dataframe thead th {\n",
       "        text-align: right;\n",
       "    }\n",
       "</style>\n",
       "<table border=\"1\" class=\"dataframe\">\n",
       "  <thead>\n",
       "    <tr style=\"text-align: right;\">\n",
       "      <th></th>\n",
       "      <th>username</th>\n",
       "      <th>password</th>\n",
       "    </tr>\n",
       "  </thead>\n",
       "  <tbody>\n",
       "    <tr>\n",
       "      <th>13</th>\n",
       "      <td>3</td>\n",
       "      <td>3</td>\n",
       "    </tr>\n",
       "    <tr>\n",
       "      <th>14</th>\n",
       "      <td>3</td>\n",
       "      <td>3</td>\n",
       "    </tr>\n",
       "  </tbody>\n",
       "</table>\n",
       "</div>"
      ],
      "text/plain": [
       "   username password\n",
       "13        3        3\n",
       "14        3        3"
      ]
     },
     "execution_count": 129,
     "metadata": {},
     "output_type": "execute_result"
    }
   ],
   "source": [
    "user[user[\"username\"]==str(3)]"
   ]
  },
  {
   "cell_type": "code",
   "execution_count": 109,
   "id": "b4ae4087-9e23-4896-97b3-4868df82f1bd",
   "metadata": {},
   "outputs": [],
   "source": [
    "user_prediction = predictions[predictions.userId == int(1)]\n",
    "user_prediction = user_prediction.sort_values(by=\"prediction\", ascending=False)\n",
    "choice = user_prediction[:5]"
   ]
  },
  {
   "cell_type": "code",
   "execution_count": 110,
   "id": "09932956-324a-405f-ab8b-59226cbfcf6b",
   "metadata": {},
   "outputs": [],
   "source": [
    "ratings_data.rename(columns={\"user_id\": \"userId\", \"item_id\":\"movieId\"}, inplace=True)"
   ]
  },
  {
   "cell_type": "code",
   "execution_count": 111,
   "id": "9dfd5ea2-acdf-4878-bb39-ee7a648e0792",
   "metadata": {},
   "outputs": [],
   "source": [
    "choice.reset_index(drop=True, inplace=True )"
   ]
  },
  {
   "cell_type": "code",
   "execution_count": 112,
   "id": "4344b746-6822-4cd8-a3d3-8d28ee518044",
   "metadata": {},
   "outputs": [
    {
     "name": "stdout",
     "output_type": "stream",
     "text": [
      "Monty Python's Life of Brian (1979) is already rated\n",
      "Rear Window (1954) is already rated\n",
      "2001: A Space Odyssey (1968) is already rated\n",
      "Shawshank Redemption, The (1994) is already rated\n",
      "High Noon (1952) is already rated\n"
     ]
    }
   ],
   "source": [
    "import numpy as np\n",
    "df = pd.merge(choice[[\"userId\", \"movieId\"]], new_ratings[[\"userId\", \"movieId\", \"title\"]], on=[\"userId\", \"movieId\"], how='left', indicator='Exist')\n",
    "df['Exist'] = np.where(df.Exist == 'both', True, False)\n",
    "for i in range(0,len(df)):\n",
    "    if df.iloc[i][\"Exist\"]==True:\n",
    "        print(df.iloc[i][\"title\"], \"is already rated\")"
   ]
  },
  {
   "cell_type": "code",
   "execution_count": null,
   "id": "4e96250b-040a-4e36-bd13-f2f034eb7369",
   "metadata": {},
   "outputs": [],
   "source": []
  }
 ],
 "metadata": {
  "kernelspec": {
   "display_name": "Python 3 (ipykernel)",
   "language": "python",
   "name": "python3"
  },
  "language_info": {
   "codemirror_mode": {
    "name": "ipython",
    "version": 3
   },
   "file_extension": ".py",
   "mimetype": "text/x-python",
   "name": "python",
   "nbconvert_exporter": "python",
   "pygments_lexer": "ipython3",
   "version": "3.8.18"
  }
 },
 "nbformat": 4,
 "nbformat_minor": 5
}
