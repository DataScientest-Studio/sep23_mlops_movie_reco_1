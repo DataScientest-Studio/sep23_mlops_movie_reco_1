{
 "cells": [
  {
   "cell_type": "code",
   "execution_count": 1,
   "id": "252bf1a8-95df-47e4-9e99-9fd0efcb0bfc",
   "metadata": {},
   "outputs": [],
   "source": [
    "import pandas as pd\n",
    "import pickle\n",
    "import numpy as np\n",
    "from collections import Counter"
   ]
  },
  {
   "cell_type": "code",
   "execution_count": 2,
   "id": "33cc83f1-4fab-48ea-8f53-3447c1a0a7f9",
   "metadata": {},
   "outputs": [],
   "source": [
    "refined_dataset = pd.read_csv(\"../data/refined_dataset.csv\")"
   ]
  },
  {
   "cell_type": "code",
   "execution_count": 8,
   "id": "ae55e2b0-3fd2-42bb-8105-9488b387fca2",
   "metadata": {
    "scrolled": true
   },
   "outputs": [
    {
     "data": {
      "text/plain": [
       "array([  1,   2,   3,   4,   5,   6,   7,   8,   9,  10,  11,  12,  13,\n",
       "        14,  15,  16,  17,  18,  19,  20,  21,  22,  23,  24,  25,  26,\n",
       "        27,  28,  29,  30,  31,  32,  33,  34,  35,  36,  37,  38,  39,\n",
       "        40,  41,  42,  43,  44,  45,  46,  47,  48,  49,  50,  51,  52,\n",
       "        53,  54,  55,  56,  57,  58,  59,  60,  61,  62,  63,  64,  65,\n",
       "        66,  67,  68,  69,  70,  71,  72,  73,  74,  75,  76,  77,  78,\n",
       "        79,  80,  81,  82,  83,  84,  85,  86,  87,  88,  89,  90,  91,\n",
       "        92,  93,  94,  95,  96,  97,  98,  99, 100, 101, 102, 103, 104,\n",
       "       105, 106, 107, 108, 109, 110, 111, 112, 113, 114, 115, 116, 117,\n",
       "       118, 119, 120, 121, 122, 123, 124, 125, 126, 127, 128, 129, 130,\n",
       "       131, 132, 133, 134, 135, 136, 137, 138, 139, 140, 141, 142, 143,\n",
       "       144, 145, 146, 147, 148, 149, 150, 151, 152, 153, 154, 155, 156,\n",
       "       157, 158, 159, 160, 161, 162, 163, 164, 165, 166, 167, 168, 169,\n",
       "       170, 171, 172, 173, 174, 175, 176, 177, 178, 179, 180, 181, 182,\n",
       "       183, 184, 185, 186, 187, 188, 189, 190, 191, 192, 193, 194, 195,\n",
       "       196, 197, 198, 199, 200, 201, 202, 203, 204, 205, 206, 207, 208,\n",
       "       209, 210, 211, 212, 213, 214, 215, 216, 217, 218, 219, 220, 221,\n",
       "       222, 223, 224, 225, 226, 227, 228, 229, 230, 231, 232, 233, 234,\n",
       "       235, 236, 237, 238, 239, 240, 241, 242, 243, 244, 245, 246, 247,\n",
       "       248, 249, 250, 251, 252, 253, 254, 255, 256, 257, 258, 259, 260,\n",
       "       261, 262, 263, 264, 265, 266, 267, 268, 269, 270, 271, 272, 273,\n",
       "       274, 275, 276, 277, 278, 279, 280, 281, 282, 283, 284, 285, 286,\n",
       "       287, 288, 289, 290, 291, 292, 293, 294, 295, 296, 297, 298, 299,\n",
       "       300, 301, 302, 303, 304, 305, 306, 307, 308, 309, 310, 311, 312,\n",
       "       313, 314, 315, 316, 317, 318, 319, 320, 321, 322, 323, 324, 325,\n",
       "       326, 327, 328, 329, 330, 331, 332, 333, 334, 335, 336, 337, 338,\n",
       "       339, 340, 341, 342, 343, 344, 345, 346, 347, 348, 349, 350, 351,\n",
       "       352, 353, 354, 355, 356, 357, 358, 359, 360, 361, 362, 363, 364,\n",
       "       365, 366, 367, 368, 369, 370, 371, 372, 373, 374, 375, 376, 377,\n",
       "       378, 379, 380, 381, 382, 383, 384, 385, 386, 387, 388, 389, 390,\n",
       "       391, 392, 393, 394, 395, 396, 397, 398, 399, 400, 401, 402, 403,\n",
       "       404, 405, 406, 407, 408, 409, 410, 411, 412, 413, 414, 415, 416,\n",
       "       417, 418, 419, 420, 421, 422, 423, 424, 425, 426, 427, 428, 429,\n",
       "       430, 431, 432, 433, 434, 435, 436, 437, 438, 439, 440, 441, 442,\n",
       "       443, 444, 445, 446, 447, 448, 449, 450, 451, 452, 453, 454, 455,\n",
       "       456, 457, 458, 459, 460, 461, 462, 463, 464, 465, 466, 467, 468,\n",
       "       469, 470, 471, 472, 473, 474, 475, 476, 477, 478, 479, 480, 481,\n",
       "       482, 483, 484, 485, 486, 487, 488, 489, 490, 491, 492, 493, 494,\n",
       "       495, 496, 497, 498, 499, 500, 501, 502, 503, 504, 505, 506, 507,\n",
       "       508, 509, 510, 511, 512, 513, 514, 515, 516, 517, 518, 519, 520,\n",
       "       521, 522, 523, 524, 525, 526, 527, 528, 529, 530, 531, 532, 533,\n",
       "       534, 535, 536, 537, 538, 539, 540, 541, 542, 543, 544, 545, 546,\n",
       "       547, 548, 549, 550, 551, 552, 553, 554, 555, 556, 557, 558, 559,\n",
       "       560, 561, 562, 563, 564, 565, 566, 567, 568, 569, 570, 571, 572,\n",
       "       573, 574, 575, 576, 577, 578, 579, 580, 581, 582, 583, 584, 585,\n",
       "       586, 587, 588, 589, 590, 591, 592, 593, 594, 595, 596, 597, 598,\n",
       "       599, 600, 601, 602, 603, 604, 605, 606, 607, 608, 609, 610, 611,\n",
       "       612, 613, 614, 615, 616, 617, 618, 619, 620, 621, 622, 623, 624,\n",
       "       625, 626, 627, 628, 629, 630, 631, 632, 633, 634, 635, 636, 637,\n",
       "       638, 639, 640, 641, 642, 643, 644, 645, 646, 647, 648, 649, 650,\n",
       "       651, 652, 653, 654, 655, 656, 657, 658, 659, 660, 661, 662, 663,\n",
       "       664, 665, 666, 667, 668, 669, 670, 671, 672, 673, 674, 675, 676,\n",
       "       677, 678, 679, 680, 681, 682, 683, 684, 685, 686, 687, 688, 689,\n",
       "       690, 691, 692, 693, 694, 695, 696, 697, 698, 699, 700, 701, 702,\n",
       "       703, 704, 705, 706, 707, 708, 709, 710, 711, 712, 713, 714, 715,\n",
       "       716, 717, 718, 719, 720, 721, 722, 723, 724, 725, 726, 727, 728,\n",
       "       729, 730, 731, 732, 733, 734, 735, 736, 737, 738, 739, 740, 741,\n",
       "       742, 743, 744, 745, 746, 747, 748, 749, 750, 751, 752, 753, 754,\n",
       "       755, 756, 757, 758, 759, 760, 761, 762, 763, 764, 765, 766, 767,\n",
       "       768, 769, 770, 771, 772, 773, 774, 775, 776, 777, 778, 779, 780,\n",
       "       781, 782, 783, 784, 785, 786, 787, 788, 789, 790, 791, 792, 793,\n",
       "       794, 795, 796, 797, 798, 799, 800, 801, 802, 803, 804, 805, 806,\n",
       "       807, 808, 809, 810, 811, 812, 813, 814, 815, 816, 817, 818, 819,\n",
       "       820, 821, 822, 823, 824, 825, 826, 827, 828, 829, 830, 831, 832,\n",
       "       833, 834, 835, 836, 837, 838, 839, 840, 841, 842, 843, 844, 845,\n",
       "       846, 847, 848, 849, 850, 851, 852, 853, 854, 855, 856, 857, 858,\n",
       "       859, 860, 861, 862, 863, 864, 865, 866, 867, 868, 869, 870, 871,\n",
       "       872, 873, 874, 875, 876, 877, 878, 879, 880, 881, 882, 883, 884,\n",
       "       885, 886, 887, 888, 889, 890, 891, 892, 893, 894, 895, 896, 897,\n",
       "       898, 899, 900, 901, 902, 903, 904, 905, 906, 907, 908, 909, 910,\n",
       "       911, 912, 913, 914, 915, 916, 917, 918, 919, 920, 921, 922, 923,\n",
       "       924, 925, 926, 927, 928, 929, 930, 931, 932, 933, 934, 935, 936,\n",
       "       937, 938, 939, 940, 941, 942, 943, 944, 945, 946, 947, 948, 949,\n",
       "       950, 951, 952, 953, 954, 955, 956, 957, 958, 959, 960, 961, 962,\n",
       "       963, 964, 965, 966, 967, 968, 969, 970, 971, 972, 973, 974, 975,\n",
       "       976, 977, 978, 979, 980, 981, 982, 983, 984, 985, 986, 987, 988,\n",
       "       989, 990, 991, 992, 993, 994], dtype=int64)"
      ]
     },
     "execution_count": 8,
     "metadata": {},
     "output_type": "execute_result"
    }
   ],
   "source": [
    "refined_dataset.userId.unique()"
   ]
  },
  {
   "cell_type": "code",
   "execution_count": 9,
   "id": "f30c06c8-d0de-4879-b0f8-5a5032d030fa",
   "metadata": {},
   "outputs": [
    {
     "data": {
      "text/plain": [
       "array([  924,  6502,  3153, ..., 74541,  1780, 56274], dtype=int64)"
      ]
     },
     "execution_count": 9,
     "metadata": {},
     "output_type": "execute_result"
    }
   ],
   "source": [
    "refined_dataset.movieId.unique()"
   ]
  },
  {
   "cell_type": "code",
   "execution_count": 4,
   "id": "2eb01f4f-9fa6-488e-ad82-3b049502b6b8",
   "metadata": {},
   "outputs": [
    {
     "name": "stdout",
     "output_type": "stream",
     "text": [
      "<class 'pandas.core.frame.DataFrame'>\n",
      "RangeIndex: 150001 entries, 0 to 150000\n",
      "Data columns (total 7 columns):\n",
      " #   Column               Non-Null Count   Dtype  \n",
      "---  ------               --------------   -----  \n",
      " 0   Unnamed: 0           150001 non-null  int64  \n",
      " 1   userId               150001 non-null  int64  \n",
      " 2   title                150001 non-null  object \n",
      " 3   movieId              150001 non-null  int64  \n",
      " 4   rating               150001 non-null  float64\n",
      " 5   loc_clusters_users   150001 non-null  int64  \n",
      " 6   loc_clusters_movies  150001 non-null  int64  \n",
      "dtypes: float64(1), int64(5), object(1)\n",
      "memory usage: 8.0+ MB\n"
     ]
    }
   ],
   "source": [
    "refined_dataset.info()"
   ]
  },
  {
   "cell_type": "markdown",
   "id": "fbe591b8-ec57-4921-83bb-1482affdbffc",
   "metadata": {},
   "source": [
    "# Recommender via Movie"
   ]
  },
  {
   "cell_type": "code",
   "execution_count": 32,
   "id": "1c3c29fe-caee-4c82-8bf4-1e5f9e6495b9",
   "metadata": {},
   "outputs": [],
   "source": [
    "#load model\n",
    "kmeans_movie = pickle.load(open('../models/kmeans_movie.pkl', 'rb'))"
   ]
  },
  {
   "cell_type": "code",
   "execution_count": 33,
   "id": "bc273f6c-cfcb-4291-8f4a-b20b7581e83f",
   "metadata": {},
   "outputs": [],
   "source": [
    "df = pd.DataFrame(np.array([[1, 4], [2,5], [994,5]]),\n",
    "                   columns=['userId', 'rating'])"
   ]
  },
  {
   "cell_type": "code",
   "execution_count": 34,
   "id": "610f49d0-bbd2-4cd3-94ec-ae575a984661",
   "metadata": {},
   "outputs": [
    {
     "data": {
      "text/html": [
       "<div>\n",
       "<style scoped>\n",
       "    .dataframe tbody tr th:only-of-type {\n",
       "        vertical-align: middle;\n",
       "    }\n",
       "\n",
       "    .dataframe tbody tr th {\n",
       "        vertical-align: top;\n",
       "    }\n",
       "\n",
       "    .dataframe thead th {\n",
       "        text-align: right;\n",
       "    }\n",
       "</style>\n",
       "<table border=\"1\" class=\"dataframe\">\n",
       "  <thead>\n",
       "    <tr style=\"text-align: right;\">\n",
       "      <th></th>\n",
       "      <th>userId</th>\n",
       "      <th>rating</th>\n",
       "    </tr>\n",
       "  </thead>\n",
       "  <tbody>\n",
       "    <tr>\n",
       "      <th>0</th>\n",
       "      <td>1</td>\n",
       "      <td>4</td>\n",
       "    </tr>\n",
       "    <tr>\n",
       "      <th>1</th>\n",
       "      <td>2</td>\n",
       "      <td>5</td>\n",
       "    </tr>\n",
       "    <tr>\n",
       "      <th>2</th>\n",
       "      <td>994</td>\n",
       "      <td>5</td>\n",
       "    </tr>\n",
       "  </tbody>\n",
       "</table>\n",
       "</div>"
      ],
      "text/plain": [
       "   userId  rating\n",
       "0       1       4\n",
       "1       2       5\n",
       "2     994       5"
      ]
     },
     "execution_count": 34,
     "metadata": {},
     "output_type": "execute_result"
    }
   ],
   "source": [
    "df"
   ]
  },
  {
   "cell_type": "code",
   "execution_count": 35,
   "id": "b5b495d7-d424-4dcc-a339-4c63133ce2ff",
   "metadata": {},
   "outputs": [],
   "source": [
    "#predict\n",
    "cluster_movies = kmeans_movie.predict(df)"
   ]
  },
  {
   "cell_type": "code",
   "execution_count": 59,
   "id": "91daefcd-7385-42d2-bbf2-50208e061b52",
   "metadata": {},
   "outputs": [
    {
     "name": "stdin",
     "output_type": "stream",
     "text": [
      "Enter a movieID:  994\n"
     ]
    },
    {
     "name": "stdout",
     "output_type": "stream",
     "text": [
      "4    8\n",
      "7    7\n",
      "5    6\n",
      "3    4\n",
      "9    3\n",
      "6    3\n",
      "2    3\n",
      "1    3\n",
      "8    2\n",
      "0    2\n",
      "Name: loc_clusters_movies, dtype: int64\n",
      "(4, 8)\n"
     ]
    },
    {
     "data": {
      "text/plain": [
       "4"
      ]
     },
     "execution_count": 59,
     "metadata": {},
     "output_type": "execute_result"
    }
   ],
   "source": [
    "input_movie = input(\"Enter a movieID: \")\n",
    "input_movie = int(input_movie)\n",
    "cluster_movies = refined_dataset.loc[refined_dataset['movieId'] == input_movie, 'loc_clusters_movies']\n",
    "print(cluster_movies.value_counts())\n",
    "cluster_movies = Counter(cluster_movies).most_common(1)[0] # 4, 6 times\n",
    "print(cluster_movies)\n",
    "cluster_movies[0]"
   ]
  },
  {
   "cell_type": "code",
   "execution_count": 70,
   "id": "90d1f25a-2892-47be-ae90-88d5d15adf68",
   "metadata": {},
   "outputs": [
    {
     "name": "stdout",
     "output_type": "stream",
     "text": [
      "Adventures of Priscilla, Queen of the Desert, The (1994)\n",
      "American Pie (1999)\n",
      "And the Band Played On (1993)\n",
      "Apollo 13 (1995)\n",
      "As Good as It Gets (1997)\n"
     ]
    }
   ],
   "source": [
    "#what should the user see\n",
    "movies = refined_dataset.loc[refined_dataset['loc_clusters_movies'] == cluster_movies[0], 'movieId']\n",
    "movies\n",
    "for c in range(5):\n",
    "    if movies.iloc[c] == input:\n",
    "        continue\n",
    "    else:\n",
    "       movie1 = refined_dataset.loc[refined_dataset['movieId'] == movies.iloc[c]]\n",
    "       movie1 = movie1['title']\n",
    "       print(movie1.iloc[1])"
   ]
  },
  {
   "cell_type": "markdown",
   "id": "159cc109-14ef-4309-afc3-d0e4fa9d20f1",
   "metadata": {},
   "source": [
    "# Recommender via Movie"
   ]
  },
  {
   "cell_type": "code",
   "execution_count": 64,
   "id": "2d47e1e4-afaa-4cb5-94da-e8c4ea31447d",
   "metadata": {},
   "outputs": [],
   "source": [
    "#load model\n",
    "kmeans_user = pickle.load(open('../models/kmeans_user.pkl', 'rb'))"
   ]
  },
  {
   "cell_type": "code",
   "execution_count": 65,
   "id": "05365c77-afb6-483e-82c6-4af5c52cc3c8",
   "metadata": {},
   "outputs": [],
   "source": [
    "df = pd.DataFrame(np.array([[994, 3]]),\n",
    "                   columns=['movieId', 'rating'])"
   ]
  },
  {
   "cell_type": "code",
   "execution_count": 66,
   "id": "2b0ab32f-afca-47b2-a7b1-7a30b284c06e",
   "metadata": {},
   "outputs": [],
   "source": [
    "cluster = kmeans_user.predict(df)"
   ]
  },
  {
   "cell_type": "code",
   "execution_count": 67,
   "id": "22e08fa9-9537-4da1-aa9f-39e0b4f852b8",
   "metadata": {},
   "outputs": [
    {
     "name": "stdin",
     "output_type": "stream",
     "text": [
      "Enter a userid:  994\n"
     ]
    },
    {
     "name": "stdout",
     "output_type": "stream",
     "text": [
      "9    110\n",
      "3    100\n",
      "0     87\n",
      "2     23\n",
      "5     20\n",
      "6     11\n",
      "8      5\n",
      "1      2\n",
      "Name: loc_clusters_users, dtype: int64\n",
      "(9, 110)\n"
     ]
    },
    {
     "data": {
      "text/plain": [
       "9"
      ]
     },
     "execution_count": 67,
     "metadata": {},
     "output_type": "execute_result"
    }
   ],
   "source": [
    "input_user = input(\"Enter a userid: \")\n",
    "input_user = int(input_user)\n",
    "cluster_users = refined_dataset.loc[refined_dataset['userId'] == input_user, 'loc_clusters_users']\n",
    "print(cluster_users.value_counts())\n",
    "cluster_users = Counter(cluster_users).most_common(1)[0] # 4, 6 times\n",
    "print(cluster_users)\n",
    "cluster_users[0]"
   ]
  },
  {
   "cell_type": "code",
   "execution_count": 68,
   "id": "818d0fed-cfcc-4fb9-94c3-55c604c87c79",
   "metadata": {},
   "outputs": [
    {
     "name": "stdout",
     "output_type": "stream",
     "text": [
      "['American President, The (1995)', 'Powder (1995)', 'GoldenEye (1995)', 'Grumpier Old Men (1995)', 'Sudden Death (1995)']\n"
     ]
    }
   ],
   "source": [
    "users = refined_dataset.loc[refined_dataset['loc_clusters_users'] == cluster_users[0], 'userId']\n",
    "users\n",
    "list_movies = []\n",
    "for c in range(1000):\n",
    "    if users.iloc[c] == input_user:\n",
    "        continue\n",
    "    else:\n",
    "       movie1 = refined_dataset.loc[refined_dataset['movieId'] == users.iloc[c]]\n",
    "       movie1 = movie1['title']\n",
    "       movie1 = movie1.iloc[1]\n",
    "       list_movies.append(movie1)\n",
    "uniqueElements = list(set(list_movies))\n",
    "print(uniqueElements[0:5])"
   ]
  },
  {
   "cell_type": "code",
   "execution_count": null,
   "id": "07fd050e-ec9d-49c6-8cf7-3c60b626c39b",
   "metadata": {},
   "outputs": [],
   "source": []
  }
 ],
 "metadata": {
  "kernelspec": {
   "display_name": "Python 3 (ipykernel)",
   "language": "python",
   "name": "python3"
  },
  "language_info": {
   "codemirror_mode": {
    "name": "ipython",
    "version": 3
   },
   "file_extension": ".py",
   "mimetype": "text/x-python",
   "name": "python",
   "nbconvert_exporter": "python",
   "pygments_lexer": "ipython3",
   "version": "3.8.18"
  }
 },
 "nbformat": 4,
 "nbformat_minor": 5
}
