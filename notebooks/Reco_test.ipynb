{
 "cells": [
  {
   "cell_type": "code",
   "execution_count": 56,
   "id": "252bf1a8-95df-47e4-9e99-9fd0efcb0bfc",
   "metadata": {},
   "outputs": [],
   "source": [
    "import pandas as pd\n",
    "import pickle\n",
    "import numpy as np\n",
    "from collections import Counter"
   ]
  },
  {
   "cell_type": "code",
   "execution_count": 3,
   "id": "33cc83f1-4fab-48ea-8f53-3447c1a0a7f9",
   "metadata": {},
   "outputs": [],
   "source": [
    "refined_dataset = pd.read_csv(\"../data/refined_dataset.csv\")"
   ]
  },
  {
   "cell_type": "code",
   "execution_count": 4,
   "id": "2eb01f4f-9fa6-488e-ad82-3b049502b6b8",
   "metadata": {},
   "outputs": [
    {
     "name": "stdout",
     "output_type": "stream",
     "text": [
      "<class 'pandas.core.frame.DataFrame'>\n",
      "RangeIndex: 150001 entries, 0 to 150000\n",
      "Data columns (total 7 columns):\n",
      " #   Column               Non-Null Count   Dtype  \n",
      "---  ------               --------------   -----  \n",
      " 0   Unnamed: 0           150001 non-null  int64  \n",
      " 1   userId               150001 non-null  int64  \n",
      " 2   title                150001 non-null  object \n",
      " 3   movieId              150001 non-null  int64  \n",
      " 4   rating               150001 non-null  float64\n",
      " 5   loc_clusters_users   150001 non-null  int64  \n",
      " 6   loc_clusters_movies  150001 non-null  int64  \n",
      "dtypes: float64(1), int64(5), object(1)\n",
      "memory usage: 8.0+ MB\n"
     ]
    }
   ],
   "source": [
    "refined_dataset.info()"
   ]
  },
  {
   "cell_type": "markdown",
   "id": "fbe591b8-ec57-4921-83bb-1482affdbffc",
   "metadata": {},
   "source": [
    "# Recommender via Movie"
   ]
  },
  {
   "cell_type": "code",
   "execution_count": 32,
   "id": "1c3c29fe-caee-4c82-8bf4-1e5f9e6495b9",
   "metadata": {},
   "outputs": [],
   "source": [
    "#load model\n",
    "kmeans_movie = pickle.load(open('../models/kmeans_movie.pkl', 'rb'))"
   ]
  },
  {
   "cell_type": "code",
   "execution_count": 33,
   "id": "bc273f6c-cfcb-4291-8f4a-b20b7581e83f",
   "metadata": {},
   "outputs": [],
   "source": [
    "df = pd.DataFrame(np.array([[1, 4], [2,5], [994,5]]),\n",
    "                   columns=['userId', 'rating'])"
   ]
  },
  {
   "cell_type": "code",
   "execution_count": 34,
   "id": "610f49d0-bbd2-4cd3-94ec-ae575a984661",
   "metadata": {},
   "outputs": [
    {
     "data": {
      "text/html": [
       "<div>\n",
       "<style scoped>\n",
       "    .dataframe tbody tr th:only-of-type {\n",
       "        vertical-align: middle;\n",
       "    }\n",
       "\n",
       "    .dataframe tbody tr th {\n",
       "        vertical-align: top;\n",
       "    }\n",
       "\n",
       "    .dataframe thead th {\n",
       "        text-align: right;\n",
       "    }\n",
       "</style>\n",
       "<table border=\"1\" class=\"dataframe\">\n",
       "  <thead>\n",
       "    <tr style=\"text-align: right;\">\n",
       "      <th></th>\n",
       "      <th>userId</th>\n",
       "      <th>rating</th>\n",
       "    </tr>\n",
       "  </thead>\n",
       "  <tbody>\n",
       "    <tr>\n",
       "      <th>0</th>\n",
       "      <td>1</td>\n",
       "      <td>4</td>\n",
       "    </tr>\n",
       "    <tr>\n",
       "      <th>1</th>\n",
       "      <td>2</td>\n",
       "      <td>5</td>\n",
       "    </tr>\n",
       "    <tr>\n",
       "      <th>2</th>\n",
       "      <td>994</td>\n",
       "      <td>5</td>\n",
       "    </tr>\n",
       "  </tbody>\n",
       "</table>\n",
       "</div>"
      ],
      "text/plain": [
       "   userId  rating\n",
       "0       1       4\n",
       "1       2       5\n",
       "2     994       5"
      ]
     },
     "execution_count": 34,
     "metadata": {},
     "output_type": "execute_result"
    }
   ],
   "source": [
    "df"
   ]
  },
  {
   "cell_type": "code",
   "execution_count": 35,
   "id": "b5b495d7-d424-4dcc-a339-4c63133ce2ff",
   "metadata": {},
   "outputs": [],
   "source": [
    "#predict\n",
    "cluster_movies = kmeans_movie.predict(df)"
   ]
  },
  {
   "cell_type": "code",
   "execution_count": 59,
   "id": "91daefcd-7385-42d2-bbf2-50208e061b52",
   "metadata": {},
   "outputs": [
    {
     "name": "stdin",
     "output_type": "stream",
     "text": [
      "Enter a movieID:  994\n"
     ]
    },
    {
     "name": "stdout",
     "output_type": "stream",
     "text": [
      "4    8\n",
      "7    7\n",
      "5    6\n",
      "3    4\n",
      "9    3\n",
      "6    3\n",
      "2    3\n",
      "1    3\n",
      "8    2\n",
      "0    2\n",
      "Name: loc_clusters_movies, dtype: int64\n",
      "(4, 8)\n"
     ]
    },
    {
     "data": {
      "text/plain": [
       "4"
      ]
     },
     "execution_count": 59,
     "metadata": {},
     "output_type": "execute_result"
    }
   ],
   "source": [
    "input_movie = input(\"Enter a movieID: \")\n",
    "input_movie = int(input_movie)\n",
    "cluster_movies = refined_dataset.loc[refined_dataset['movieId'] == input_movie, 'loc_clusters_movies']\n",
    "print(cluster_movies.value_counts())\n",
    "cluster_movies = Counter(cluster_movies).most_common(1)[0] # 4, 6 times\n",
    "print(cluster_movies)\n",
    "cluster_movies[0]"
   ]
  },
  {
   "cell_type": "code",
   "execution_count": 70,
   "id": "90d1f25a-2892-47be-ae90-88d5d15adf68",
   "metadata": {},
   "outputs": [
    {
     "name": "stdout",
     "output_type": "stream",
     "text": [
      "Adventures of Priscilla, Queen of the Desert, The (1994)\n",
      "American Pie (1999)\n",
      "And the Band Played On (1993)\n",
      "Apollo 13 (1995)\n",
      "As Good as It Gets (1997)\n"
     ]
    }
   ],
   "source": [
    "#what should the user see\n",
    "movies = refined_dataset.loc[refined_dataset['loc_clusters_movies'] == cluster_movies[0], 'movieId']\n",
    "movies\n",
    "for c in range(5):\n",
    "    if movies.iloc[c] == input:\n",
    "        continue\n",
    "    else:\n",
    "       movie1 = refined_dataset.loc[refined_dataset['movieId'] == movies.iloc[c]]\n",
    "       movie1 = movie1['title']\n",
    "       print(movie1.iloc[1])"
   ]
  },
  {
   "cell_type": "markdown",
   "id": "159cc109-14ef-4309-afc3-d0e4fa9d20f1",
   "metadata": {},
   "source": [
    "# Recommender via Movie"
   ]
  },
  {
   "cell_type": "code",
   "execution_count": 64,
   "id": "2d47e1e4-afaa-4cb5-94da-e8c4ea31447d",
   "metadata": {},
   "outputs": [],
   "source": [
    "#load model\n",
    "kmeans_user = pickle.load(open('../models/kmeans_user.pkl', 'rb'))"
   ]
  },
  {
   "cell_type": "code",
   "execution_count": 65,
   "id": "05365c77-afb6-483e-82c6-4af5c52cc3c8",
   "metadata": {},
   "outputs": [],
   "source": [
    "df = pd.DataFrame(np.array([[994, 3]]),\n",
    "                   columns=['movieId', 'rating'])"
   ]
  },
  {
   "cell_type": "code",
   "execution_count": 66,
   "id": "2b0ab32f-afca-47b2-a7b1-7a30b284c06e",
   "metadata": {},
   "outputs": [],
   "source": [
    "cluster = kmeans_user.predict(df)"
   ]
  },
  {
   "cell_type": "code",
   "execution_count": 67,
   "id": "22e08fa9-9537-4da1-aa9f-39e0b4f852b8",
   "metadata": {},
   "outputs": [
    {
     "name": "stdin",
     "output_type": "stream",
     "text": [
      "Enter a userid:  994\n"
     ]
    },
    {
     "name": "stdout",
     "output_type": "stream",
     "text": [
      "9    110\n",
      "3    100\n",
      "0     87\n",
      "2     23\n",
      "5     20\n",
      "6     11\n",
      "8      5\n",
      "1      2\n",
      "Name: loc_clusters_users, dtype: int64\n",
      "(9, 110)\n"
     ]
    },
    {
     "data": {
      "text/plain": [
       "9"
      ]
     },
     "execution_count": 67,
     "metadata": {},
     "output_type": "execute_result"
    }
   ],
   "source": [
    "input_user = input(\"Enter a userid: \")\n",
    "input_user = int(input_user)\n",
    "cluster_users = refined_dataset.loc[refined_dataset['userId'] == input_user, 'loc_clusters_users']\n",
    "print(cluster_users.value_counts())\n",
    "cluster_users = Counter(cluster_users).most_common(1)[0] # 4, 6 times\n",
    "print(cluster_users)\n",
    "cluster_users[0]"
   ]
  },
  {
   "cell_type": "code",
   "execution_count": 68,
   "id": "818d0fed-cfcc-4fb9-94c3-55c604c87c79",
   "metadata": {},
   "outputs": [
    {
     "name": "stdout",
     "output_type": "stream",
     "text": [
      "['American President, The (1995)', 'Powder (1995)', 'GoldenEye (1995)', 'Grumpier Old Men (1995)', 'Sudden Death (1995)']\n"
     ]
    }
   ],
   "source": [
    "users = refined_dataset.loc[refined_dataset['loc_clusters_users'] == cluster_users[0], 'userId']\n",
    "users\n",
    "list_movies = []\n",
    "for c in range(1000):\n",
    "    if users.iloc[c] == input_user:\n",
    "        continue\n",
    "    else:\n",
    "       movie1 = refined_dataset.loc[refined_dataset['movieId'] == users.iloc[c]]\n",
    "       movie1 = movie1['title']\n",
    "       movie1 = movie1.iloc[1]\n",
    "       list_movies.append(movie1)\n",
    "uniqueElements = list(set(list_movies))\n",
    "print(uniqueElements[0:5])"
   ]
  },
  {
   "cell_type": "code",
   "execution_count": null,
   "id": "07fd050e-ec9d-49c6-8cf7-3c60b626c39b",
   "metadata": {},
   "outputs": [],
   "source": []
  }
 ],
 "metadata": {
  "kernelspec": {
   "display_name": "Python 3 (ipykernel)",
   "language": "python",
   "name": "python3"
  },
  "language_info": {
   "codemirror_mode": {
    "name": "ipython",
    "version": 3
   },
   "file_extension": ".py",
   "mimetype": "text/x-python",
   "name": "python",
   "nbconvert_exporter": "python",
   "pygments_lexer": "ipython3",
   "version": "3.8.18"
  }
 },
 "nbformat": 4,
 "nbformat_minor": 5
}
