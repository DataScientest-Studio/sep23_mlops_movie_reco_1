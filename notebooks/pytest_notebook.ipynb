{
 "cells": [
  {
   "cell_type": "code",
   "execution_count": 1,
   "id": "15aae684",
   "metadata": {
    "ExecuteTime": {
     "end_time": "2024-01-30T03:56:37.922869Z",
     "start_time": "2024-01-30T03:56:37.801016Z"
    }
   },
   "outputs": [],
   "source": [
    "import pandas._libs.interval\n",
    "import pandas as pd\n"
   ]
  },
  {
   "cell_type": "code",
   "execution_count": 44,
   "id": "04ec9059",
   "metadata": {
    "ExecuteTime": {
     "end_time": "2024-01-28T09:24:51.292075Z",
     "start_time": "2024-01-28T09:24:51.178198Z"
    }
   },
   "outputs": [],
   "source": [
    "user_db = pd.read_csv(\"../data/user_db.csv\")"
   ]
  },
  {
   "cell_type": "code",
   "execution_count": 40,
   "id": "0bfaf8ad-31d7-41a1-9c37-6b3646b2ab64",
   "metadata": {},
   "outputs": [],
   "source": [
    "final_db = user_db = pd.read_csv(\"../data/final_db.csv\")"
   ]
  },
  {
   "cell_type": "code",
   "execution_count": 45,
   "id": "1d198f9d-ebf6-4b01-a1dd-4cc05ed1b9af",
   "metadata": {},
   "outputs": [
    {
     "data": {
      "text/plain": [
       "Index(['userId', 'password'], dtype='object')"
      ]
     },
     "execution_count": 45,
     "metadata": {},
     "output_type": "execute_result"
    }
   ],
   "source": [
    "user_db.columns"
   ]
  },
  {
   "cell_type": "code",
   "execution_count": 46,
   "id": "134e3b78",
   "metadata": {
    "ExecuteTime": {
     "end_time": "2024-01-28T09:24:51.640342Z",
     "start_time": "2024-01-28T09:24:51.593247Z"
    }
   },
   "outputs": [],
   "source": [
    "password = user_db[user_db[\"userId\"] == 1][\"password\"].values"
   ]
  },
  {
   "cell_type": "code",
   "execution_count": 47,
   "id": "15c6d8db",
   "metadata": {
    "ExecuteTime": {
     "end_time": "2024-01-28T09:23:31.549653Z",
     "start_time": "2024-01-28T09:23:31.549524Z"
    }
   },
   "outputs": [],
   "source": [
    "if not password:\n",
    "    print(\"failed\")"
   ]
  },
  {
   "cell_type": "code",
   "execution_count": 43,
   "id": "3c0d4003",
   "metadata": {},
   "outputs": [
    {
     "data": {
      "text/html": [
       "<div>\n",
       "<style scoped>\n",
       "    .dataframe tbody tr th:only-of-type {\n",
       "        vertical-align: middle;\n",
       "    }\n",
       "\n",
       "    .dataframe tbody tr th {\n",
       "        vertical-align: top;\n",
       "    }\n",
       "\n",
       "    .dataframe thead th {\n",
       "        text-align: right;\n",
       "    }\n",
       "</style>\n",
       "<table border=\"1\" class=\"dataframe\">\n",
       "  <thead>\n",
       "    <tr style=\"text-align: right;\">\n",
       "      <th></th>\n",
       "      <th>userId</th>\n",
       "      <th>title</th>\n",
       "      <th>movieId</th>\n",
       "      <th>rating</th>\n",
       "      <th>loc_clusters_users</th>\n",
       "      <th>loc_clusters_movies</th>\n",
       "    </tr>\n",
       "  </thead>\n",
       "  <tbody>\n",
       "    <tr>\n",
       "      <th>103</th>\n",
       "      <td>1</td>\n",
       "      <td>Up Close and Personal (1996)</td>\n",
       "      <td>140</td>\n",
       "      <td>4.0</td>\n",
       "      <td>7</td>\n",
       "      <td>16</td>\n",
       "    </tr>\n",
       "    <tr>\n",
       "      <th>107</th>\n",
       "      <td>1</td>\n",
       "      <td>Usual Suspects, The (1995)</td>\n",
       "      <td>50</td>\n",
       "      <td>5.0</td>\n",
       "      <td>7</td>\n",
       "      <td>16</td>\n",
       "    </tr>\n",
       "    <tr>\n",
       "      <th>108</th>\n",
       "      <td>1</td>\n",
       "      <td>Mrs. Doubtfire (1993)</td>\n",
       "      <td>500</td>\n",
       "      <td>1.0</td>\n",
       "      <td>7</td>\n",
       "      <td>16</td>\n",
       "    </tr>\n",
       "    <tr>\n",
       "      <th>109</th>\n",
       "      <td>1</td>\n",
       "      <td>Mrs. Doubtfire (1993)</td>\n",
       "      <td>500</td>\n",
       "      <td>1.0</td>\n",
       "      <td>7</td>\n",
       "      <td>16</td>\n",
       "    </tr>\n",
       "    <tr>\n",
       "      <th>112</th>\n",
       "      <td>1</td>\n",
       "      <td>2001: A Space Odyssey (1968)</td>\n",
       "      <td>924</td>\n",
       "      <td>3.5</td>\n",
       "      <td>17</td>\n",
       "      <td>16</td>\n",
       "    </tr>\n",
       "    <tr>\n",
       "      <th>...</th>\n",
       "      <td>...</td>\n",
       "      <td>...</td>\n",
       "      <td>...</td>\n",
       "      <td>...</td>\n",
       "      <td>...</td>\n",
       "      <td>...</td>\n",
       "    </tr>\n",
       "    <tr>\n",
       "      <th>282</th>\n",
       "      <td>1</td>\n",
       "      <td>Witches, The (1990)</td>\n",
       "      <td>7045</td>\n",
       "      <td>3.5</td>\n",
       "      <td>23</td>\n",
       "      <td>16</td>\n",
       "    </tr>\n",
       "    <tr>\n",
       "      <th>283</th>\n",
       "      <td>1</td>\n",
       "      <td>Wizard of Oz, The (1939)</td>\n",
       "      <td>919</td>\n",
       "      <td>3.5</td>\n",
       "      <td>17</td>\n",
       "      <td>16</td>\n",
       "    </tr>\n",
       "    <tr>\n",
       "      <th>284</th>\n",
       "      <td>1</td>\n",
       "      <td>X2: X-Men United (2003)</td>\n",
       "      <td>6333</td>\n",
       "      <td>4.0</td>\n",
       "      <td>23</td>\n",
       "      <td>16</td>\n",
       "    </tr>\n",
       "    <tr>\n",
       "      <th>285</th>\n",
       "      <td>1</td>\n",
       "      <td>Yojimbo (1961)</td>\n",
       "      <td>3030</td>\n",
       "      <td>3.0</td>\n",
       "      <td>24</td>\n",
       "      <td>16</td>\n",
       "    </tr>\n",
       "    <tr>\n",
       "      <th>286</th>\n",
       "      <td>1</td>\n",
       "      <td>Young Frankenstein (1974)</td>\n",
       "      <td>1278</td>\n",
       "      <td>4.0</td>\n",
       "      <td>17</td>\n",
       "      <td>16</td>\n",
       "    </tr>\n",
       "  </tbody>\n",
       "</table>\n",
       "<p>179 rows × 6 columns</p>\n",
       "</div>"
      ],
      "text/plain": [
       "     userId                         title  movieId  rating  \\\n",
       "103       1  Up Close and Personal (1996)      140     4.0   \n",
       "107       1    Usual Suspects, The (1995)       50     5.0   \n",
       "108       1         Mrs. Doubtfire (1993)      500     1.0   \n",
       "109       1         Mrs. Doubtfire (1993)      500     1.0   \n",
       "112       1  2001: A Space Odyssey (1968)      924     3.5   \n",
       "..      ...                           ...      ...     ...   \n",
       "282       1           Witches, The (1990)     7045     3.5   \n",
       "283       1      Wizard of Oz, The (1939)      919     3.5   \n",
       "284       1       X2: X-Men United (2003)     6333     4.0   \n",
       "285       1                Yojimbo (1961)     3030     3.0   \n",
       "286       1     Young Frankenstein (1974)     1278     4.0   \n",
       "\n",
       "     loc_clusters_users  loc_clusters_movies  \n",
       "103                   7                   16  \n",
       "107                   7                   16  \n",
       "108                   7                   16  \n",
       "109                   7                   16  \n",
       "112                  17                   16  \n",
       "..                  ...                  ...  \n",
       "282                  23                   16  \n",
       "283                  17                   16  \n",
       "284                  23                   16  \n",
       "285                  24                   16  \n",
       "286                  17                   16  \n",
       "\n",
       "[179 rows x 6 columns]"
      ]
     },
     "execution_count": 43,
     "metadata": {},
     "output_type": "execute_result"
    }
   ],
   "source": [
    "final_db[final_db[\"userId\"]==1]"
   ]
  },
  {
   "cell_type": "code",
   "execution_count": null,
   "id": "87641c11-65b3-4ace-a2e6-a0bc91033bd0",
   "metadata": {},
   "outputs": [],
   "source": []
  }
 ],
 "metadata": {
  "kernelspec": {
   "display_name": "Python 3 (ipykernel)",
   "language": "python",
   "name": "python3"
  },
  "language_info": {
   "codemirror_mode": {
    "name": "ipython",
    "version": 3
   },
   "file_extension": ".py",
   "mimetype": "text/x-python",
   "name": "python",
   "nbconvert_exporter": "python",
   "pygments_lexer": "ipython3",
   "version": "3.8.18"
  },
  "toc": {
   "base_numbering": 1,
   "nav_menu": {},
   "number_sections": true,
   "sideBar": true,
   "skip_h1_title": false,
   "title_cell": "Table of Contents",
   "title_sidebar": "Contents",
   "toc_cell": false,
   "toc_position": {},
   "toc_section_display": true,
   "toc_window_display": false
  },
  "varInspector": {
   "cols": {
    "lenName": 16,
    "lenType": 16,
    "lenVar": 40
   },
   "kernels_config": {
    "python": {
     "delete_cmd_postfix": "",
     "delete_cmd_prefix": "del ",
     "library": "var_list.py",
     "varRefreshCmd": "print(var_dic_list())"
    },
    "r": {
     "delete_cmd_postfix": ") ",
     "delete_cmd_prefix": "rm(",
     "library": "var_list.r",
     "varRefreshCmd": "cat(var_dic_list()) "
    }
   },
   "types_to_exclude": [
    "module",
    "function",
    "builtin_function_or_method",
    "instance",
    "_Feature"
   ],
   "window_display": false
  }
 },
 "nbformat": 4,
 "nbformat_minor": 5
}
