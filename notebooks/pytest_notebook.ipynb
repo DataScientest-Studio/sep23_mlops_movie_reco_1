{
 "cells": [
  {
   "cell_type": "code",
   "execution_count": 1,
   "id": "9b998765-3139-46b2-b367-262258896dbe",
   "metadata": {},
   "outputs": [],
   "source": [
    "import pandas as pd"
   ]
  },
  {
   "cell_type": "code",
   "execution_count": 3,
   "id": "4ebcdef5-f041-4d2b-8ab1-7ac713993d91",
   "metadata": {},
   "outputs": [],
   "source": [
    "reco_db = pd.read_csv(\"../data/final_db.csv\")"
   ]
  },
  {
   "cell_type": "code",
   "execution_count": 4,
   "id": "149efde5-1918-4565-be91-7d7fe6eb899d",
   "metadata": {},
   "outputs": [
    {
     "data": {
      "text/plain": [
       "128715"
      ]
     },
     "execution_count": 4,
     "metadata": {},
     "output_type": "execute_result"
    }
   ],
   "source": [
    "max(reco_db[\"movieId\"])"
   ]
  },
  {
   "cell_type": "code",
   "execution_count": 6,
   "id": "4fe7f43e-85e4-4f62-8239-431447ef2c60",
   "metadata": {},
   "outputs": [
    {
     "data": {
      "text/html": [
       "<div>\n",
       "<style scoped>\n",
       "    .dataframe tbody tr th:only-of-type {\n",
       "        vertical-align: middle;\n",
       "    }\n",
       "\n",
       "    .dataframe tbody tr th {\n",
       "        vertical-align: top;\n",
       "    }\n",
       "\n",
       "    .dataframe thead th {\n",
       "        text-align: right;\n",
       "    }\n",
       "</style>\n",
       "<table border=\"1\" class=\"dataframe\">\n",
       "  <thead>\n",
       "    <tr style=\"text-align: right;\">\n",
       "      <th></th>\n",
       "      <th>userId</th>\n",
       "      <th>title</th>\n",
       "      <th>movieId</th>\n",
       "      <th>rating</th>\n",
       "      <th>loc_clusters_users</th>\n",
       "      <th>loc_clusters_movies</th>\n",
       "    </tr>\n",
       "  </thead>\n",
       "  <tbody>\n",
       "  </tbody>\n",
       "</table>\n",
       "</div>"
      ],
      "text/plain": [
       "Empty DataFrame\n",
       "Columns: [userId, title, movieId, rating, loc_clusters_users, loc_clusters_movies]\n",
       "Index: []"
      ]
     },
     "execution_count": 6,
     "metadata": {},
     "output_type": "execute_result"
    }
   ],
   "source": [
    "reco_db[reco_db[\"movieId\"]==128716]"
   ]
  },
  {
   "cell_type": "code",
   "execution_count": 8,
   "id": "a94529da-ffc9-4d0c-802b-5f1e0abc2009",
   "metadata": {},
   "outputs": [
    {
     "data": {
      "text/plain": [
       "1031"
      ]
     },
     "execution_count": 8,
     "metadata": {},
     "output_type": "execute_result"
    }
   ],
   "source": [
    "max(reco_db[\"userId\"])"
   ]
  },
  {
   "cell_type": "code",
   "execution_count": null,
   "id": "97e97e2d-0fb9-41bc-ae96-5e2551ef8244",
   "metadata": {},
   "outputs": [],
   "source": []
  }
 ],
 "metadata": {
  "kernelspec": {
   "display_name": "Python 3 (ipykernel)",
   "language": "python",
   "name": "python3"
  },
  "language_info": {
   "codemirror_mode": {
    "name": "ipython",
    "version": 3
   },
   "file_extension": ".py",
   "mimetype": "text/x-python",
   "name": "python",
   "nbconvert_exporter": "python",
   "pygments_lexer": "ipython3",
   "version": "3.8.18"
  }
 },
 "nbformat": 4,
 "nbformat_minor": 5
}
